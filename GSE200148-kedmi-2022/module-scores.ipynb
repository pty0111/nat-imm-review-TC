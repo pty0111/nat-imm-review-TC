{
 "cells": [
  {
   "cell_type": "code",
   "execution_count": 1,
   "id": "d69d9844-a54c-48a1-b068-7ac5c2343b18",
   "metadata": {
    "execution": {
     "iopub.execute_input": "2025-05-09T17:01:05.857184Z",
     "iopub.status.busy": "2025-05-09T17:01:05.855084Z",
     "iopub.status.idle": "2025-05-09T17:01:09.770271Z",
     "shell.execute_reply": "2025-05-09T17:01:09.769087Z"
    },
    "scrolled": true,
    "tags": []
   },
   "outputs": [],
   "source": [
    "setwd(\"~/0-workspace/CCR7_DC/GSE200148-kedmi-2022/\")\n",
    "\n",
    "suppressPackageStartupMessages({\n",
    "library(Seurat) # v4.4\n",
    "library(Matrix)\n",
    "library(future)\n",
    "library(dplyr)\n",
    "library(ggplot2)\n",
    "library(cowplot)\n",
    "library(ComplexHeatmap)\n",
    "library(circlize)\n",
    "library(ggrepel)\n",
    "})\n",
    "set.seed(1)\n",
    "options(future.globals.maxSize = Inf)\n",
    "\n",
    "pal <- readRDS(\"plots/palette.rds\")\n",
    "source(\"../utils.R\")"
   ]
  },
  {
   "cell_type": "code",
   "execution_count": 2,
   "id": "7f3e4f11-b552-4fda-986d-286ce6fb25f8",
   "metadata": {
    "execution": {
     "iopub.execute_input": "2025-05-09T17:01:09.789634Z",
     "iopub.status.busy": "2025-05-09T17:01:09.771855Z",
     "iopub.status.idle": "2025-05-09T17:01:09.800517Z",
     "shell.execute_reply": "2025-05-09T17:01:09.799475Z"
    }
   },
   "outputs": [],
   "source": [
    "cols <- rev(RColorBrewer::brewer.pal(11,\"Spectral\"))\n",
    "transitions <- c(0, 15, 25, 30, 40, 50, 60, 70, 75, 85, 100)\n",
    "scaled_transitions <- scales::rescale(transitions, from = c(0, 100), to = c(0, 1))\n",
    "scale.color <- scale_color_gradientn(colors = cols, values = scaled_transitions)"
   ]
  },
  {
   "cell_type": "code",
   "execution_count": 3,
   "id": "a2f410d3-19bd-4ffb-a656-ffb159988265",
   "metadata": {
    "execution": {
     "iopub.execute_input": "2025-05-09T17:01:10.071176Z",
     "iopub.status.busy": "2025-05-09T17:01:09.802076Z",
     "iopub.status.idle": "2025-05-09T17:01:10.080816Z",
     "shell.execute_reply": "2025-05-09T17:01:10.079855Z"
    },
    "tags": []
   },
   "outputs": [],
   "source": [
    "RenameGenesSeurat <- function(obj, newnames) { # Replace gene names in different slots of a Seurat object. Run this before integration. It only changes obj@assays$RNA@counts, @data and @scale.data.\n",
    "  print(\"Run this before integration. It only changes obj@assays$RNA@counts, @data and @scale.data.\")\n",
    "  RNA <- obj@assays$RNA\n",
    "  \n",
    "  if (nrow(RNA) == length(newnames)) {\n",
    "    if (length(RNA@counts)) RNA@counts@Dimnames[[1]] <- newnames\n",
    "    if (length(RNA@data)) RNA@data@Dimnames[[1]] <- newnames\n",
    "    if (length(RNA@scale.data)) rownames(RNA@scale.data) <- newnames\n",
    "    if (length(RNA@meta.features)) {\n",
    "      RNA@meta.features$prev.names <- rownames(RNA@meta.features)\n",
    "      rownames(RNA@meta.features) <- newnames\n",
    "    }\n",
    "    if (length(RNA@var.features)){\n",
    "      RNA@var.features <- rownames(RNA@meta.features[match(RNA@var.features, RNA@meta.features$prev.names), ])\n",
    "    }\n",
    "  } else {\"Unequal gene sets: nrow(RNA) != nrow(newnames)\"}\n",
    "  obj@assays$RNA <- RNA\n",
    "  return(obj)\n",
    "}"
   ]
  },
  {
   "cell_type": "code",
   "execution_count": 4,
   "id": "f957f638-6e15-4379-b638-077848e87b69",
   "metadata": {
    "execution": {
     "iopub.execute_input": "2025-05-09T17:01:10.378864Z",
     "iopub.status.busy": "2025-05-09T17:01:10.377951Z",
     "iopub.status.idle": "2025-05-09T17:01:10.387455Z",
     "shell.execute_reply": "2025-05-09T17:01:10.386460Z"
    }
   },
   "outputs": [],
   "source": [
    "select.markers <- function(fn, output.dir = 'results/markers/', pairwise = F, fc.thr = 1.5, apv.thr = 0.01, n = Inf, exCC = F, cc.genes = NULL){\n",
    "  markers <- read.csv(file = paste0(output.dir, fn, \".csv\"), header = T, stringsAsFactors = F) %>%\n",
    "    subset(!grepl(\"(^MT-)|(^RPS)|(^RPL)|(^MRPL)|(^MRPS)\", toupper(gene)))\n",
    "  if (exCC){\n",
    "    markers <- markers[!(toupper(markers$gene) %in% toupper(cc.genes)),]\n",
    "  }\n",
    "  if(pairwise){\n",
    "    markers <- subset(markers, abs(avg_log2FC) > log2(fc.thr) & p_val_adj < apv.thr)\n",
    "    markers$cluster <- ifelse(markers$avg_log2FC > 0, \"up\", \"down\")\n",
    "    if(!is.infinite(n)) markers <- markers %>% group_by(cluster) %>% top_n(n, abs(avg_log2FC))\n",
    "    markers <- markers[order(markers$avg_log2FC), ]\n",
    "  } else{\n",
    "    markers <- subset(markers, avg_log2FC > log2(fc.thr) & p_val_adj < apv.thr)\n",
    "    if(any(duplicated(markers$gene))) markers <- markers %>% group_by(gene) %>% top_n(1, avg_log2FC)\n",
    "    if(!is.infinite(n)) markers <- markers %>% group_by(cluster) %>% top_n(n, avg_log2FC)\n",
    "    markers <- markers[order(markers$cluster, -markers$avg_log2FC), ]\n",
    "  }\n",
    "  return(markers)\n",
    "}"
   ]
  },
  {
   "cell_type": "markdown",
   "id": "a93ef6b7-2438-47e5-8120-da2942954ca9",
   "metadata": {},
   "source": [
    "# Load SRO"
   ]
  },
  {
   "cell_type": "code",
   "execution_count": 5,
   "id": "999a9aa4-2565-4e4e-9268-e8243e9dec0b",
   "metadata": {
    "execution": {
     "iopub.execute_input": "2025-05-09T17:01:11.416443Z",
     "iopub.status.busy": "2025-05-09T17:01:11.415519Z",
     "iopub.status.idle": "2025-05-09T17:01:18.003757Z",
     "shell.execute_reply": "2025-05-09T17:01:18.001757Z"
    }
   },
   "outputs": [],
   "source": [
    "# load SRO ####\n",
    "sro.ln <- readRDS(\"../TC_all_LN/results/SRO_subset.rds\")"
   ]
  },
  {
   "cell_type": "code",
   "execution_count": 6,
   "id": "4913320f-18e8-4f62-b3fd-329d1fd2cd2b",
   "metadata": {
    "execution": {
     "iopub.execute_input": "2025-05-09T17:01:18.006788Z",
     "iopub.status.busy": "2025-05-09T17:01:18.005857Z",
     "iopub.status.idle": "2025-05-09T17:01:28.629326Z",
     "shell.execute_reply": "2025-05-09T17:01:28.628149Z"
    }
   },
   "outputs": [],
   "source": [
    "pref.sro <- 'results/'; pref.p.sro <- 'plots/'\n",
    "sro <- readRDS(paste0(pref.sro, \"SRO.rds\"))"
   ]
  },
  {
   "cell_type": "code",
   "execution_count": 7,
   "id": "6ead7635-2f9e-44c7-99e0-ec8931968a31",
   "metadata": {
    "execution": {
     "iopub.execute_input": "2025-05-09T17:01:28.631573Z",
     "iopub.status.busy": "2025-05-09T17:01:28.630807Z",
     "iopub.status.idle": "2025-05-09T17:01:28.645313Z",
     "shell.execute_reply": "2025-05-09T17:01:28.644361Z"
    }
   },
   "outputs": [
    {
     "data": {
      "text/html": [
       "<style>\n",
       ".list-inline {list-style: none; margin:0; padding: 0}\n",
       ".list-inline>li {display: inline-block}\n",
       ".list-inline>li:not(:last-child)::after {content: \"\\00b7\"; padding: 0 .5ex}\n",
       "</style>\n",
       "<ol class=list-inline><li>'MRPL15'</li><li>'LYPLA1'</li><li>'GM37988'</li><li>'TCEA1'</li><li>'ATP6V1H'</li><li>'RB1CC1'</li></ol>\n"
      ],
      "text/latex": [
       "\\begin{enumerate*}\n",
       "\\item 'MRPL15'\n",
       "\\item 'LYPLA1'\n",
       "\\item 'GM37988'\n",
       "\\item 'TCEA1'\n",
       "\\item 'ATP6V1H'\n",
       "\\item 'RB1CC1'\n",
       "\\end{enumerate*}\n"
      ],
      "text/markdown": [
       "1. 'MRPL15'\n",
       "2. 'LYPLA1'\n",
       "3. 'GM37988'\n",
       "4. 'TCEA1'\n",
       "5. 'ATP6V1H'\n",
       "6. 'RB1CC1'\n",
       "\n",
       "\n"
      ],
      "text/plain": [
       "[1] \"MRPL15\"  \"LYPLA1\"  \"GM37988\" \"TCEA1\"   \"ATP6V1H\" \"RB1CC1\" "
      ]
     },
     "metadata": {},
     "output_type": "display_data"
    }
   ],
   "source": [
    "head(rownames(sro))"
   ]
  },
  {
   "cell_type": "code",
   "execution_count": 8,
   "id": "bb3c71a4-bef2-4fca-a6bc-febc69861b46",
   "metadata": {
    "execution": {
     "iopub.execute_input": "2025-05-09T16:47:01.078209Z",
     "iopub.status.busy": "2025-05-09T16:47:01.077263Z",
     "iopub.status.idle": "2025-05-09T16:47:01.086452Z",
     "shell.execute_reply": "2025-05-09T16:47:01.085460Z"
    }
   },
   "outputs": [],
   "source": [
    "# sro <- RenameGenesSeurat(sro, toupper(rownames(sro)))"
   ]
  },
  {
   "cell_type": "markdown",
   "id": "a3c571ee-4d72-467b-88af-181cdb649153",
   "metadata": {},
   "source": [
    "## TC module scores"
   ]
  },
  {
   "cell_type": "code",
   "execution_count": 8,
   "id": "30ee2ce5-fa59-4ae0-ac15-016735e6d426",
   "metadata": {
    "execution": {
     "iopub.execute_input": "2025-05-09T17:01:59.638412Z",
     "iopub.status.busy": "2025-05-09T17:01:59.637425Z",
     "iopub.status.idle": "2025-05-09T17:01:59.848540Z",
     "shell.execute_reply": "2025-05-09T17:01:59.847321Z"
    }
   },
   "outputs": [],
   "source": [
    "# load markers ####\n",
    "markers.ln <- select.markers(\"TC-clusters\", output.dir = paste0('../TC_all_LN/results/markers/'))"
   ]
  },
  {
   "cell_type": "code",
   "execution_count": 9,
   "id": "73d5d0a5-ba3b-438c-a0dc-db7d3d445628",
   "metadata": {
    "execution": {
     "iopub.execute_input": "2025-05-09T17:01:59.895914Z",
     "iopub.status.busy": "2025-05-09T17:01:59.895061Z",
     "iopub.status.idle": "2025-05-09T17:01:59.915050Z",
     "shell.execute_reply": "2025-05-09T17:01:59.914031Z"
    }
   },
   "outputs": [],
   "source": [
    "tc1.markers.ln <- markers.ln[markers.ln$cluster == 3,]\n",
    "tc2.markers.ln <- markers.ln[markers.ln$cluster == 2,]\n",
    "tc3.markers.ln <- markers.ln[markers.ln$cluster == 1,]\n",
    "tc4.markers.ln <- markers.ln[markers.ln$cluster == 5,]\n",
    "ki_tc.markers.ln <- markers.ln[markers.ln$cluster == 7,]\n",
    "transitional.markers.ln <- markers.ln[markers.ln$cluster == 4,]"
   ]
  },
  {
   "cell_type": "code",
   "execution_count": 10,
   "id": "ea60732e-62ac-4c1e-8aa6-83ef65643e60",
   "metadata": {
    "execution": {
     "iopub.execute_input": "2025-05-09T17:02:00.213402Z",
     "iopub.status.busy": "2025-05-09T17:02:00.212396Z",
     "iopub.status.idle": "2025-05-09T17:02:00.242681Z",
     "shell.execute_reply": "2025-05-09T17:02:00.241532Z"
    }
   },
   "outputs": [
    {
     "data": {
      "text/html": [
       "151"
      ],
      "text/latex": [
       "151"
      ],
      "text/markdown": [
       "151"
      ],
      "text/plain": [
       "[1] 151"
      ]
     },
     "metadata": {},
     "output_type": "display_data"
    },
    {
     "data": {
      "text/html": [
       "149"
      ],
      "text/latex": [
       "149"
      ],
      "text/markdown": [
       "149"
      ],
      "text/plain": [
       "[1] 149"
      ]
     },
     "metadata": {},
     "output_type": "display_data"
    },
    {
     "data": {
      "text/html": [
       "198"
      ],
      "text/latex": [
       "198"
      ],
      "text/markdown": [
       "198"
      ],
      "text/plain": [
       "[1] 198"
      ]
     },
     "metadata": {},
     "output_type": "display_data"
    },
    {
     "data": {
      "text/html": [
       "212"
      ],
      "text/latex": [
       "212"
      ],
      "text/markdown": [
       "212"
      ],
      "text/plain": [
       "[1] 212"
      ]
     },
     "metadata": {},
     "output_type": "display_data"
    },
    {
     "data": {
      "text/html": [
       "287"
      ],
      "text/latex": [
       "287"
      ],
      "text/markdown": [
       "287"
      ],
      "text/plain": [
       "[1] 287"
      ]
     },
     "metadata": {},
     "output_type": "display_data"
    },
    {
     "data": {
      "text/html": [
       "82"
      ],
      "text/latex": [
       "82"
      ],
      "text/markdown": [
       "82"
      ],
      "text/plain": [
       "[1] 82"
      ]
     },
     "metadata": {},
     "output_type": "display_data"
    }
   ],
   "source": [
    "sum(toupper(tc1.markers.ln$gene) %in% rownames(sro))\n",
    "sum(toupper(tc2.markers.ln$gene) %in% rownames(sro))\n",
    "sum(toupper(tc3.markers.ln$gene) %in% rownames(sro))\n",
    "sum(toupper(tc4.markers.ln$gene) %in% rownames(sro))\n",
    "sum(toupper(ki_tc.markers.ln$gene) %in% rownames(sro))\n",
    "sum(toupper(transitional.markers.ln$gene) %in% rownames(sro))"
   ]
  },
  {
   "cell_type": "code",
   "execution_count": 11,
   "id": "c087ac12-4f2c-44bb-a455-9e26822923f4",
   "metadata": {
    "execution": {
     "iopub.execute_input": "2025-05-09T17:02:00.590765Z",
     "iopub.status.busy": "2025-05-09T17:02:00.589672Z",
     "iopub.status.idle": "2025-05-09T17:02:05.748237Z",
     "shell.execute_reply": "2025-05-09T17:02:05.747076Z"
    },
    "scrolled": true
   },
   "outputs": [
    {
     "name": "stderr",
     "output_type": "stream",
     "text": [
      "Warning message:\n",
      "“The following features are not present in the object: CCT6A, not searching for symbol synonyms”\n",
      "Warning message:\n",
      "“The following features are not present in the object: GM43305, AI506816, not searching for symbol synonyms”\n",
      "Warning message:\n",
      "“The following features are not present in the object: FZD10OS, not searching for symbol synonyms”\n",
      "Warning message:\n",
      "“The following features are not present in the object: OTULINL, PRORP, TRMT61B, IFI30, not searching for symbol synonyms”\n",
      "Warning message:\n",
      "“The following features are not present in the object: PAKAP.1, not searching for symbol synonyms”\n",
      "Warning message:\n",
      "“The following features are not present in the object: GM36723, PLAAT3, GAS5, ILRUN, DLEU2, not searching for symbol synonyms”\n"
     ]
    }
   ],
   "source": [
    "sro <- AddModuleScore(sro, list(toupper(transitional.markers.ln$gene)), name = \"transitional.markers\")\n",
    "sro <- AddModuleScore(sro, list(toupper(ki_tc.markers.ln$gene)), name = \"ki_tc.markers\")\n",
    "sro <- AddModuleScore(sro, list(toupper(tc1.markers.ln$gene)), name = \"tc1.markers\")\n",
    "sro <- AddModuleScore(sro, list(toupper(tc2.markers.ln$gene)), name = \"tc2.markers\")\n",
    "sro <- AddModuleScore(sro, list(toupper(tc3.markers.ln$gene)), name = \"tc3.markers\")\n",
    "sro <- AddModuleScore(sro, list(toupper(tc4.markers.ln$gene)), name = \"tc4.markers\")"
   ]
  },
  {
   "cell_type": "code",
   "execution_count": 12,
   "id": "2156b09d-73fc-4a17-a590-b6322e5d0e61",
   "metadata": {
    "execution": {
     "iopub.execute_input": "2025-05-09T17:02:05.750536Z",
     "iopub.status.busy": "2025-05-09T17:02:05.749742Z",
     "iopub.status.idle": "2025-05-09T17:02:05.760547Z",
     "shell.execute_reply": "2025-05-09T17:02:05.759636Z"
    }
   },
   "outputs": [
    {
     "data": {
      "text/html": [
       "'plots/'"
      ],
      "text/latex": [
       "'plots/'"
      ],
      "text/markdown": [
       "'plots/'"
      ],
      "text/plain": [
       "[1] \"plots/\""
      ]
     },
     "metadata": {},
     "output_type": "display_data"
    }
   ],
   "source": [
    "pref.p.sro"
   ]
  },
  {
   "cell_type": "code",
   "execution_count": 13,
   "id": "cb63ab66-0e18-4eb1-a9cc-f6c45c05edde",
   "metadata": {
    "execution": {
     "iopub.execute_input": "2025-05-09T17:02:05.762736Z",
     "iopub.status.busy": "2025-05-09T17:02:05.761997Z",
     "iopub.status.idle": "2025-05-09T17:02:05.770394Z",
     "shell.execute_reply": "2025-05-09T17:02:05.769477Z"
    }
   },
   "outputs": [],
   "source": [
    "dir.create(paste0(pref.p.sro, \"module-scores\"))"
   ]
  },
  {
   "cell_type": "code",
   "execution_count": 14,
   "id": "447d4618-97b2-494b-8b5a-536ac7788923",
   "metadata": {
    "execution": {
     "iopub.execute_input": "2025-05-09T17:02:05.772563Z",
     "iopub.status.busy": "2025-05-09T17:02:05.771813Z",
     "iopub.status.idle": "2025-05-09T17:02:05.781026Z",
     "shell.execute_reply": "2025-05-09T17:02:05.780103Z"
    }
   },
   "outputs": [],
   "source": [
    "f.w <- 12; f.h <- 10"
   ]
  },
  {
   "cell_type": "code",
   "execution_count": 15,
   "id": "b548b19d-2649-491b-88df-1d9db0e4f6e6",
   "metadata": {
    "execution": {
     "iopub.execute_input": "2025-05-09T17:02:05.783202Z",
     "iopub.status.busy": "2025-05-09T17:02:05.782450Z",
     "iopub.status.idle": "2025-05-09T17:02:08.085140Z",
     "shell.execute_reply": "2025-05-09T17:02:08.084036Z"
    }
   },
   "outputs": [
    {
     "data": {
      "text/html": [
       "<strong>pdf:</strong> 2"
      ],
      "text/latex": [
       "\\textbf{pdf:} 2"
      ],
      "text/markdown": [
       "**pdf:** 2"
      ],
      "text/plain": [
       "pdf \n",
       "  2 "
      ]
     },
     "metadata": {},
     "output_type": "display_data"
    },
    {
     "data": {
      "text/html": [
       "<strong>pdf:</strong> 2"
      ],
      "text/latex": [
       "\\textbf{pdf:} 2"
      ],
      "text/markdown": [
       "**pdf:** 2"
      ],
      "text/plain": [
       "pdf \n",
       "  2 "
      ]
     },
     "metadata": {},
     "output_type": "display_data"
    },
    {
     "data": {
      "text/html": [
       "<strong>pdf:</strong> 2"
      ],
      "text/latex": [
       "\\textbf{pdf:} 2"
      ],
      "text/markdown": [
       "**pdf:** 2"
      ],
      "text/plain": [
       "pdf \n",
       "  2 "
      ]
     },
     "metadata": {},
     "output_type": "display_data"
    },
    {
     "data": {
      "text/html": [
       "<strong>pdf:</strong> 2"
      ],
      "text/latex": [
       "\\textbf{pdf:} 2"
      ],
      "text/markdown": [
       "**pdf:** 2"
      ],
      "text/plain": [
       "pdf \n",
       "  2 "
      ]
     },
     "metadata": {},
     "output_type": "display_data"
    },
    {
     "data": {
      "text/html": [
       "<strong>pdf:</strong> 2"
      ],
      "text/latex": [
       "\\textbf{pdf:} 2"
      ],
      "text/markdown": [
       "**pdf:** 2"
      ],
      "text/plain": [
       "pdf \n",
       "  2 "
      ]
     },
     "metadata": {},
     "output_type": "display_data"
    },
    {
     "data": {
      "text/html": [
       "<strong>pdf:</strong> 2"
      ],
      "text/latex": [
       "\\textbf{pdf:} 2"
      ],
      "text/markdown": [
       "**pdf:** 2"
      ],
      "text/plain": [
       "pdf \n",
       "  2 "
      ]
     },
     "metadata": {},
     "output_type": "display_data"
    }
   ],
   "source": [
    "pdf(paste0(pref.p.sro, \"module-scores/UMAP-transitional_markers-from-TC_all_LN.pdf\"), width = f.w, height = f.h)\n",
    "print(plot.continuous.value(\n",
    "    sro, scale.color = scale.color,\n",
    "    vis = sro@reductions$umap@cell.embeddings,\n",
    "    idx = rownames(sro@meta.data), point.size = 1,\n",
    "    val = get.named.vector.sro(sro, paste0(\"transitional.markers1\")), val.name = 'module\\nscore') + ggtitle(\"transitional.markers\"))\n",
    "dev.off()\n",
    "\n",
    "pdf(paste0(pref.p.sro, \"module-scores/UMAP-TCI_markers-from-TC_all_LN.pdf\"), width = f.w, height = f.h)\n",
    "print(plot.continuous.value(\n",
    "    sro, scale.color = scale.color,\n",
    "    vis = sro@reductions$umap@cell.embeddings,\n",
    "    idx = rownames(sro@meta.data), point.size = 1,\n",
    "    val = get.named.vector.sro(sro, paste0(\"tc1.markers1\")), val.name = 'module\\nscore') + ggtitle(\"TC I markers\"))\n",
    "dev.off()\n",
    "\n",
    "pdf(paste0(pref.p.sro, \"module-scores/UMAP-TCII_markers-from-TC_all_LN.pdf\"), width = f.w, height = f.h)\n",
    "print(plot.continuous.value(\n",
    "    sro, scale.color = scale.color,\n",
    "    vis = sro@reductions$umap@cell.embeddings,\n",
    "    idx = rownames(sro@meta.data), point.size = 1,\n",
    "    val = get.named.vector.sro(sro, paste0(\"tc2.markers1\")), val.name = 'module\\nscore') + ggtitle(\"TC II markers\"))\n",
    "dev.off()\n",
    "\n",
    "pdf(paste0(pref.p.sro, \"module-scores/UMAP-TCIII_markers-from-TC_all_LN.pdf\"), width = f.w, height = f.h)\n",
    "print(plot.continuous.value(\n",
    "    sro, scale.color = scale.color,\n",
    "    vis = sro@reductions$umap@cell.embeddings,\n",
    "    idx = rownames(sro@meta.data), point.size = 1,\n",
    "    val = get.named.vector.sro(sro, paste0(\"tc3.markers1\")), val.name = 'module\\nscore') + ggtitle(\"TC III markers\"))\n",
    "dev.off()\n",
    "\n",
    "pdf(paste0(pref.p.sro, \"module-scores/UMAP-TCIV_markers-from-TC_all_LN.pdf\"), width = f.w, height = f.h)\n",
    "print(plot.continuous.value(\n",
    "    sro, scale.color = scale.color,\n",
    "    vis = sro@reductions$umap@cell.embeddings,\n",
    "    idx = rownames(sro@meta.data), point.size = 1,\n",
    "    val = get.named.vector.sro(sro, paste0(\"tc4.markers1\")), val.name = 'module\\nscore') + ggtitle(\"TC IV markers\"))\n",
    "dev.off()\n",
    "\n",
    "pdf(paste0(pref.p.sro, \"module-scores/UMAP-KI_TC_markers-from-TC_all_LN.pdf\"), width = f.w, height = f.h)\n",
    "print(plot.continuous.value(\n",
    "    sro, scale.color = scale.color,\n",
    "    vis = sro@reductions$umap@cell.embeddings,\n",
    "    idx = rownames(sro@meta.data), point.size = 1,\n",
    "    val = get.named.vector.sro(sro, paste0(\"ki_tc.markers1\")), val.name = 'module\\nscore') + ggtitle(\"Ki67+TC markers\"))\n",
    "dev.off()"
   ]
  },
  {
   "cell_type": "code",
   "execution_count": 16,
   "id": "75666f9e-1daa-492e-9979-2a7979464b10",
   "metadata": {
    "execution": {
     "iopub.execute_input": "2025-05-09T17:02:08.087494Z",
     "iopub.status.busy": "2025-05-09T17:02:08.086720Z",
     "iopub.status.idle": "2025-05-09T17:02:08.096146Z",
     "shell.execute_reply": "2025-05-09T17:02:08.095044Z"
    }
   },
   "outputs": [],
   "source": [
    "module.scores <- sro@meta.data[grep(\"markers1\", colnames(sro@meta.data), value = T)]"
   ]
  },
  {
   "cell_type": "code",
   "execution_count": 17,
   "id": "adca348b-dbab-4dd4-a7d9-a0162a0d0f7a",
   "metadata": {
    "execution": {
     "iopub.execute_input": "2025-05-09T17:02:08.098771Z",
     "iopub.status.busy": "2025-05-09T17:02:08.097852Z",
     "iopub.status.idle": "2025-05-09T17:02:08.107617Z",
     "shell.execute_reply": "2025-05-09T17:02:08.106520Z"
    }
   },
   "outputs": [],
   "source": [
    "dir.create(paste0(pref.sro, \"module-scores/\"))"
   ]
  },
  {
   "cell_type": "code",
   "execution_count": 18,
   "id": "e7586c3d-69e4-4f16-908a-fa289c01ca19",
   "metadata": {
    "execution": {
     "iopub.execute_input": "2025-05-09T17:02:08.110249Z",
     "iopub.status.busy": "2025-05-09T17:02:08.109331Z",
     "iopub.status.idle": "2025-05-09T17:02:08.220515Z",
     "shell.execute_reply": "2025-05-09T17:02:08.219453Z"
    }
   },
   "outputs": [],
   "source": [
    "write.csv(module.scores, paste0(pref.sro, \"module-scores/TC_all_LN-scores.csv\"), quote = F)"
   ]
  },
  {
   "cell_type": "code",
   "execution_count": null,
   "id": "754f5fcd-6404-4a28-8fad-6332bec016d9",
   "metadata": {},
   "outputs": [],
   "source": []
  }
 ],
 "metadata": {
  "kernelspec": {
   "display_name": "R [conda env:multiome]",
   "language": "R",
   "name": "conda-env-multiome-r"
  },
  "language_info": {
   "codemirror_mode": "r",
   "file_extension": ".r",
   "mimetype": "text/x-r-source",
   "name": "R",
   "pygments_lexer": "r",
   "version": "4.3.3"
  },
  "toc-autonumbering": true
 },
 "nbformat": 4,
 "nbformat_minor": 5
}
