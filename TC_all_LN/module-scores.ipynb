{
 "cells": [
  {
   "cell_type": "code",
   "execution_count": 1,
   "id": "aa9f2223-66af-417c-9646-a3aad77c0267",
   "metadata": {
    "execution": {
     "iopub.execute_input": "2025-02-10T03:45:38.333973Z",
     "iopub.status.busy": "2025-02-10T03:45:38.327674Z",
     "iopub.status.idle": "2025-02-10T03:45:48.817842Z",
     "shell.execute_reply": "2025-02-10T03:45:48.816280Z"
    }
   },
   "outputs": [
    {
     "name": "stderr",
     "output_type": "stream",
     "text": [
      "The legacy packages maptools, rgdal, and rgeos, underpinning this package\n",
      "will retire shortly. Please refer to R-spatial evolution reports on\n",
      "https://r-spatial.org/r/2023/05/15/evolution4.html for details.\n",
      "This package is now running under evolution status 0 \n",
      "\n",
      "Attaching SeuratObject\n",
      "\n",
      "Seurat v4 was just loaded with SeuratObject v5; disabling v5 assays and\n",
      "validation routines, and ensuring assays work in strict v3/v4\n",
      "compatibility mode\n",
      "\n",
      "\n",
      "Attaching package: ‘dplyr’\n",
      "\n",
      "\n",
      "The following objects are masked from ‘package:stats’:\n",
      "\n",
      "    filter, lag\n",
      "\n",
      "\n",
      "The following objects are masked from ‘package:base’:\n",
      "\n",
      "    intersect, setdiff, setequal, union\n",
      "\n",
      "\n",
      "Loading required package: grid\n",
      "\n",
      "========================================\n",
      "ComplexHeatmap version 2.14.0\n",
      "Bioconductor page: http://bioconductor.org/packages/ComplexHeatmap/\n",
      "Github page: https://github.com/jokergoo/ComplexHeatmap\n",
      "Documentation: http://jokergoo.github.io/ComplexHeatmap-reference\n",
      "\n",
      "If you use it in published research, please cite either one:\n",
      "- Gu, Z. Complex Heatmap Visualization. iMeta 2022.\n",
      "- Gu, Z. Complex heatmaps reveal patterns and correlations in multidimensional \n",
      "    genomic data. Bioinformatics 2016.\n",
      "\n",
      "\n",
      "The new InteractiveComplexHeatmap package can directly export static \n",
      "complex heatmaps into an interactive Shiny app with zero effort. Have a try!\n",
      "\n",
      "This message can be suppressed by:\n",
      "  suppressPackageStartupMessages(library(ComplexHeatmap))\n",
      "========================================\n",
      "\n",
      "\n",
      "========================================\n",
      "circlize version 0.4.15\n",
      "CRAN page: https://cran.r-project.org/package=circlize\n",
      "Github page: https://github.com/jokergoo/circlize\n",
      "Documentation: https://jokergoo.github.io/circlize_book/book/\n",
      "\n",
      "If you use it in published research, please cite:\n",
      "Gu, Z. circlize implements and enhances circular visualization\n",
      "  in R. Bioinformatics 2014.\n",
      "\n",
      "This message can be suppressed by:\n",
      "  suppressPackageStartupMessages(library(circlize))\n",
      "========================================\n",
      "\n",
      "\n"
     ]
    }
   ],
   "source": [
    "setwd(\"~/0-workspace/CCR7_DC/TC_all_LN/\")\n",
    "\n",
    "library(Seurat) # v4.4\n",
    "library(Matrix)\n",
    "library(future)\n",
    "library(dplyr)\n",
    "library(ggplot2)\n",
    "library(cowplot)\n",
    "library(ComplexHeatmap)\n",
    "library(circlize)\n",
    "library(ggrepel)\n",
    "\n",
    "set.seed(1)\n",
    "options(future.globals.maxSize = Inf)\n",
    "\n",
    "pal <- readRDS(\"plots/palette.rds\")"
   ]
  },
  {
   "cell_type": "code",
   "execution_count": 2,
   "id": "a2f410d3-19bd-4ffb-a656-ffb159988265",
   "metadata": {
    "execution": {
     "iopub.execute_input": "2025-02-10T03:45:48.845751Z",
     "iopub.status.busy": "2025-02-10T03:45:48.820140Z",
     "iopub.status.idle": "2025-02-10T03:45:48.855639Z",
     "shell.execute_reply": "2025-02-10T03:45:48.854147Z"
    }
   },
   "outputs": [],
   "source": [
    "RenameGenesSeurat <- function(obj, newnames) { # Replace gene names in different slots of a Seurat object. Run this before integration. It only changes obj@assays$RNA@counts, @data and @scale.data.\n",
    "  print(\"Run this before integration. It only changes obj@assays$RNA@counts, @data and @scale.data.\")\n",
    "  RNA <- obj@assays$RNA\n",
    "  \n",
    "  if (nrow(RNA) == length(newnames)) {\n",
    "    if (length(RNA@counts)) RNA@counts@Dimnames[[1]] <- newnames\n",
    "    if (length(RNA@data)) RNA@data@Dimnames[[1]] <- newnames\n",
    "    if (length(RNA@scale.data)) rownames(RNA@scale.data) <- newnames\n",
    "    if (length(RNA@meta.features)) {\n",
    "      RNA@meta.features$prev.names <- rownames(RNA@meta.features)\n",
    "      rownames(RNA@meta.features) <- newnames\n",
    "    }\n",
    "    if (length(RNA@var.features)){\n",
    "      RNA@var.features <- rownames(RNA@meta.features[match(RNA@var.features, RNA@meta.features$prev.names), ])\n",
    "    }\n",
    "  } else {\"Unequal gene sets: nrow(RNA) != nrow(newnames)\"}\n",
    "  obj@assays$RNA <- RNA\n",
    "  return(obj)\n",
    "}"
   ]
  },
  {
   "cell_type": "code",
   "execution_count": 6,
   "id": "d5cb9633-d887-4163-ba2b-94c151434c5e",
   "metadata": {
    "execution": {
     "iopub.execute_input": "2024-11-06T02:55:56.042037Z",
     "iopub.status.busy": "2024-11-06T02:55:56.039229Z",
     "iopub.status.idle": "2024-11-06T02:55:56.062028Z",
     "shell.execute_reply": "2024-11-06T02:55:56.059212Z"
    }
   },
   "outputs": [],
   "source": [
    "select.markers <- function(fn, output.dir = 'results/markers/', pairwise = F, fc.thr = 1.5, apv.thr = 0.01, n = Inf, exCC = F, cc.genes = NULL){\n",
    "  markers <- read.csv(file = paste0(output.dir, fn, \".csv\"), header = T, stringsAsFactors = F) %>%\n",
    "    subset(!grepl(\"(^MT-)|(^RPS)|(^RPL)|(^MRPL)|(^MRPS)\", toupper(gene)))\n",
    "  if (exCC){\n",
    "    markers <- markers[!(toupper(markers$gene) %in% toupper(cc.genes)),]\n",
    "  }\n",
    "  if(pairwise){\n",
    "    markers <- subset(markers, abs(avg_log2FC) > log2(fc.thr) & p_val_adj < apv.thr)\n",
    "    markers$cluster <- ifelse(markers$avg_log2FC > 0, \"up\", \"down\")\n",
    "    if(!is.infinite(n)) markers <- markers %>% group_by(cluster) %>% top_n(n, abs(avg_log2FC))\n",
    "    markers <- markers[order(markers$avg_log2FC), ]\n",
    "  } else{\n",
    "    markers <- subset(markers, avg_log2FC > log2(fc.thr) & p_val_adj < apv.thr)\n",
    "    if(any(duplicated(markers$gene))) markers <- markers %>% group_by(gene) %>% top_n(1, avg_log2FC)\n",
    "    if(!is.infinite(n)) markers <- markers %>% group_by(cluster) %>% top_n(n, avg_log2FC)\n",
    "    markers <- markers[order(markers$cluster, -markers$avg_log2FC), ]\n",
    "  }\n",
    "  return(markers)\n",
    "}"
   ]
  },
  {
   "cell_type": "code",
   "execution_count": 26,
   "id": "3439e3be-2276-4c02-9a21-b315986f0bd3",
   "metadata": {
    "execution": {
     "iopub.execute_input": "2024-11-06T02:59:06.645588Z",
     "iopub.status.busy": "2024-11-06T02:59:06.642813Z",
     "iopub.status.idle": "2024-11-06T02:59:06.669883Z",
     "shell.execute_reply": "2024-11-06T02:59:06.667117Z"
    }
   },
   "outputs": [],
   "source": [
    "plot.continuous.value <- function(\n",
    "    sro = NULL, idx = NULL,\n",
    "    vis = sro@reductions$umap@cell.embeddings,\n",
    "    val, val.name,\n",
    "    scale.color=scale_color_distiller(palette = \"Spectral\"), point.size = 1\n",
    "){\n",
    "  ggplot() +\n",
    "    geom_point(\n",
    "      mapping = aes(x = vis[idx, 1], y = vis[idx, 2], color = val[idx]),\n",
    "      size = point.size, alpha = 0.8\n",
    "    ) +\n",
    "    scale.color + theme_classic() + labs(color = val.name)+\n",
    "    theme(axis.ticks = element_blank(), axis.text = element_blank(), axis.title = element_blank())\n",
    "}\n",
    "\n",
    "get.named.vector.sro <- function(sro, colname){\n",
    "  val.vec <- sro@meta.data[, colname]; names(val.vec) <- rownames(sro@meta.data)\n",
    "  return(val.vec)\n",
    "}\n"
   ]
  },
  {
   "cell_type": "markdown",
   "id": "67ea5d7f-5867-4a6a-89b6-1026272614ce",
   "metadata": {},
   "source": [
    "# DC module scores from Colonna data"
   ]
  },
  {
   "cell_type": "code",
   "execution_count": 3,
   "id": "39ab5a6f-fdff-4100-beeb-de19f13eb616",
   "metadata": {
    "execution": {
     "iopub.execute_input": "2024-11-06T02:55:36.190616Z",
     "iopub.status.busy": "2024-11-06T02:55:36.188224Z",
     "iopub.status.idle": "2024-11-06T02:55:43.994842Z",
     "shell.execute_reply": "2024-11-06T02:55:43.993248Z"
    }
   },
   "outputs": [],
   "source": [
    "pref.sro <- \"results/\"; pref.p.sro <- \"plots/\"\n",
    "sro <- readRDS(paste0(pref.sro, \"SRO_subset.rds\"))"
   ]
  },
  {
   "cell_type": "code",
   "execution_count": 4,
   "id": "8608d8b9-2484-4e49-8811-856fb0fab403",
   "metadata": {
    "execution": {
     "iopub.execute_input": "2024-11-06T02:55:43.998390Z",
     "iopub.status.busy": "2024-11-06T02:55:43.997234Z",
     "iopub.status.idle": "2024-11-06T02:55:44.014157Z",
     "shell.execute_reply": "2024-11-06T02:55:44.012796Z"
    }
   },
   "outputs": [
    {
     "data": {
      "text/html": [
       "<style>\n",
       ".list-inline {list-style: none; margin:0; padding: 0}\n",
       ".list-inline>li {display: inline-block}\n",
       ".list-inline>li:not(:last-child)::after {content: \"\\00b7\"; padding: 0 .5ex}\n",
       "</style>\n",
       "<ol class=list-inline><li>'XKR4'</li><li>'GM1992'</li><li>'MRPL15'</li><li>'LYPLA1'</li><li>'TCEA1'</li><li>'RGS20'</li></ol>\n"
      ],
      "text/latex": [
       "\\begin{enumerate*}\n",
       "\\item 'XKR4'\n",
       "\\item 'GM1992'\n",
       "\\item 'MRPL15'\n",
       "\\item 'LYPLA1'\n",
       "\\item 'TCEA1'\n",
       "\\item 'RGS20'\n",
       "\\end{enumerate*}\n"
      ],
      "text/markdown": [
       "1. 'XKR4'\n",
       "2. 'GM1992'\n",
       "3. 'MRPL15'\n",
       "4. 'LYPLA1'\n",
       "5. 'TCEA1'\n",
       "6. 'RGS20'\n",
       "\n",
       "\n"
      ],
      "text/plain": [
       "[1] \"XKR4\"   \"GM1992\" \"MRPL15\" \"LYPLA1\" \"TCEA1\"  \"RGS20\" "
      ]
     },
     "metadata": {},
     "output_type": "display_data"
    }
   ],
   "source": [
    "head(rownames(sro))"
   ]
  },
  {
   "cell_type": "markdown",
   "id": "7ac95a72-b113-43c9-8b92-8192d1674594",
   "metadata": {},
   "source": [
    "## Load markers"
   ]
  },
  {
   "cell_type": "code",
   "execution_count": 7,
   "id": "9bf49325-44a9-4443-8d48-8ff88432796b",
   "metadata": {
    "execution": {
     "iopub.execute_input": "2024-11-06T02:55:59.954186Z",
     "iopub.status.busy": "2024-11-06T02:55:59.951402Z",
     "iopub.status.idle": "2024-11-06T02:56:01.048295Z",
     "shell.execute_reply": "2024-11-06T02:56:01.046486Z"
    }
   },
   "outputs": [],
   "source": [
    "# load markers ####\n",
    "markers.dc <- select.markers(\"RNA_snn_res.1.8-exCCR7DC1_cDC1_Ki67DC1\", \n",
    "                             output.dir = paste0('../Colonna/results/scrna/merged/subset/markers/'), exCC = F)"
   ]
  },
  {
   "cell_type": "code",
   "execution_count": 8,
   "id": "7bdc7429-d0a2-4c44-ba96-ec2f4e1a7e81",
   "metadata": {
    "execution": {
     "iopub.execute_input": "2024-11-06T02:56:01.052389Z",
     "iopub.status.busy": "2024-11-06T02:56:01.050978Z",
     "iopub.status.idle": "2024-11-06T02:56:01.491271Z",
     "shell.execute_reply": "2024-11-06T02:56:01.489392Z"
    }
   },
   "outputs": [],
   "source": [
    "md <- read.csv(\"../Colonna/results/scrna/merged/subset/meta-data.csv\", row.names = 1)"
   ]
  },
  {
   "cell_type": "code",
   "execution_count": 9,
   "id": "3a7003d8-3b2e-42a6-8312-bdda985aa869",
   "metadata": {
    "execution": {
     "iopub.execute_input": "2024-11-06T02:56:01.495429Z",
     "iopub.status.busy": "2024-11-06T02:56:01.494008Z",
     "iopub.status.idle": "2024-11-06T02:56:01.558822Z",
     "shell.execute_reply": "2024-11-06T02:56:01.557130Z"
    }
   },
   "outputs": [],
   "source": [
    "md2 <- unique(md[c('RNA_snn_res.1.8', 'annotation')]) %>% arrange(RNA_snn_res.1.8)"
   ]
  },
  {
   "cell_type": "code",
   "execution_count": 15,
   "id": "6890fa2a-b7a1-4ae8-b446-0220edbd886e",
   "metadata": {
    "execution": {
     "iopub.execute_input": "2024-11-06T02:57:41.394145Z",
     "iopub.status.busy": "2024-11-06T02:57:41.390786Z",
     "iopub.status.idle": "2024-11-06T02:57:41.421064Z",
     "shell.execute_reply": "2024-11-06T02:57:41.418042Z"
    }
   },
   "outputs": [
    {
     "data": {
      "text/html": [
       "<style>\n",
       ".list-inline {list-style: none; margin:0; padding: 0}\n",
       ".list-inline>li {display: inline-block}\n",
       ".list-inline>li:not(:last-child)::after {content: \"\\00b7\"; padding: 0 .5ex}\n",
       "</style>\n",
       "<ol class=list-inline><li>13</li><li>17</li><li>23</li><li>32</li><li>33</li></ol>\n"
      ],
      "text/latex": [
       "\\begin{enumerate*}\n",
       "\\item 13\n",
       "\\item 17\n",
       "\\item 23\n",
       "\\item 32\n",
       "\\item 33\n",
       "\\end{enumerate*}\n"
      ],
      "text/markdown": [
       "1. 13\n",
       "2. 17\n",
       "3. 23\n",
       "4. 32\n",
       "5. 33\n",
       "\n",
       "\n"
      ],
      "text/plain": [
       "[1] 13 17 23 32 33"
      ]
     },
     "metadata": {},
     "output_type": "display_data"
    }
   ],
   "source": [
    "md2[md2$annotation == \"tDC\",]$RNA_snn_res.1.8"
   ]
  },
  {
   "cell_type": "code",
   "execution_count": 16,
   "id": "504ce570-5ce2-4b54-963b-58e6d17837b8",
   "metadata": {
    "execution": {
     "iopub.execute_input": "2024-11-06T02:57:42.872801Z",
     "iopub.status.busy": "2024-11-06T02:57:42.869462Z",
     "iopub.status.idle": "2024-11-06T02:57:42.900811Z",
     "shell.execute_reply": "2024-11-06T02:57:42.897837Z"
    }
   },
   "outputs": [],
   "source": [
    "tdc.markers <- markers.dc[markers.dc$cluster %in% md2[md2$annotation == \"tDC\",]$RNA_snn_res.1.8,]"
   ]
  },
  {
   "cell_type": "code",
   "execution_count": 17,
   "id": "4fda41d3-68ba-472f-bcf1-99c908774629",
   "metadata": {
    "execution": {
     "iopub.execute_input": "2024-11-06T02:57:47.724871Z",
     "iopub.status.busy": "2024-11-06T02:57:47.721397Z",
     "iopub.status.idle": "2024-11-06T02:57:47.753433Z",
     "shell.execute_reply": "2024-11-06T02:57:47.750375Z"
    }
   },
   "outputs": [],
   "source": [
    "tdc.marker.genes <- toupper(unique(tdc.markers$gene))\n",
    "tdc.marker.genes <- tdc.marker.genes[tdc.marker.genes %in% rownames(sro)]"
   ]
  },
  {
   "cell_type": "code",
   "execution_count": 18,
   "id": "6b8c0a9f-1074-4dfe-baaf-35c10f730154",
   "metadata": {
    "execution": {
     "iopub.execute_input": "2024-11-06T02:57:48.982074Z",
     "iopub.status.busy": "2024-11-06T02:57:48.978811Z",
     "iopub.status.idle": "2024-11-06T02:57:49.008880Z",
     "shell.execute_reply": "2024-11-06T02:57:49.005819Z"
    }
   },
   "outputs": [
    {
     "data": {
      "text/html": [
       "796"
      ],
      "text/latex": [
       "796"
      ],
      "text/markdown": [
       "796"
      ],
      "text/plain": [
       "[1] 796"
      ]
     },
     "metadata": {},
     "output_type": "display_data"
    }
   ],
   "source": [
    "length(tdc.marker.genes)"
   ]
  },
  {
   "cell_type": "code",
   "execution_count": 19,
   "id": "7475aa82-0156-4aab-aabe-f3d0579521d7",
   "metadata": {
    "execution": {
     "iopub.execute_input": "2024-11-06T02:58:11.812322Z",
     "iopub.status.busy": "2024-11-06T02:58:11.808960Z",
     "iopub.status.idle": "2024-11-06T02:58:14.583318Z",
     "shell.execute_reply": "2024-11-06T02:58:14.581748Z"
    },
    "scrolled": true
   },
   "outputs": [],
   "source": [
    "sro <- AddModuleScore(sro, list(toupper(tdc.marker.genes)), name = \"tDC.markers\")"
   ]
  },
  {
   "cell_type": "code",
   "execution_count": 20,
   "id": "f03036d5-7189-4c2c-bfca-d0ea0163edf5",
   "metadata": {
    "execution": {
     "iopub.execute_input": "2024-11-06T02:58:14.586640Z",
     "iopub.status.busy": "2024-11-06T02:58:14.585520Z",
     "iopub.status.idle": "2024-11-06T02:58:14.702192Z",
     "shell.execute_reply": "2024-11-06T02:58:14.700350Z"
    }
   },
   "outputs": [],
   "source": [
    "cols <- rev(RColorBrewer::brewer.pal(11,\"Spectral\"))\n",
    "transitions <- c(0, 15, 25, 30, 40, 50, 60, 70, 75, 85, 100)\n",
    "scaled_transitions <- scales::rescale(transitions, from = c(0, 100), to = c(0, 1))\n",
    "scale.color <- scale_color_gradientn(colors = cols, values = scaled_transitions)"
   ]
  },
  {
   "cell_type": "code",
   "execution_count": 21,
   "id": "451f9a46-aaeb-4e9d-922d-e5fa792bab42",
   "metadata": {
    "execution": {
     "iopub.execute_input": "2024-11-06T02:58:15.847903Z",
     "iopub.status.busy": "2024-11-06T02:58:15.845274Z",
     "iopub.status.idle": "2024-11-06T02:58:15.869989Z",
     "shell.execute_reply": "2024-11-06T02:58:15.867286Z"
    }
   },
   "outputs": [
    {
     "name": "stderr",
     "output_type": "stream",
     "text": [
      "Warning message in dir.create(paste0(pref.p.sro, \"module-scores\")):\n",
      "“'plots/module-scores' already exists”\n"
     ]
    }
   ],
   "source": [
    "dir.create(paste0(pref.p.sro, \"module-scores\"))"
   ]
  },
  {
   "cell_type": "code",
   "execution_count": 22,
   "id": "6e9cfb21-d887-4879-a215-0a94d57356b1",
   "metadata": {
    "execution": {
     "iopub.execute_input": "2024-11-06T02:58:16.761586Z",
     "iopub.status.busy": "2024-11-06T02:58:16.758898Z",
     "iopub.status.idle": "2024-11-06T02:58:16.784635Z",
     "shell.execute_reply": "2024-11-06T02:58:16.781903Z"
    }
   },
   "outputs": [
    {
     "data": {
      "text/html": [
       "'plots/'"
      ],
      "text/latex": [
       "'plots/'"
      ],
      "text/markdown": [
       "'plots/'"
      ],
      "text/plain": [
       "[1] \"plots/\""
      ]
     },
     "metadata": {},
     "output_type": "display_data"
    }
   ],
   "source": [
    "pref.p.sro"
   ]
  },
  {
   "cell_type": "code",
   "execution_count": 27,
   "id": "adb25f4e-730d-45f9-8609-d86392b22d0e",
   "metadata": {
    "execution": {
     "iopub.execute_input": "2024-11-06T02:59:07.278937Z",
     "iopub.status.busy": "2024-11-06T02:59:07.276264Z",
     "iopub.status.idle": "2024-11-06T02:59:07.826771Z",
     "shell.execute_reply": "2024-11-06T02:59:07.824583Z"
    }
   },
   "outputs": [
    {
     "data": {
      "text/html": [
       "<strong>png:</strong> 2"
      ],
      "text/latex": [
       "\\textbf{png:} 2"
      ],
      "text/markdown": [
       "**png:** 2"
      ],
      "text/plain": [
       "png \n",
       "  2 "
      ]
     },
     "metadata": {},
     "output_type": "display_data"
    }
   ],
   "source": [
    "pdf(paste0(pref.p.sro, \"module-scores/UMAP-tDC.markers-from-Colonna_scRNA.pdf\"), width = 8, height = 6)\n",
    "print(plot.continuous.value(\n",
    "    sro, scale.color = scale.color,\n",
    "    idx = rownames(sro@meta.data), point.size = 0.5,\n",
    "    val = get.named.vector.sro(sro, paste0(\"tDC.markers1\")), val.name = 'module\\nscore') + ggtitle(\"tDC.markers\"))\n",
    "dev.off()"
   ]
  },
  {
   "cell_type": "code",
   "execution_count": null,
   "id": "13feab5a-0477-41e8-9be7-bc35901ee523",
   "metadata": {},
   "outputs": [],
   "source": []
  },
  {
   "cell_type": "markdown",
   "id": "527a006f-eacc-4dba-85e4-89faee5b4386",
   "metadata": {},
   "source": [
    "# sub0 from C15 in res2-opt2 from Flex-seq (CB-3141)"
   ]
  },
  {
   "cell_type": "code",
   "execution_count": 4,
   "id": "01a1edd8-fab2-45ce-866f-58104cf62200",
   "metadata": {
    "execution": {
     "iopub.execute_input": "2025-02-10T03:46:41.925382Z",
     "iopub.status.busy": "2025-02-10T03:46:41.922157Z",
     "iopub.status.idle": "2025-02-10T03:46:48.907801Z",
     "shell.execute_reply": "2025-02-10T03:46:48.906581Z"
    }
   },
   "outputs": [],
   "source": [
    "pref.sro <- \"results/\"; pref.p.sro <- \"plots/\"\n",
    "sro <- readRDS(paste0(pref.sro, \"SRO_subset.rds\"))"
   ]
  },
  {
   "cell_type": "code",
   "execution_count": 5,
   "id": "ad49d859-fbe2-4955-95cd-e4a65f0cf276",
   "metadata": {
    "execution": {
     "iopub.execute_input": "2025-02-10T03:46:48.910230Z",
     "iopub.status.busy": "2025-02-10T03:46:48.909392Z",
     "iopub.status.idle": "2025-02-10T03:46:48.921041Z",
     "shell.execute_reply": "2025-02-10T03:46:48.920065Z"
    }
   },
   "outputs": [
    {
     "data": {
      "text/html": [
       "<style>\n",
       ".list-inline {list-style: none; margin:0; padding: 0}\n",
       ".list-inline>li {display: inline-block}\n",
       ".list-inline>li:not(:last-child)::after {content: \"\\00b7\"; padding: 0 .5ex}\n",
       "</style>\n",
       "<ol class=list-inline><li>'XKR4'</li><li>'GM1992'</li><li>'MRPL15'</li><li>'LYPLA1'</li><li>'TCEA1'</li><li>'RGS20'</li></ol>\n"
      ],
      "text/latex": [
       "\\begin{enumerate*}\n",
       "\\item 'XKR4'\n",
       "\\item 'GM1992'\n",
       "\\item 'MRPL15'\n",
       "\\item 'LYPLA1'\n",
       "\\item 'TCEA1'\n",
       "\\item 'RGS20'\n",
       "\\end{enumerate*}\n"
      ],
      "text/markdown": [
       "1. 'XKR4'\n",
       "2. 'GM1992'\n",
       "3. 'MRPL15'\n",
       "4. 'LYPLA1'\n",
       "5. 'TCEA1'\n",
       "6. 'RGS20'\n",
       "\n",
       "\n"
      ],
      "text/plain": [
       "[1] \"XKR4\"   \"GM1992\" \"MRPL15\" \"LYPLA1\" \"TCEA1\"  \"RGS20\" "
      ]
     },
     "metadata": {},
     "output_type": "display_data"
    }
   ],
   "source": [
    "head(rownames(sro))"
   ]
  },
  {
   "cell_type": "markdown",
   "id": "e68d7bf2-6f65-4a71-ad31-78bdb4c50665",
   "metadata": {},
   "source": [
    "## Load markers"
   ]
  },
  {
   "cell_type": "code",
   "execution_count": 46,
   "id": "9b4d37e5-2c68-4267-96f6-0830a144c493",
   "metadata": {
    "execution": {
     "iopub.execute_input": "2025-02-10T04:28:44.758873Z",
     "iopub.status.busy": "2025-02-10T04:28:44.755575Z",
     "iopub.status.idle": "2025-02-10T04:28:44.772970Z",
     "shell.execute_reply": "2025-02-10T04:28:44.771533Z"
    }
   },
   "outputs": [],
   "source": [
    "group.name <- \"RNA_snn_res.1.2_C15res.0.1\"\n",
    "fn <- paste0(group.name, \"-sub0_vs_rest\")"
   ]
  },
  {
   "cell_type": "code",
   "execution_count": 47,
   "id": "a964d339-be6f-49c4-a5dd-3670e841fb1f",
   "metadata": {
    "execution": {
     "iopub.execute_input": "2025-02-10T04:28:45.159249Z",
     "iopub.status.busy": "2025-02-10T04:28:45.156043Z",
     "iopub.status.idle": "2025-02-10T04:28:45.174229Z",
     "shell.execute_reply": "2025-02-10T04:28:45.172813Z"
    }
   },
   "outputs": [
    {
     "data": {
      "text/html": [
       "'RNA_snn_res.1.2_C15res.0.1-sub0_vs_rest'"
      ],
      "text/latex": [
       "'RNA\\_snn\\_res.1.2\\_C15res.0.1-sub0\\_vs\\_rest'"
      ],
      "text/markdown": [
       "'RNA_snn_res.1.2_C15res.0.1-sub0_vs_rest'"
      ],
      "text/plain": [
       "[1] \"RNA_snn_res.1.2_C15res.0.1-sub0_vs_rest\""
      ]
     },
     "metadata": {},
     "output_type": "display_data"
    }
   ],
   "source": [
    "fn"
   ]
  },
  {
   "cell_type": "code",
   "execution_count": 48,
   "id": "5bf2713e-63b7-4723-a530-b9d6a9d00c17",
   "metadata": {
    "execution": {
     "iopub.execute_input": "2025-02-10T04:28:46.422748Z",
     "iopub.status.busy": "2025-02-10T04:28:46.419448Z",
     "iopub.status.idle": "2025-02-10T04:28:46.487311Z",
     "shell.execute_reply": "2025-02-10T04:28:46.485715Z"
    }
   },
   "outputs": [],
   "source": [
    "# load markers ####\n",
    "markers <- select.markers(fn, output.dir = paste0('../CB-3141_pool/results/res-2-subset-progenitors-option2/markers/'), exCC = F, pairwise = T)"
   ]
  },
  {
   "cell_type": "code",
   "execution_count": 49,
   "id": "c1835189-ad68-4124-8c3a-cd0df900b209",
   "metadata": {
    "execution": {
     "iopub.execute_input": "2025-02-10T04:28:46.984777Z",
     "iopub.status.busy": "2025-02-10T04:28:46.981975Z",
     "iopub.status.idle": "2025-02-10T04:28:46.996578Z",
     "shell.execute_reply": "2025-02-10T04:28:46.995121Z"
    }
   },
   "outputs": [],
   "source": [
    "sub0markers <- markers[markers$cluster == 'up',]"
   ]
  },
  {
   "cell_type": "code",
   "execution_count": 50,
   "id": "c15a4896-3e70-4cc0-b2dc-33c334f96f41",
   "metadata": {
    "execution": {
     "iopub.execute_input": "2025-02-10T04:28:51.328211Z",
     "iopub.status.busy": "2025-02-10T04:28:51.324972Z",
     "iopub.status.idle": "2025-02-10T04:28:51.342558Z",
     "shell.execute_reply": "2025-02-10T04:28:51.341127Z"
    }
   },
   "outputs": [
    {
     "data": {
      "text/html": [
       "321"
      ],
      "text/latex": [
       "321"
      ],
      "text/markdown": [
       "321"
      ],
      "text/plain": [
       "[1] 321"
      ]
     },
     "metadata": {},
     "output_type": "display_data"
    }
   ],
   "source": [
    "nrow(sub0markers)"
   ]
  },
  {
   "cell_type": "code",
   "execution_count": 20,
   "id": "90c63c73-b080-46b9-bbdb-03194eb3b827",
   "metadata": {
    "execution": {
     "iopub.execute_input": "2025-02-10T03:52:22.035011Z",
     "iopub.status.busy": "2025-02-10T03:52:22.031818Z",
     "iopub.status.idle": "2025-02-10T03:52:23.046510Z",
     "shell.execute_reply": "2025-02-10T03:52:23.045321Z"
    },
    "scrolled": true
   },
   "outputs": [],
   "source": [
    "sro <- AddModuleScore(sro, list(toupper(sub0markers$gene)), name = \"T15.sub0.markers\")"
   ]
  },
  {
   "cell_type": "code",
   "execution_count": 21,
   "id": "baa0bac0-222b-4be7-8207-58722fcf9b1d",
   "metadata": {
    "execution": {
     "iopub.execute_input": "2025-02-10T03:52:28.411171Z",
     "iopub.status.busy": "2025-02-10T03:52:28.407985Z",
     "iopub.status.idle": "2025-02-10T03:52:28.565665Z",
     "shell.execute_reply": "2025-02-10T03:52:28.564041Z"
    }
   },
   "outputs": [],
   "source": [
    "cols <- rev(RColorBrewer::brewer.pal(11,\"Spectral\"))\n",
    "transitions <- c(0, 15, 25, 30, 40, 50, 60, 70, 75, 85, 100)\n",
    "scaled_transitions <- scales::rescale(transitions, from = c(0, 100), to = c(0, 1))\n",
    "scale.color <- scale_color_gradientn(colors = cols, values = scaled_transitions)"
   ]
  },
  {
   "cell_type": "code",
   "execution_count": 22,
   "id": "18402e9b-e987-4178-a716-76ce2262d067",
   "metadata": {
    "execution": {
     "iopub.execute_input": "2025-02-10T03:52:30.206649Z",
     "iopub.status.busy": "2025-02-10T03:52:30.203424Z",
     "iopub.status.idle": "2025-02-10T03:52:30.222799Z",
     "shell.execute_reply": "2025-02-10T03:52:30.221340Z"
    }
   },
   "outputs": [
    {
     "name": "stderr",
     "output_type": "stream",
     "text": [
      "Warning message in dir.create(paste0(pref.p.sro, \"module-scores\")):\n",
      "“'plots/module-scores' already exists”\n"
     ]
    }
   ],
   "source": [
    "dir.create(paste0(pref.p.sro, \"module-scores\"))"
   ]
  },
  {
   "cell_type": "code",
   "execution_count": 23,
   "id": "e5b7ecfc-c131-41ac-8dca-159532ebf8eb",
   "metadata": {
    "execution": {
     "iopub.execute_input": "2025-02-10T03:52:30.766290Z",
     "iopub.status.busy": "2025-02-10T03:52:30.763203Z",
     "iopub.status.idle": "2025-02-10T03:52:30.780338Z",
     "shell.execute_reply": "2025-02-10T03:52:30.778926Z"
    }
   },
   "outputs": [
    {
     "data": {
      "text/html": [
       "'plots/'"
      ],
      "text/latex": [
       "'plots/'"
      ],
      "text/markdown": [
       "'plots/'"
      ],
      "text/plain": [
       "[1] \"plots/\""
      ]
     },
     "metadata": {},
     "output_type": "display_data"
    }
   ],
   "source": [
    "pref.p.sro"
   ]
  },
  {
   "cell_type": "code",
   "execution_count": 25,
   "id": "0ba51ca8-4d5a-40a8-a904-79427a0360df",
   "metadata": {
    "execution": {
     "iopub.execute_input": "2025-02-10T03:52:53.170435Z",
     "iopub.status.busy": "2025-02-10T03:52:53.167208Z",
     "iopub.status.idle": "2025-02-10T03:52:53.648824Z",
     "shell.execute_reply": "2025-02-10T03:52:53.647700Z"
    }
   },
   "outputs": [
    {
     "data": {
      "text/html": [
       "<strong>png:</strong> 2"
      ],
      "text/latex": [
       "\\textbf{png:} 2"
      ],
      "text/markdown": [
       "**png:** 2"
      ],
      "text/plain": [
       "png \n",
       "  2 "
      ]
     },
     "metadata": {},
     "output_type": "display_data"
    }
   ],
   "source": [
    "pdf(paste0(pref.p.sro, \"module-scores/UMAP-T15.sub0.markers-from-CB-3141.pdf\"), width = 8, height = 6)\n",
    "print(plot.continuous.value(\n",
    "    sro, scale.color = scale.color,\n",
    "    idx = rownames(sro@meta.data), point.size = 0.5,\n",
    "    val = get.named.vector.sro(sro, paste0(\"T15.sub0.markers1\")), val.name = 'module\\nscore') + ggtitle(\"T15.sub0.markers\"))\n",
    "dev.off()"
   ]
  },
  {
   "cell_type": "markdown",
   "id": "89f6fbfe-4e12-4a4f-9eac-6c3ac77f4e6b",
   "metadata": {},
   "source": [
    "# sub0 from C15 in res2-opt2 from Flex-seq (CB-3141)"
   ]
  },
  {
   "cell_type": "markdown",
   "id": "3c68cf44-d05b-4297-a1b9-92881ae79cfc",
   "metadata": {},
   "source": [
    "sub0 vs sub1 and C19 (TC)"
   ]
  },
  {
   "cell_type": "code",
   "execution_count": 4,
   "id": "597b230f-b4ce-4a23-a56e-84442fd2c3a2",
   "metadata": {
    "execution": {
     "iopub.execute_input": "2025-02-10T03:46:41.925382Z",
     "iopub.status.busy": "2025-02-10T03:46:41.922157Z",
     "iopub.status.idle": "2025-02-10T03:46:48.907801Z",
     "shell.execute_reply": "2025-02-10T03:46:48.906581Z"
    }
   },
   "outputs": [],
   "source": [
    "pref.sro <- \"results/\"; pref.p.sro <- \"plots/\"\n",
    "sro <- readRDS(paste0(pref.sro, \"SRO_subset.rds\"))"
   ]
  },
  {
   "cell_type": "code",
   "execution_count": 26,
   "id": "1faf1cd9-c350-4833-9a15-c7ebb707c143",
   "metadata": {
    "execution": {
     "iopub.execute_input": "2025-02-10T04:11:25.251385Z",
     "iopub.status.busy": "2025-02-10T04:11:25.250431Z",
     "iopub.status.idle": "2025-02-10T04:11:25.260356Z",
     "shell.execute_reply": "2025-02-10T04:11:25.259381Z"
    }
   },
   "outputs": [
    {
     "data": {
      "text/html": [
       "<style>\n",
       ".list-inline {list-style: none; margin:0; padding: 0}\n",
       ".list-inline>li {display: inline-block}\n",
       ".list-inline>li:not(:last-child)::after {content: \"\\00b7\"; padding: 0 .5ex}\n",
       "</style>\n",
       "<ol class=list-inline><li>'XKR4'</li><li>'GM1992'</li><li>'MRPL15'</li><li>'LYPLA1'</li><li>'TCEA1'</li><li>'RGS20'</li></ol>\n"
      ],
      "text/latex": [
       "\\begin{enumerate*}\n",
       "\\item 'XKR4'\n",
       "\\item 'GM1992'\n",
       "\\item 'MRPL15'\n",
       "\\item 'LYPLA1'\n",
       "\\item 'TCEA1'\n",
       "\\item 'RGS20'\n",
       "\\end{enumerate*}\n"
      ],
      "text/markdown": [
       "1. 'XKR4'\n",
       "2. 'GM1992'\n",
       "3. 'MRPL15'\n",
       "4. 'LYPLA1'\n",
       "5. 'TCEA1'\n",
       "6. 'RGS20'\n",
       "\n",
       "\n"
      ],
      "text/plain": [
       "[1] \"XKR4\"   \"GM1992\" \"MRPL15\" \"LYPLA1\" \"TCEA1\"  \"RGS20\" "
      ]
     },
     "metadata": {},
     "output_type": "display_data"
    }
   ],
   "source": [
    "head(rownames(sro))"
   ]
  },
  {
   "cell_type": "markdown",
   "id": "fc3e4b9f-9e31-45ce-ad44-3ce732987157",
   "metadata": {},
   "source": [
    "## Load markers"
   ]
  },
  {
   "cell_type": "code",
   "execution_count": 53,
   "id": "7eaa4750-e7da-494f-bc3e-b3c2b442e7ab",
   "metadata": {
    "execution": {
     "iopub.execute_input": "2025-02-10T04:29:41.689771Z",
     "iopub.status.busy": "2025-02-10T04:29:41.686563Z",
     "iopub.status.idle": "2025-02-10T04:29:41.706621Z",
     "shell.execute_reply": "2025-02-10T04:29:41.705197Z"
    }
   },
   "outputs": [
    {
     "data": {
      "text/html": [
       "'RNA_snn_res.1.2_C15res.0.1-sub0_vs_sub0_C19'"
      ],
      "text/latex": [
       "'RNA\\_snn\\_res.1.2\\_C15res.0.1-sub0\\_vs\\_sub0\\_C19'"
      ],
      "text/markdown": [
       "'RNA_snn_res.1.2_C15res.0.1-sub0_vs_sub0_C19'"
      ],
      "text/plain": [
       "[1] \"RNA_snn_res.1.2_C15res.0.1-sub0_vs_sub0_C19\""
      ]
     },
     "metadata": {},
     "output_type": "display_data"
    }
   ],
   "source": [
    "group.name <- \"RNA_snn_res.1.2_C15res.0.1\"\n",
    "fn <- paste0(group.name, \"-sub0_vs_sub0_C19\")\n",
    "fn"
   ]
  },
  {
   "cell_type": "code",
   "execution_count": 43,
   "id": "f5da74f6-8f8b-4ca4-a19b-66848f970622",
   "metadata": {
    "execution": {
     "iopub.execute_input": "2025-02-10T04:28:23.575761Z",
     "iopub.status.busy": "2025-02-10T04:28:23.572635Z",
     "iopub.status.idle": "2025-02-10T04:28:23.628561Z",
     "shell.execute_reply": "2025-02-10T04:28:23.627095Z"
    }
   },
   "outputs": [],
   "source": [
    "# load markers ####\n",
    "markers <- select.markers(fn, output.dir = paste0('../CB-3141_pool/results/res-2-subset-progenitors-option2/markers/'), exCC = F, pairwise = T)\n",
    "sub0markers <- markers[markers$cluster == 'up',]"
   ]
  },
  {
   "cell_type": "code",
   "execution_count": 59,
   "id": "44ae5300-5c98-4bba-a180-d5244574386c",
   "metadata": {
    "execution": {
     "iopub.execute_input": "2025-02-10T04:30:16.283374Z",
     "iopub.status.busy": "2025-02-10T04:30:16.280163Z",
     "iopub.status.idle": "2025-02-10T04:30:16.339652Z",
     "shell.execute_reply": "2025-02-10T04:30:16.337958Z"
    }
   },
   "outputs": [],
   "source": [
    "# load markers ####\n",
    "markers <- select.markers(fn, output.dir = paste0('../CB-3141_pool/results/res-2-subset-progenitors-option2/markers/'), exCC = F, pairwise = T)\n",
    "sub0markers <- markers[markers$cluster == 'up',]"
   ]
  },
  {
   "cell_type": "code",
   "execution_count": 60,
   "id": "41b94691-04e0-403a-959b-53d542aba758",
   "metadata": {
    "execution": {
     "iopub.execute_input": "2025-02-10T04:30:16.769924Z",
     "iopub.status.busy": "2025-02-10T04:30:16.766667Z",
     "iopub.status.idle": "2025-02-10T04:30:16.784359Z",
     "shell.execute_reply": "2025-02-10T04:30:16.782805Z"
    }
   },
   "outputs": [
    {
     "data": {
      "text/html": [
       "164"
      ],
      "text/latex": [
       "164"
      ],
      "text/markdown": [
       "164"
      ],
      "text/plain": [
       "[1] 164"
      ]
     },
     "metadata": {},
     "output_type": "display_data"
    }
   ],
   "source": [
    "nrow(sub0markers)"
   ]
  },
  {
   "cell_type": "code",
   "execution_count": 61,
   "id": "61bb6c76-836a-4710-97c5-2b9a34bd6333",
   "metadata": {
    "execution": {
     "iopub.execute_input": "2025-02-10T04:30:17.474019Z",
     "iopub.status.busy": "2025-02-10T04:30:17.470761Z",
     "iopub.status.idle": "2025-02-10T04:30:18.226622Z",
     "shell.execute_reply": "2025-02-10T04:30:18.224939Z"
    },
    "scrolled": true
   },
   "outputs": [],
   "source": [
    "sro <- AddModuleScore(sro, list(toupper(sub0markers$gene)), name = \"T15.sub0_vs_sub1_C19.markers\")"
   ]
  },
  {
   "cell_type": "code",
   "execution_count": 62,
   "id": "1e76b9e5-2a91-4ada-bfc9-2fbfee8fd53f",
   "metadata": {
    "execution": {
     "iopub.execute_input": "2025-02-10T04:30:18.269728Z",
     "iopub.status.busy": "2025-02-10T04:30:18.266892Z",
     "iopub.status.idle": "2025-02-10T04:30:18.597890Z",
     "shell.execute_reply": "2025-02-10T04:30:18.596369Z"
    }
   },
   "outputs": [
    {
     "data": {
      "text/html": [
       "<strong>png:</strong> 2"
      ],
      "text/latex": [
       "\\textbf{png:} 2"
      ],
      "text/markdown": [
       "**png:** 2"
      ],
      "text/plain": [
       "png \n",
       "  2 "
      ]
     },
     "metadata": {},
     "output_type": "display_data"
    }
   ],
   "source": [
    "pdf(paste0(pref.p.sro, \"module-scores/UMAP-T15.sub0_vs_sub1_C19.markers-from-CB-3141.pdf\"), width = 8, height = 6)\n",
    "print(plot.continuous.value(\n",
    "    sro, scale.color = scale.color,\n",
    "    idx = rownames(sro@meta.data), point.size = 0.5,\n",
    "    val = get.named.vector.sro(sro, paste0(\"T15.sub0_vs_sub1_C19.markers1\")), val.name = 'module\\nscore') + ggtitle(\"T15.sub0.markers\"))\n",
    "dev.off()"
   ]
  },
  {
   "cell_type": "code",
   "execution_count": null,
   "id": "1b391113-20b8-417e-9bbc-c5c93ac52f64",
   "metadata": {},
   "outputs": [],
   "source": []
  },
  {
   "cell_type": "code",
   "execution_count": 54,
   "id": "3b80576b-cc96-4e58-816d-cc190a2b6f18",
   "metadata": {
    "execution": {
     "iopub.execute_input": "2025-02-10T04:29:42.589673Z",
     "iopub.status.busy": "2025-02-10T04:29:42.586855Z",
     "iopub.status.idle": "2025-02-10T04:29:42.645043Z",
     "shell.execute_reply": "2025-02-10T04:29:42.643439Z"
    }
   },
   "outputs": [],
   "source": [
    "# load markers ####\n",
    "markers <- select.markers(fn, output.dir = paste0('../CB-3141_pool/results/res-2-subset-progenitors-option2/markers/'), exCC = F, pairwise = T, fc.thr = 2)\n",
    "sub0markers <- markers[markers$cluster == 'up',]"
   ]
  },
  {
   "cell_type": "code",
   "execution_count": 55,
   "id": "5901102e-f104-4622-bbf6-aa98e0a09bc2",
   "metadata": {
    "execution": {
     "iopub.execute_input": "2025-02-10T04:29:43.067578Z",
     "iopub.status.busy": "2025-02-10T04:29:43.064317Z",
     "iopub.status.idle": "2025-02-10T04:29:43.081516Z",
     "shell.execute_reply": "2025-02-10T04:29:43.080069Z"
    }
   },
   "outputs": [
    {
     "data": {
      "text/html": [
       "45"
      ],
      "text/latex": [
       "45"
      ],
      "text/markdown": [
       "45"
      ],
      "text/plain": [
       "[1] 45"
      ]
     },
     "metadata": {},
     "output_type": "display_data"
    }
   ],
   "source": [
    "nrow(sub0markers)"
   ]
  },
  {
   "cell_type": "code",
   "execution_count": 56,
   "id": "a121101e-d180-4d37-a16c-23e67c502acc",
   "metadata": {
    "execution": {
     "iopub.execute_input": "2025-02-10T04:29:44.616625Z",
     "iopub.status.busy": "2025-02-10T04:29:44.613389Z",
     "iopub.status.idle": "2025-02-10T04:29:45.127549Z",
     "shell.execute_reply": "2025-02-10T04:29:45.125872Z"
    },
    "scrolled": true
   },
   "outputs": [],
   "source": [
    "sro <- AddModuleScore(sro, list(toupper(sub0markers$gene)), name = \"T15.sub0_vs_sub1_C19.markers\")"
   ]
  },
  {
   "cell_type": "code",
   "execution_count": 58,
   "id": "f40d6903-b51e-4411-a3ab-13b5a2c9e56b",
   "metadata": {
    "execution": {
     "iopub.execute_input": "2025-02-10T04:30:09.155119Z",
     "iopub.status.busy": "2025-02-10T04:30:09.151888Z",
     "iopub.status.idle": "2025-02-10T04:30:09.484102Z",
     "shell.execute_reply": "2025-02-10T04:30:09.482553Z"
    }
   },
   "outputs": [
    {
     "data": {
      "text/html": [
       "<strong>png:</strong> 2"
      ],
      "text/latex": [
       "\\textbf{png:} 2"
      ],
      "text/markdown": [
       "**png:** 2"
      ],
      "text/plain": [
       "png \n",
       "  2 "
      ]
     },
     "metadata": {},
     "output_type": "display_data"
    }
   ],
   "source": [
    "pdf(paste0(pref.p.sro, \"module-scores/UMAP-T15.sub0_vs_sub1_C19.markers-from-CB-3141-v2.pdf\"), width = 8, height = 6)\n",
    "print(plot.continuous.value(\n",
    "    sro, scale.color = scale.color,\n",
    "    idx = rownames(sro@meta.data), point.size = 0.5,\n",
    "    val = get.named.vector.sro(sro, paste0(\"T15.sub0_vs_sub1_C19.markers1\")), val.name = 'module\\nscore') + ggtitle(\"T15.sub0.markers\"))\n",
    "dev.off()"
   ]
  },
  {
   "cell_type": "code",
   "execution_count": null,
   "id": "27a6866d-468f-4a2c-98dc-fc581d98dc59",
   "metadata": {},
   "outputs": [],
   "source": []
  },
  {
   "cell_type": "code",
   "execution_count": 67,
   "id": "45ee642d-ae41-4ad6-9c58-a6d718926a8f",
   "metadata": {
    "execution": {
     "iopub.execute_input": "2025-02-10T04:33:04.834676Z",
     "iopub.status.busy": "2025-02-10T04:33:04.831274Z",
     "iopub.status.idle": "2025-02-10T04:33:05.390954Z",
     "shell.execute_reply": "2025-02-10T04:33:05.389409Z"
    }
   },
   "outputs": [
    {
     "data": {
      "text/html": [
       "<strong>png:</strong> 2"
      ],
      "text/latex": [
       "\\textbf{png:} 2"
      ],
      "text/markdown": [
       "**png:** 2"
      ],
      "text/plain": [
       "png \n",
       "  2 "
      ]
     },
     "metadata": {},
     "output_type": "display_data"
    }
   ],
   "source": [
    "pdf(paste0(pref.p.sro, \"module-scores/vln-T15.sub0_vs_sub1_C19.markers-from-CB-3141-v2.pdf\"), width = 8, height = 6)\n",
    "VlnPlot(object = sro, features = 'T15.sub0_vs_sub1_C19.markers1', group.by = \"Annotation\", cols = pal$Annotation)\n",
    "dev.off()\n"
   ]
  }
 ],
 "metadata": {
  "kernelspec": {
   "display_name": "R [conda env:multiome]",
   "language": "R",
   "name": "conda-env-multiome-r"
  },
  "language_info": {
   "codemirror_mode": "r",
   "file_extension": ".r",
   "mimetype": "text/x-r-source",
   "name": "R",
   "pygments_lexer": "r",
   "version": "4.2.3"
  }
 },
 "nbformat": 4,
 "nbformat_minor": 5
}
