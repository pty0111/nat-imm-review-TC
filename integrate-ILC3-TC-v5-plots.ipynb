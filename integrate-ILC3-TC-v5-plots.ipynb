{
 "cells": [
  {
   "cell_type": "code",
   "execution_count": 1,
   "id": "8d4793b8-184f-412e-9d20-32f353c62051",
   "metadata": {
    "execution": {
     "iopub.execute_input": "2025-05-20T18:22:16.851693Z",
     "iopub.status.busy": "2025-05-20T18:22:16.849446Z",
     "iopub.status.idle": "2025-05-20T18:22:22.921203Z",
     "shell.execute_reply": "2025-05-20T18:22:22.919764Z"
    }
   },
   "outputs": [],
   "source": [
    "# integrate all datasets\n",
    "Sys.setenv(RETICULATE_PYTHON = \"/data1/lesliec/tyler/utils/miniforge3/envs/multiome/bin/python\")\n",
    "setwd(\"~/0-workspace/CCR7_DC/oral-tolerance-integrate/\")\n",
    "\n",
    "suppressPackageStartupMessages({\n",
    "    library(curl)\n",
    "    library(Seurat)\n",
    "    library(anndata)\n",
    "    library(Rmagic)\n",
    "    library(Matrix)\n",
    "    library(dplyr)\n",
    "    library(ggplot2)\n",
    "    library(ggrepel)\n",
    "    library(cowplot)\n",
    "    library(ComplexHeatmap)\n",
    "    library(circlize)\n",
    "    library(anndata)\n",
    "    library(rasterpdf)\n",
    "})\n",
    "reticulate::py_require(\"anndata\")\n",
    "\n",
    "set.seed(1)\n",
    "options(future.globals.maxSize = Inf)\n",
    "\n",
    "source(\"utils.R\")\n"
   ]
  },
  {
   "cell_type": "code",
   "execution_count": 2,
   "id": "61ccd8e4-c999-4812-aaf3-fc6dbfde6898",
   "metadata": {
    "execution": {
     "iopub.execute_input": "2025-05-20T18:22:22.943684Z",
     "iopub.status.busy": "2025-05-20T18:22:22.923188Z",
     "iopub.status.idle": "2025-05-20T18:22:23.385617Z",
     "shell.execute_reply": "2025-05-20T18:22:23.384333Z"
    }
   },
   "outputs": [],
   "source": [
    "load(\"../MLN_RORgt_MHCII_multiome/palette.RData\")\n",
    "pal <- list(annotation = rna.pal)\n",
    "pal$Clusters = c(\n",
    "    \"#00bf00\", \"#489de8\", \"#d40663\", \"#f8c72f\", \"#077315\",\n",
    "    \"#785cd4\", \"#e67109\", \"#0eefff\", \"#f081e6\", \"#260691\",\n",
    "    \"#49709c\", \"#9e7d3f\", \"#bd537a\", \"#4e225c\", \"#f202ed\",\n",
    "    \"#fec55f\", \"#062e0b\", \"#9c6fa8\", \"#078d94\", \"#5c1a1a\",\n",
    "    \"#827c68\", \"#aebeff\", \"#9c2903\", \"#ffc5af\", \"#4f5715\",\n",
    "    \"#0249f0\", \"#f43525\", \"#0077ff\", \"#7f227e\", \"#dfddff\",\n",
    "    \"#7e85d7\", \"#fff64f\", \"#5fed0e\", \"#543018\", \"#f31220\"\n",
    ")\n",
    "pal$Clusters_long = c(\n",
    "    \"#000000\", \"#FFFF00\", \"#1CE6FF\", \"#FF34FF\", \"#FF4A46\", \"#008941\", \"#006FA6\", \"#A30059\",\n",
    "    \"#FFDBE5\", \"#7A4900\", \"#0000A6\", \"#63FFAC\", \"#B79762\", \"#004D43\", \"#8FB0FF\", \"#997D87\",\n",
    "    \"#5A0007\", \"#809693\", \"#1B4400\", \"#4FC601\", \"#3B5DFF\", \"#4A3B53\", \"#FF2F80\",\n",
    "    \"#61615A\", \"#BA0900\", \"#6B7900\", \"#00C2A0\", \"#FFAA92\", \"#FF90C9\", \"#B903AA\", \"#D16100\",\n",
    "    \"#DDEFFF\", \"#000035\", \"#7B4F4B\", \"#A1C299\", \"#300018\", \"#0AA6D8\", \"#013349\", \"#00846F\",\n",
    "    \"#372101\", \"#FFB500\", \"#C2FFED\", \"#A079BF\", \"#CC0744\", \"#C0B9B2\", \"#C2FF99\", \"#001E09\",\n",
    "    \"#00489C\", \"#6F0062\", \"#0CBD66\", \"#EEC3FF\", \"#456D75\", \"#B77B68\", \"#7A87A1\", \"#788D66\",\n",
    "    \"#885578\", \"#FAD09F\", \"#FF8A9A\", \"#D157A0\", \"#BEC459\", \"#456648\", \"#0086ED\", \"#886F4C\",\n",
    "    \"#34362D\", \"#B4A8BD\", \"#00A6AA\", \"#452C2C\", \"#636375\", \"#A3C8C9\", \"#FF913F\", \"#938A81\",\n",
    "    \"#575329\", \"#00FECF\", \"#B05B6F\", \"#8CD0FF\", \"#3B9700\", \"#04F757\", \"#C8A1A1\", \"#1E6E00\",\n",
    "    \"#7900D7\", \"#A77500\", \"#6367A9\", \"#A05837\", \"#6B002C\", \"#772600\", \"#D790FF\", \"#9B9700\",\n",
    "    \"#549E79\", \"#FFF69F\", \"#201625\", \"#72418F\", \"#BC23FF\", \"#99ADC0\", \"#3A2465\", \"#922329\",\n",
    "    \"#5B4534\", \"#FDE8DC\", \"#404E55\", \"#0089A3\", \"#CB7E98\", \"#A4E804\", \"#324E72\", \"#6A3A4C\")\n"
   ]
  },
  {
   "cell_type": "code",
   "execution_count": 3,
   "id": "84232e6b-9af1-4885-a765-d915b0c16479",
   "metadata": {
    "execution": {
     "iopub.execute_input": "2025-05-20T18:22:23.388236Z",
     "iopub.status.busy": "2025-05-20T18:22:23.387323Z",
     "iopub.status.idle": "2025-05-20T18:23:52.785359Z",
     "shell.execute_reply": "2025-05-20T18:23:52.783908Z"
    }
   },
   "outputs": [
    {
     "name": "stderr",
     "output_type": "stream",
     "text": [
      "Warning message in dir.create(pref.i):\n",
      "“'integrate-ILC3-TC-v5' already exists”\n",
      "Warning message in dir.create(pref):\n",
      "“'integrate-ILC3-TC-v5/cca' already exists”\n",
      "Warning message in dir.create(pref.p, recursive = T):\n",
      "“'plots/integrate-ILC3-TC-v5/cca' already exists”\n"
     ]
    }
   ],
   "source": [
    "# 3. plots ####\n",
    "pref.i <- \"integrate-ILC3-TC-v5/\"; dir.create(pref.i)\n",
    "reduction <- \"cca\"; pref <- paste0(pref.i, reduction, \"/\"); dir.create(pref)\n",
    "pref.p <- paste0(\"plots/\", pref); dir.create(pref.p, recursive = T)\n",
    "sro.i <- readRDS(paste0(pref, \"SRO.rds\"))"
   ]
  },
  {
   "cell_type": "markdown",
   "id": "20ed66d2-569a-4395-a18f-9e8c68b4d230",
   "metadata": {},
   "source": [
    "# group plots"
   ]
  },
  {
   "cell_type": "markdown",
   "id": "fc45a80c-0b71-467a-bf34-2176b25febb3",
   "metadata": {},
   "source": [
    "## sample (for Gardner)"
   ]
  },
  {
   "cell_type": "code",
   "execution_count": 4,
   "id": "6456e763-489b-4a1c-93c0-815a19c61b05",
   "metadata": {
    "execution": {
     "iopub.execute_input": "2025-05-20T18:48:33.740456Z",
     "iopub.status.busy": "2025-05-20T18:48:33.739340Z",
     "iopub.status.idle": "2025-05-20T18:48:33.757918Z",
     "shell.execute_reply": "2025-05-20T18:48:33.756757Z"
    }
   },
   "outputs": [
    {
     "data": {
      "text/html": [
       "<style>\n",
       ".list-inline {list-style: none; margin:0; padding: 0}\n",
       ".list-inline>li {display: inline-block}\n",
       ".list-inline>li:not(:last-child)::after {content: \"\\00b7\"; padding: 0 .5ex}\n",
       "</style>\n",
       "<ol class=list-inline><li>'adult_LN'</li><li>'adult_mLN'</li><li>'adult_spleen'</li><li>'colonic'</li><li>'ctrl'</li><li>'early_LN'</li><li>'early_mLN'</li><li>'early_spleen'</li><li>'hCD2_neg'</li><li>'hCD2_pos'</li><li>'hepatic'</li><li>'kedmi'</li><li>'lyu'</li><li>'mediastinal'</li><li>'MLN_RORgt_MHCII_multiome'</li><li>'mut'</li><li>'para-aortic'</li><li>'Peyers patches'</li><li>'salivary gland'</li><li>'skin'</li><li>'small intestine'</li><li>'wang'</li></ol>\n"
      ],
      "text/latex": [
       "\\begin{enumerate*}\n",
       "\\item 'adult\\_LN'\n",
       "\\item 'adult\\_mLN'\n",
       "\\item 'adult\\_spleen'\n",
       "\\item 'colonic'\n",
       "\\item 'ctrl'\n",
       "\\item 'early\\_LN'\n",
       "\\item 'early\\_mLN'\n",
       "\\item 'early\\_spleen'\n",
       "\\item 'hCD2\\_neg'\n",
       "\\item 'hCD2\\_pos'\n",
       "\\item 'hepatic'\n",
       "\\item 'kedmi'\n",
       "\\item 'lyu'\n",
       "\\item 'mediastinal'\n",
       "\\item 'MLN\\_RORgt\\_MHCII\\_multiome'\n",
       "\\item 'mut'\n",
       "\\item 'para-aortic'\n",
       "\\item 'Peyers patches'\n",
       "\\item 'salivary gland'\n",
       "\\item 'skin'\n",
       "\\item 'small intestine'\n",
       "\\item 'wang'\n",
       "\\end{enumerate*}\n"
      ],
      "text/markdown": [
       "1. 'adult_LN'\n",
       "2. 'adult_mLN'\n",
       "3. 'adult_spleen'\n",
       "4. 'colonic'\n",
       "5. 'ctrl'\n",
       "6. 'early_LN'\n",
       "7. 'early_mLN'\n",
       "8. 'early_spleen'\n",
       "9. 'hCD2_neg'\n",
       "10. 'hCD2_pos'\n",
       "11. 'hepatic'\n",
       "12. 'kedmi'\n",
       "13. 'lyu'\n",
       "14. 'mediastinal'\n",
       "15. 'MLN_RORgt_MHCII_multiome'\n",
       "16. 'mut'\n",
       "17. 'para-aortic'\n",
       "18. 'Peyers patches'\n",
       "19. 'salivary gland'\n",
       "20. 'skin'\n",
       "21. 'small intestine'\n",
       "22. 'wang'\n",
       "\n",
       "\n"
      ],
      "text/plain": [
       " [1] \"adult_LN\"                 \"adult_mLN\"               \n",
       " [3] \"adult_spleen\"             \"colonic\"                 \n",
       " [5] \"ctrl\"                     \"early_LN\"                \n",
       " [7] \"early_mLN\"                \"early_spleen\"            \n",
       " [9] \"hCD2_neg\"                 \"hCD2_pos\"                \n",
       "[11] \"hepatic\"                  \"kedmi\"                   \n",
       "[13] \"lyu\"                      \"mediastinal\"             \n",
       "[15] \"MLN_RORgt_MHCII_multiome\" \"mut\"                     \n",
       "[17] \"para-aortic\"              \"Peyers patches\"          \n",
       "[19] \"salivary gland\"           \"skin\"                    \n",
       "[21] \"small intestine\"          \"wang\"                    "
      ]
     },
     "metadata": {},
     "output_type": "display_data"
    }
   ],
   "source": [
    "group.name <- 'sample'\n",
    "groups <- sort(unique(sro.i@meta.data[[group.name]]))\n",
    "groups"
   ]
  },
  {
   "cell_type": "code",
   "execution_count": 5,
   "id": "7c0ba0e6-c9f0-48e1-bc24-59f90a65fcc4",
   "metadata": {
    "execution": {
     "iopub.execute_input": "2025-05-20T18:48:35.663739Z",
     "iopub.status.busy": "2025-05-20T18:48:35.662618Z",
     "iopub.status.idle": "2025-05-20T18:48:52.259803Z",
     "shell.execute_reply": "2025-05-20T18:48:52.258534Z"
    }
   },
   "outputs": [
    {
     "data": {
      "text/html": [
       "<strong>pdf:</strong> 2"
      ],
      "text/latex": [
       "\\textbf{pdf:} 2"
      ],
      "text/markdown": [
       "**pdf:** 2"
      ],
      "text/plain": [
       "pdf \n",
       "  2 "
      ]
     },
     "metadata": {},
     "output_type": "display_data"
    }
   ],
   "source": [
    "sources <- c(\n",
    "    \"MLN_RORgt_MHCII_multiome\", \"TC_all_LN\", \"Colonna\",\n",
    "    \"Kedmi\", \"Lyu\", \"Wang\",\n",
    "    \"Littman\", \"Gardner.A\", \"Gardner.E\"\n",
    ")\n",
    "\n",
    "pl <- list()\n",
    "for (i in 1:length(sources)){\n",
    "    source.curr <- sources[i]\n",
    "    p.curr <- plot.clusters.highlight.one(\n",
    "        SRO = sro.i,\n",
    "        idx1 = colnames(sro.i), idx2 = sro.i$orig.ident == source.curr,\n",
    "        groups = get.named.vector.sro(sro.i, group.name),\n",
    "        clusters.col = source.curr,\n",
    "        labels = F, label.size = 5,\n",
    "        col = pal[[group.name]], pref.C = F) + guides(colour = guide_legend(override.aes = list(size=5), ncol = 1))\n",
    "    pl[[i]] <- p.curr\n",
    "}\n",
    "\n",
    "ncols <- 3\n",
    "nrows <- ceiling(length(pl)/ncols)\n",
    "\n",
    "pdf(file = paste0(pref.p, \"UMAP-\", group.name, \".pdf\"), width = 10*ncols, height = 6*nrows)\n",
    "plot_grid(plotlist = pl, ncol = ncols, align = 'hv')\n",
    "dev.off()"
   ]
  },
  {
   "cell_type": "markdown",
   "id": "ccc21926-bbc3-4c87-8965-19d2bedbe7bd",
   "metadata": {},
   "source": [
    "## paper annot"
   ]
  },
  {
   "cell_type": "markdown",
   "id": "3a889b91-b0f9-4393-a08c-4e124c689867",
   "metadata": {},
   "source": [
    "### update Colonna annot"
   ]
  },
  {
   "cell_type": "code",
   "execution_count": 6,
   "id": "2145a3de-f2ad-482a-b880-acbc79667f1e",
   "metadata": {
    "execution": {
     "iopub.execute_input": "2025-05-20T18:49:24.588155Z",
     "iopub.status.busy": "2025-05-20T18:49:24.587057Z",
     "iopub.status.idle": "2025-05-20T18:49:24.598837Z",
     "shell.execute_reply": "2025-05-20T18:49:24.597611Z"
    }
   },
   "outputs": [],
   "source": [
    "res0.4.to.anno <- c('Colonna C7' = 'RORgt DC I', 'Colonna C5' = 'RORgt DC II', 'Colonna C9' = 'RORgt DC III', 'Colonna C10' = 'RORgt DC IV', 'Colonna C0' = 'ILC3')"
   ]
  },
  {
   "cell_type": "code",
   "execution_count": 7,
   "id": "8635e44e-3a67-4a48-b560-791c0aca5307",
   "metadata": {
    "execution": {
     "iopub.execute_input": "2025-05-20T18:49:24.942834Z",
     "iopub.status.busy": "2025-05-20T18:49:24.941735Z",
     "iopub.status.idle": "2025-05-20T18:49:24.956830Z",
     "shell.execute_reply": "2025-05-20T18:49:24.955526Z"
    }
   },
   "outputs": [],
   "source": [
    "sro.i@meta.data[sro.i@meta.data$orig.ident == 'Colonna',]$paper.annot <- res0.4.to.anno[sro.i@meta.data[sro.i@meta.data$orig.ident == 'Colonna',]$Cluster.prev]"
   ]
  },
  {
   "cell_type": "markdown",
   "id": "7bd14c94-3635-44e6-abac-155aeb5a08fa",
   "metadata": {},
   "source": [
    "## Cluster.prev"
   ]
  },
  {
   "cell_type": "code",
   "execution_count": 8,
   "id": "a15bb800-be9d-4886-a2e8-76abc8f3b0ea",
   "metadata": {
    "execution": {
     "iopub.execute_input": "2025-05-20T18:49:47.136781Z",
     "iopub.status.busy": "2025-05-20T18:49:47.135703Z",
     "iopub.status.idle": "2025-05-20T18:49:47.152033Z",
     "shell.execute_reply": "2025-05-20T18:49:47.150870Z"
    }
   },
   "outputs": [
    {
     "data": {
      "text/html": [
       "<style>\n",
       ".list-inline {list-style: none; margin:0; padding: 0}\n",
       ".list-inline>li {display: inline-block}\n",
       ".list-inline>li:not(:last-child)::after {content: \"\\00b7\"; padding: 0 .5ex}\n",
       "</style>\n",
       "<ol class=list-inline><li>'Colonna C0'</li><li>'Colonna C10'</li><li>'Colonna C5'</li><li>'Colonna C7'</li><li>'Colonna C9'</li><li>'Gardner.A C1'</li><li>'Gardner.A C3'</li><li>'Gardner.A C4'</li><li>'Gardner.E C1'</li><li>'Gardner.E C7'</li><li>'Kedmi C12'</li><li>'Kedmi C14'</li><li>'Kedmi C6'</li><li>'Kedmi C9'</li><li>'Littman C1'</li><li>'Littman C14'</li><li>'Lyu C11'</li><li>'Lyu C2'</li><li>'Lyu C6'</li><li>'mto C1'</li><li>'mto C10'</li><li>'mto C11'</li><li>'mto C12'</li><li>'mto C13'</li><li>'mto C14'</li><li>'mto C15'</li><li>'mto C16'</li><li>'mto C2'</li><li>'mto C3'</li><li>'mto C4'</li><li>'mto C5'</li><li>'mto C6'</li><li>'mto C7'</li><li>'mto C8'</li><li>'mto C9'</li><li>'TC_all_LN C1'</li><li>'TC_all_LN C2'</li><li>'TC_all_LN C3'</li><li>'TC_all_LN C4'</li><li>'TC_all_LN C5'</li><li>'TC_all_LN C6'</li><li>'TC_all_LN C7'</li><li>'Wang C12'</li><li>'Wang C13'</li><li>'Wang C3'</li><li>'Wang C9'</li></ol>\n"
      ],
      "text/latex": [
       "\\begin{enumerate*}\n",
       "\\item 'Colonna C0'\n",
       "\\item 'Colonna C10'\n",
       "\\item 'Colonna C5'\n",
       "\\item 'Colonna C7'\n",
       "\\item 'Colonna C9'\n",
       "\\item 'Gardner.A C1'\n",
       "\\item 'Gardner.A C3'\n",
       "\\item 'Gardner.A C4'\n",
       "\\item 'Gardner.E C1'\n",
       "\\item 'Gardner.E C7'\n",
       "\\item 'Kedmi C12'\n",
       "\\item 'Kedmi C14'\n",
       "\\item 'Kedmi C6'\n",
       "\\item 'Kedmi C9'\n",
       "\\item 'Littman C1'\n",
       "\\item 'Littman C14'\n",
       "\\item 'Lyu C11'\n",
       "\\item 'Lyu C2'\n",
       "\\item 'Lyu C6'\n",
       "\\item 'mto C1'\n",
       "\\item 'mto C10'\n",
       "\\item 'mto C11'\n",
       "\\item 'mto C12'\n",
       "\\item 'mto C13'\n",
       "\\item 'mto C14'\n",
       "\\item 'mto C15'\n",
       "\\item 'mto C16'\n",
       "\\item 'mto C2'\n",
       "\\item 'mto C3'\n",
       "\\item 'mto C4'\n",
       "\\item 'mto C5'\n",
       "\\item 'mto C6'\n",
       "\\item 'mto C7'\n",
       "\\item 'mto C8'\n",
       "\\item 'mto C9'\n",
       "\\item 'TC\\_all\\_LN C1'\n",
       "\\item 'TC\\_all\\_LN C2'\n",
       "\\item 'TC\\_all\\_LN C3'\n",
       "\\item 'TC\\_all\\_LN C4'\n",
       "\\item 'TC\\_all\\_LN C5'\n",
       "\\item 'TC\\_all\\_LN C6'\n",
       "\\item 'TC\\_all\\_LN C7'\n",
       "\\item 'Wang C12'\n",
       "\\item 'Wang C13'\n",
       "\\item 'Wang C3'\n",
       "\\item 'Wang C9'\n",
       "\\end{enumerate*}\n"
      ],
      "text/markdown": [
       "1. 'Colonna C0'\n",
       "2. 'Colonna C10'\n",
       "3. 'Colonna C5'\n",
       "4. 'Colonna C7'\n",
       "5. 'Colonna C9'\n",
       "6. 'Gardner.A C1'\n",
       "7. 'Gardner.A C3'\n",
       "8. 'Gardner.A C4'\n",
       "9. 'Gardner.E C1'\n",
       "10. 'Gardner.E C7'\n",
       "11. 'Kedmi C12'\n",
       "12. 'Kedmi C14'\n",
       "13. 'Kedmi C6'\n",
       "14. 'Kedmi C9'\n",
       "15. 'Littman C1'\n",
       "16. 'Littman C14'\n",
       "17. 'Lyu C11'\n",
       "18. 'Lyu C2'\n",
       "19. 'Lyu C6'\n",
       "20. 'mto C1'\n",
       "21. 'mto C10'\n",
       "22. 'mto C11'\n",
       "23. 'mto C12'\n",
       "24. 'mto C13'\n",
       "25. 'mto C14'\n",
       "26. 'mto C15'\n",
       "27. 'mto C16'\n",
       "28. 'mto C2'\n",
       "29. 'mto C3'\n",
       "30. 'mto C4'\n",
       "31. 'mto C5'\n",
       "32. 'mto C6'\n",
       "33. 'mto C7'\n",
       "34. 'mto C8'\n",
       "35. 'mto C9'\n",
       "36. 'TC_all_LN C1'\n",
       "37. 'TC_all_LN C2'\n",
       "38. 'TC_all_LN C3'\n",
       "39. 'TC_all_LN C4'\n",
       "40. 'TC_all_LN C5'\n",
       "41. 'TC_all_LN C6'\n",
       "42. 'TC_all_LN C7'\n",
       "43. 'Wang C12'\n",
       "44. 'Wang C13'\n",
       "45. 'Wang C3'\n",
       "46. 'Wang C9'\n",
       "\n",
       "\n"
      ],
      "text/plain": [
       " [1] \"Colonna C0\"   \"Colonna C10\"  \"Colonna C5\"   \"Colonna C7\"   \"Colonna C9\"  \n",
       " [6] \"Gardner.A C1\" \"Gardner.A C3\" \"Gardner.A C4\" \"Gardner.E C1\" \"Gardner.E C7\"\n",
       "[11] \"Kedmi C12\"    \"Kedmi C14\"    \"Kedmi C6\"     \"Kedmi C9\"     \"Littman C1\"  \n",
       "[16] \"Littman C14\"  \"Lyu C11\"      \"Lyu C2\"       \"Lyu C6\"       \"mto C1\"      \n",
       "[21] \"mto C10\"      \"mto C11\"      \"mto C12\"      \"mto C13\"      \"mto C14\"     \n",
       "[26] \"mto C15\"      \"mto C16\"      \"mto C2\"       \"mto C3\"       \"mto C4\"      \n",
       "[31] \"mto C5\"       \"mto C6\"       \"mto C7\"       \"mto C8\"       \"mto C9\"      \n",
       "[36] \"TC_all_LN C1\" \"TC_all_LN C2\" \"TC_all_LN C3\" \"TC_all_LN C4\" \"TC_all_LN C5\"\n",
       "[41] \"TC_all_LN C6\" \"TC_all_LN C7\" \"Wang C12\"     \"Wang C13\"     \"Wang C3\"     \n",
       "[46] \"Wang C9\"     "
      ]
     },
     "metadata": {},
     "output_type": "display_data"
    }
   ],
   "source": [
    "group.name <- 'Cluster.prev'\n",
    "groups <- sort(unique(sro.i@meta.data[[group.name]]))\n",
    "groups"
   ]
  },
  {
   "cell_type": "code",
   "execution_count": 11,
   "id": "127458d9-3b96-4304-ac4d-d64cb3fcdc98",
   "metadata": {
    "execution": {
     "iopub.execute_input": "2025-05-20T18:50:27.191337Z",
     "iopub.status.busy": "2025-05-20T18:50:27.190057Z",
     "iopub.status.idle": "2025-05-20T18:50:42.378128Z",
     "shell.execute_reply": "2025-05-20T18:50:42.376734Z"
    }
   },
   "outputs": [
    {
     "data": {
      "text/html": [
       "<strong>pdf:</strong> 2"
      ],
      "text/latex": [
       "\\textbf{pdf:} 2"
      ],
      "text/markdown": [
       "**pdf:** 2"
      ],
      "text/plain": [
       "pdf \n",
       "  2 "
      ]
     },
     "metadata": {},
     "output_type": "display_data"
    }
   ],
   "source": [
    "sources <- c(\n",
    "    \"MLN_RORgt_MHCII_multiome\", \"TC_all_LN\", \"Colonna\",\n",
    "    \"Kedmi\", \"Lyu\", \"Wang\",\n",
    "    \"Littman\", \"Gardner.A\", \"Gardner.E\"\n",
    ")\n",
    "\n",
    "pl <- list()\n",
    "for (i in 1:length(sources)){\n",
    "    source.curr <- sources[i]\n",
    "    p.curr <- plot.clusters.highlight.one(\n",
    "        SRO = sro.i,\n",
    "        idx1 = colnames(sro.i), idx2 = sro.i$orig.ident == source.curr,\n",
    "        groups = get.named.vector.sro(sro.i, group.name),\n",
    "        clusters.col = source.curr,\n",
    "        labels = F, label.size = 5,\n",
    "        col = pal[[group.name]], pref.C = F) + guides(colour = guide_legend(override.aes = list(size=5), ncol = 1))\n",
    "    pl[[i]] <- p.curr\n",
    "}\n",
    "\n",
    "ncols <- 3\n",
    "nrows <- ceiling(length(pl)/ncols)\n",
    "\n",
    "raster_pdf(file = paste0(pref.p, \"UMAP-\", group.name, \".pdf\"), width = 10*ncols, height = 6*nrows, res = 150)\n",
    "plot_grid(plotlist = pl, ncol = ncols, align = 'hv')\n",
    "dev.off()"
   ]
  },
  {
   "cell_type": "code",
   "execution_count": null,
   "id": "90f2b79d-ebf5-4270-8512-fa65cc45b186",
   "metadata": {},
   "outputs": [],
   "source": []
  },
  {
   "cell_type": "markdown",
   "id": "f6a9cd93-a509-456d-bd25-0071adcfeb38",
   "metadata": {},
   "source": [
    "# save changes"
   ]
  },
  {
   "cell_type": "code",
   "execution_count": 60,
   "id": "7f26f46f-f143-4d1a-9b58-e8a84a569315",
   "metadata": {
    "execution": {
     "iopub.execute_input": "2025-05-14T19:20:38.355304Z",
     "iopub.status.busy": "2025-05-14T19:20:38.354254Z",
     "iopub.status.idle": "2025-05-14T19:38:59.370487Z",
     "shell.execute_reply": "2025-05-14T19:38:59.368042Z"
    }
   },
   "outputs": [],
   "source": [
    "# write.csv(sro.i@meta.data, file = paste0(pref, \"meta-data.csv\"))\n",
    "# saveRDS(sro.i, paste0(pref, \"SRO.rds\"))"
   ]
  },
  {
   "cell_type": "markdown",
   "id": "1d660c16-2898-444c-997b-46277a70d725",
   "metadata": {},
   "source": [
    "# final annot"
   ]
  },
  {
   "cell_type": "code",
   "execution_count": 12,
   "id": "0b5da84d-2ecf-488b-83a0-2f467740875d",
   "metadata": {
    "execution": {
     "iopub.execute_input": "2025-05-20T18:51:06.375566Z",
     "iopub.status.busy": "2025-05-20T18:51:06.374303Z",
     "iopub.status.idle": "2025-05-20T18:51:06.782852Z",
     "shell.execute_reply": "2025-05-20T18:51:06.781440Z"
    }
   },
   "outputs": [],
   "source": [
    "gardner.e.md <- read.csv(\"../oral-tolerance-Gardner/Seurat/early/meta-data.csv\", row.names = 1)\n",
    "gardner.e.md <- gardner.e.md %>% subset(RNA_snn_res.0.2 %in% c(1, 7, 10))\n",
    "rownames(gardner.e.md) <- paste0(rownames(gardner.e.md), \"_9\")\n",
    "gardner.e.md$paper.annot[is.na(gardner.e.md$paper.annot)] <- 'na'"
   ]
  },
  {
   "cell_type": "code",
   "execution_count": 13,
   "id": "3f8038ba-dad0-494c-ac93-babc84223458",
   "metadata": {
    "execution": {
     "iopub.execute_input": "2025-05-20T18:51:07.321628Z",
     "iopub.status.busy": "2025-05-20T18:51:07.320327Z",
     "iopub.status.idle": "2025-05-20T18:51:07.333916Z",
     "shell.execute_reply": "2025-05-20T18:51:07.332751Z"
    }
   },
   "outputs": [
    {
     "data": {
      "text/plain": [
       "\n",
       "         LTi LTi-like ILC           na       R-cDC1       R-cDC2      R-eTAC1 \n",
       "        9627           39         1166            3            9          829 \n",
       "     R-eTAC2      R-eTAC3        R-mDC \n",
       "         508          370            2 "
      ]
     },
     "metadata": {},
     "output_type": "display_data"
    }
   ],
   "source": [
    "table(gardner.e.md$paper.annot)"
   ]
  },
  {
   "cell_type": "code",
   "execution_count": 14,
   "id": "0e3781e3-d9d5-4550-9aa1-b221b9f93b45",
   "metadata": {
    "execution": {
     "iopub.execute_input": "2025-05-20T18:51:09.028497Z",
     "iopub.status.busy": "2025-05-20T18:51:09.027532Z",
     "iopub.status.idle": "2025-05-20T18:51:09.048514Z",
     "shell.execute_reply": "2025-05-20T18:51:09.047372Z"
    }
   },
   "outputs": [],
   "source": [
    "sro.i@meta.data[sro.i@meta.data$orig.ident == 'Gardner.E',]$paper.annot <- gardner.e.md[rownames(sro.i@meta.data[sro.i@meta.data$orig.ident == 'Gardner.E',]), ]$paper.annot"
   ]
  },
  {
   "cell_type": "code",
   "execution_count": 15,
   "id": "cc5456ae-654b-4d5f-862d-56f6ed64324b",
   "metadata": {
    "execution": {
     "iopub.execute_input": "2025-05-20T18:51:09.847487Z",
     "iopub.status.busy": "2025-05-20T18:51:09.846519Z",
     "iopub.status.idle": "2025-05-20T18:51:09.856271Z",
     "shell.execute_reply": "2025-05-20T18:51:09.855107Z"
    }
   },
   "outputs": [],
   "source": [
    "kedmi.wang.cl.to.annot <- c(\n",
    "    'Kedmi C14' = 'LTi-like ILC3',\n",
    "    'Kedmi C12' = 'Ki67+',\n",
    "    'Kedmi C6' = 'JC1',\n",
    "    'Kedmi C9' = 'JC2',\n",
    "    'Wang C13' = 'LTi-like ILC3',\n",
    "    'Wang C9' = 'Ki67+',\n",
    "    'Wang C3' = 'JC1',\n",
    "    'Wang C12' = 'JC2'\n",
    ")"
   ]
  },
  {
   "cell_type": "code",
   "execution_count": 16,
   "id": "0ef7716e-ce01-4401-9acd-18729c3b20be",
   "metadata": {
    "execution": {
     "iopub.execute_input": "2025-05-20T18:51:10.567277Z",
     "iopub.status.busy": "2025-05-20T18:51:10.566211Z",
     "iopub.status.idle": "2025-05-20T18:51:10.607220Z",
     "shell.execute_reply": "2025-05-20T18:51:10.605972Z"
    }
   },
   "outputs": [],
   "source": [
    "sro.i$paper.annot <- ifelse(\n",
    "    test = sro.i$Cluster.prev %in% names(kedmi.wang.cl.to.annot),\n",
    "    yes = as.character(kedmi.wang.cl.to.annot[sro.i$Cluster.prev]),\n",
    "    no = sro.i$paper.annot\n",
    ")"
   ]
  },
  {
   "cell_type": "code",
   "execution_count": 17,
   "id": "43616f9c-afdd-48fa-bef8-128727b4a478",
   "metadata": {
    "execution": {
     "iopub.execute_input": "2025-05-20T18:51:11.522122Z",
     "iopub.status.busy": "2025-05-20T18:51:11.521145Z",
     "iopub.status.idle": "2025-05-20T18:51:11.544125Z",
     "shell.execute_reply": "2025-05-20T18:51:11.542980Z"
    }
   },
   "outputs": [
    {
     "data": {
      "text/plain": [
       "\n",
       "             cDC2A                ILC               ILC2           Mig_DC_1 \n",
       "                 8                 10                  1                  3 \n",
       "            R-cDC1             R-cDC2              R-mDC   T cell zone macs \n",
       "                 5                 18                 14                  5 \n",
       "Tingible body macs \n",
       "                 2 "
      ]
     },
     "metadata": {},
     "output_type": "display_data"
    }
   ],
   "source": [
    "table(sro.i$paper.annot)[table(sro.i$paper.annot) < 20]"
   ]
  },
  {
   "cell_type": "code",
   "execution_count": 19,
   "id": "d93cd0e1-bacc-4e35-bf91-91fdc0489948",
   "metadata": {
    "execution": {
     "iopub.execute_input": "2025-05-20T18:51:18.352573Z",
     "iopub.status.busy": "2025-05-20T18:51:18.351469Z",
     "iopub.status.idle": "2025-05-20T18:51:18.363284Z",
     "shell.execute_reply": "2025-05-20T18:51:18.362149Z"
    }
   },
   "outputs": [],
   "source": [
    "annot1.to.annot3 <- c(\n",
    "    \"ILC3\" = \"ILC3\",\n",
    "    \"ILC3p\" = \"ILC3\",\n",
    "    \"Ki67+ TC\" = \"Ki67+ TC\",\n",
    "    \"LTi\" = \"LTi\", \n",
    "    \"LTi Variation 1\" = \"LTi Variation 1\", \"LTi Variation 2\" = \"LTi Variation 2\",\n",
    "    \"LTi Variation 3\" = \"LTi Variation 3\", \"LTi Variation 4\" = \"LTi Variation 4\",\n",
    "    \"LTi Variation 5\" = \"LTi Variation 5\", \"LTi Variation 6\" = \"LTi Variation 6\",\n",
    "    \"LTi Variation 7\" = \"LTi Variation 7\", \"LTi Variation 8\" = \"LTi Variation 8\",\n",
    "    \"LTi-like ILC\" = \"ILC\", \"LTi-like ILC3s\" = \"ILC3\",\n",
    "    'LTi-like ILC3' = 'ILC3',\n",
    "    \"LTi-like R-eTAC\" = \"LTi-like eTAC\",\n",
    "    \"NCR+ ILC3\" = \"ILC3\",\n",
    "    \"Nrg1_Pos\" = \"Nrg1_Pos\",\n",
    "    \"Pro. ILC\" = \"ILC\",\n",
    "    \"Pro. R-eTAC\" = \"Ki67+ eTAC\",\n",
    "    \"Proliferating NCR+ ILC3\" = \"ILC3\",\n",
    "    \"Proliferating TC\" = \"Ki67+ TC\",\n",
    "    \"R-eTAC1\" = \"eTAC I\",\n",
    "    \"R-eTAC2\" = \"eTAC II\", \n",
    "    \"R-eTAC3\" = \"eTAC III\",\n",
    "    \"TC 1\" = \"TC I\", \"TC 2\" = \"TC II\", \"TC 3\" = \"TC III\", \"TC 4\" = \"TC IV\",\n",
    "    \"TC I\" = \"TC I\", \"TC II\" = \"TC II\", \"TC III\" = \"TC III\", \"TC IV\" = \"TC IV\",\n",
    "    \"eTACs I\" = \"eTAC I\",\n",
    "    \"eTACs II\" = \"eTAC II\",\n",
    "    'Proliferating eTAC' = 'Ki67+ eTAC',\n",
    "    \"ILC\" = \"ILC\", \"ILC1\" = \"ILC1\", \"ILC2\" = \"ILC2\",\n",
    "    \"na\" = \"na\",\n",
    "    \"Tingible body macs\" = \"other\",\n",
    "    \"T cell zone macs\" = \"other\",\n",
    "    \"Mig_DC_1\" = \"other\", \n",
    "    \"R-cDC1\" = \"other\", \n",
    "    \"R-cDC2\" = \"other\",\n",
    "    \"cDC2A\" = \"other\",\n",
    "    \"R-mDC\" = \"other\"\n",
    ")\n"
   ]
  },
  {
   "cell_type": "code",
   "execution_count": 20,
   "id": "3579dab5-7536-42e2-985d-8a21ee9f538c",
   "metadata": {
    "execution": {
     "iopub.execute_input": "2025-05-20T18:51:18.858252Z",
     "iopub.status.busy": "2025-05-20T18:51:18.857330Z",
     "iopub.status.idle": "2025-05-20T18:51:18.878673Z",
     "shell.execute_reply": "2025-05-20T18:51:18.877537Z"
    }
   },
   "outputs": [
    {
     "data": {
      "text/html": [
       "<style>\n",
       ".list-inline {list-style: none; margin:0; padding: 0}\n",
       ".list-inline>li {display: inline-block}\n",
       ".list-inline>li:not(:last-child)::after {content: \"\\00b7\"; padding: 0 .5ex}\n",
       "</style>\n",
       "<ol class=list-inline><li>'JC1'</li><li>'JC2'</li><li>'Ki67+'</li><li>'early/transitional TC'</li><li>'RORgt DC I'</li><li>'RORgt DC IV'</li><li>'RORgt DC III'</li><li>'RORgt DC II'</li><li>'Tolerogenic DC'</li></ol>\n"
      ],
      "text/latex": [
       "\\begin{enumerate*}\n",
       "\\item 'JC1'\n",
       "\\item 'JC2'\n",
       "\\item 'Ki67+'\n",
       "\\item 'early/transitional TC'\n",
       "\\item 'RORgt DC I'\n",
       "\\item 'RORgt DC IV'\n",
       "\\item 'RORgt DC III'\n",
       "\\item 'RORgt DC II'\n",
       "\\item 'Tolerogenic DC'\n",
       "\\end{enumerate*}\n"
      ],
      "text/markdown": [
       "1. 'JC1'\n",
       "2. 'JC2'\n",
       "3. 'Ki67+'\n",
       "4. 'early/transitional TC'\n",
       "5. 'RORgt DC I'\n",
       "6. 'RORgt DC IV'\n",
       "7. 'RORgt DC III'\n",
       "8. 'RORgt DC II'\n",
       "9. 'Tolerogenic DC'\n",
       "\n",
       "\n"
      ],
      "text/plain": [
       "[1] \"JC1\"                   \"JC2\"                   \"Ki67+\"                \n",
       "[4] \"early/transitional TC\" \"RORgt DC I\"            \"RORgt DC IV\"          \n",
       "[7] \"RORgt DC III\"          \"RORgt DC II\"           \"Tolerogenic DC\"       "
      ]
     },
     "metadata": {},
     "output_type": "display_data"
    }
   ],
   "source": [
    "unique(sro.i$paper.annot)[unique(sro.i$paper.annot) %ni% names(annot1.to.annot3)]"
   ]
  },
  {
   "cell_type": "code",
   "execution_count": 21,
   "id": "61e11869-02fc-42ed-9dad-3f681fe42cca",
   "metadata": {
    "execution": {
     "iopub.execute_input": "2025-05-20T18:51:34.166649Z",
     "iopub.status.busy": "2025-05-20T18:51:34.165475Z",
     "iopub.status.idle": "2025-05-20T18:51:34.185552Z",
     "shell.execute_reply": "2025-05-20T18:51:34.184354Z"
    }
   },
   "outputs": [
    {
     "data": {
      "text/html": [
       "'Proliferating eTAC'"
      ],
      "text/latex": [
       "'Proliferating eTAC'"
      ],
      "text/markdown": [
       "'Proliferating eTAC'"
      ],
      "text/plain": [
       "[1] \"Proliferating eTAC\""
      ]
     },
     "metadata": {},
     "output_type": "display_data"
    }
   ],
   "source": [
    "names(annot1.to.annot3)[names(annot1.to.annot3) %ni% unique(sro.i$paper.annot)]"
   ]
  },
  {
   "cell_type": "code",
   "execution_count": 22,
   "id": "fd7e403f-997e-49c4-ba3a-a1d6cfceacee",
   "metadata": {
    "execution": {
     "iopub.execute_input": "2025-05-20T18:52:03.737291Z",
     "iopub.status.busy": "2025-05-20T18:52:03.736163Z",
     "iopub.status.idle": "2025-05-20T18:52:03.776611Z",
     "shell.execute_reply": "2025-05-20T18:52:03.775444Z"
    }
   },
   "outputs": [
    {
     "data": {
      "text/html": [
       "<style>\n",
       ".list-inline {list-style: none; margin:0; padding: 0}\n",
       ".list-inline>li {display: inline-block}\n",
       ".list-inline>li:not(:last-child)::after {content: \"\\00b7\"; padding: 0 .5ex}\n",
       "</style>\n",
       "<ol class=list-inline><li>'early/transitional TC'</li><li>'eTAC I'</li><li>'eTAC II'</li><li>'eTAC III'</li><li>'ILC'</li><li>'ILC1'</li><li>'ILC2'</li><li>'ILC3'</li><li>'JC1'</li><li>'JC2'</li><li>'Ki67+'</li><li>'Ki67+ eTAC'</li><li>'Ki67+ TC'</li><li>'LTi'</li><li>'LTi Variation 1'</li><li>'LTi Variation 2'</li><li>'LTi Variation 3'</li><li>'LTi Variation 4'</li><li>'LTi Variation 5'</li><li>'LTi Variation 6'</li><li>'LTi Variation 7'</li><li>'LTi Variation 8'</li><li>'LTi-like eTAC'</li><li>'na'</li><li>'Nrg1_Pos'</li><li>'other'</li><li>'RORgt DC I'</li><li>'RORgt DC II'</li><li>'RORgt DC III'</li><li>'RORgt DC IV'</li><li>'TC I'</li><li>'TC II'</li><li>'TC III'</li><li>'TC IV'</li><li>'Tolerogenic DC'</li></ol>\n"
      ],
      "text/latex": [
       "\\begin{enumerate*}\n",
       "\\item 'early/transitional TC'\n",
       "\\item 'eTAC I'\n",
       "\\item 'eTAC II'\n",
       "\\item 'eTAC III'\n",
       "\\item 'ILC'\n",
       "\\item 'ILC1'\n",
       "\\item 'ILC2'\n",
       "\\item 'ILC3'\n",
       "\\item 'JC1'\n",
       "\\item 'JC2'\n",
       "\\item 'Ki67+'\n",
       "\\item 'Ki67+ eTAC'\n",
       "\\item 'Ki67+ TC'\n",
       "\\item 'LTi'\n",
       "\\item 'LTi Variation 1'\n",
       "\\item 'LTi Variation 2'\n",
       "\\item 'LTi Variation 3'\n",
       "\\item 'LTi Variation 4'\n",
       "\\item 'LTi Variation 5'\n",
       "\\item 'LTi Variation 6'\n",
       "\\item 'LTi Variation 7'\n",
       "\\item 'LTi Variation 8'\n",
       "\\item 'LTi-like eTAC'\n",
       "\\item 'na'\n",
       "\\item 'Nrg1\\_Pos'\n",
       "\\item 'other'\n",
       "\\item 'RORgt DC I'\n",
       "\\item 'RORgt DC II'\n",
       "\\item 'RORgt DC III'\n",
       "\\item 'RORgt DC IV'\n",
       "\\item 'TC I'\n",
       "\\item 'TC II'\n",
       "\\item 'TC III'\n",
       "\\item 'TC IV'\n",
       "\\item 'Tolerogenic DC'\n",
       "\\end{enumerate*}\n"
      ],
      "text/markdown": [
       "1. 'early/transitional TC'\n",
       "2. 'eTAC I'\n",
       "3. 'eTAC II'\n",
       "4. 'eTAC III'\n",
       "5. 'ILC'\n",
       "6. 'ILC1'\n",
       "7. 'ILC2'\n",
       "8. 'ILC3'\n",
       "9. 'JC1'\n",
       "10. 'JC2'\n",
       "11. 'Ki67+'\n",
       "12. 'Ki67+ eTAC'\n",
       "13. 'Ki67+ TC'\n",
       "14. 'LTi'\n",
       "15. 'LTi Variation 1'\n",
       "16. 'LTi Variation 2'\n",
       "17. 'LTi Variation 3'\n",
       "18. 'LTi Variation 4'\n",
       "19. 'LTi Variation 5'\n",
       "20. 'LTi Variation 6'\n",
       "21. 'LTi Variation 7'\n",
       "22. 'LTi Variation 8'\n",
       "23. 'LTi-like eTAC'\n",
       "24. 'na'\n",
       "25. 'Nrg1_Pos'\n",
       "26. 'other'\n",
       "27. 'RORgt DC I'\n",
       "28. 'RORgt DC II'\n",
       "29. 'RORgt DC III'\n",
       "30. 'RORgt DC IV'\n",
       "31. 'TC I'\n",
       "32. 'TC II'\n",
       "33. 'TC III'\n",
       "34. 'TC IV'\n",
       "35. 'Tolerogenic DC'\n",
       "\n",
       "\n"
      ],
      "text/plain": [
       " [1] \"early/transitional TC\" \"eTAC I\"                \"eTAC II\"              \n",
       " [4] \"eTAC III\"              \"ILC\"                   \"ILC1\"                 \n",
       " [7] \"ILC2\"                  \"ILC3\"                  \"JC1\"                  \n",
       "[10] \"JC2\"                   \"Ki67+\"                 \"Ki67+ eTAC\"           \n",
       "[13] \"Ki67+ TC\"              \"LTi\"                   \"LTi Variation 1\"      \n",
       "[16] \"LTi Variation 2\"       \"LTi Variation 3\"       \"LTi Variation 4\"      \n",
       "[19] \"LTi Variation 5\"       \"LTi Variation 6\"       \"LTi Variation 7\"      \n",
       "[22] \"LTi Variation 8\"       \"LTi-like eTAC\"         \"na\"                   \n",
       "[25] \"Nrg1_Pos\"              \"other\"                 \"RORgt DC I\"           \n",
       "[28] \"RORgt DC II\"           \"RORgt DC III\"          \"RORgt DC IV\"          \n",
       "[31] \"TC I\"                  \"TC II\"                 \"TC III\"               \n",
       "[34] \"TC IV\"                 \"Tolerogenic DC\"       "
      ]
     },
     "metadata": {},
     "output_type": "display_data"
    }
   ],
   "source": [
    "sro.i$paper.annot3 <- ifelse(\n",
    "    test = sro.i$paper.annot %in% names(annot1.to.annot3),\n",
    "    yes = as.character(annot1.to.annot3[sro.i$paper.annot]),\n",
    "    no = sro.i$paper.annot\n",
    ")\n",
    "group.name <- 'paper.annot3'\n",
    "groups <- sort(unique(sro.i@meta.data[[group.name]]))\n",
    "groups[groups %ni% names(pal$paper.annot3)]"
   ]
  },
  {
   "cell_type": "code",
   "execution_count": 28,
   "id": "b7ee08c9-a20e-4494-9549-e06769eea061",
   "metadata": {
    "execution": {
     "iopub.execute_input": "2025-05-20T18:55:16.086849Z",
     "iopub.status.busy": "2025-05-20T18:55:16.085687Z",
     "iopub.status.idle": "2025-05-20T18:55:16.099430Z",
     "shell.execute_reply": "2025-05-20T18:55:16.098033Z"
    }
   },
   "outputs": [],
   "source": [
    "pal$paper.annot3 <-c(\n",
    "    \"Proliferating TC\" = \"#e051bc\",\n",
    "    \"Ki67 TC\" = \"#e051bc\",\n",
    "    \"Ki67+ TC\" = \"#e051bc\",\n",
    "    \"Ki67+\" = \"#e051bc\",\n",
    "    \"Ki67+ eTAC\" = \"#e051bc\",\n",
    "    \"early/transitional TC\" = \"#ccf3ff\",\n",
    "    \"TC I\" = \"#D790FF\",\n",
    "    \"TC II\" = \"#BC23FF\",\n",
    "    \"TC III\" = \"#72418F\",\n",
    "    \"TC IV\" = \"#3A2465\",\n",
    "    \"TC II, III, IV\" = \"#72418F\",\n",
    "    \"TCs\" = \"#BC23FF\",\n",
    "    \"RORgt DC I\" = \"#D790FF\",\n",
    "    \"RORgt DC II\" = \"#BC23FF\",\n",
    "    \"RORgt DC III\" = \"#72418F\",\n",
    "    \"RORgt DC IV\" = \"#3A2465\",\n",
    "    \"LTi-like eTAC\" = \"#ccf3ff\",\n",
    "    \"Proliferating eTAC\" = \"#e051bc\",\n",
    "    \"RORgt+_DC_like\" = '#D790FF',\n",
    "    \"RORgt+_eTAC\" = '#72418F',\n",
    "    \"JC1\" = \"#D790FF\",\n",
    "    \"JC2\" = \"#BC23FF\",\n",
    "    \"eTAC I\" = \"#D790FF\",\n",
    "    \"eTAC II\" = \"#BC23FF\",\n",
    "    \"eTAC III\" = \"#72418F\",\n",
    "    \"JC\"= \"#BC23FF\",\n",
    "    \"ILC1\" ='#17e81b',\n",
    "    \"ILC2\" ='#77d9ae',\n",
    "    \"ILC3p\" = \"#7daedb\",\n",
    "    \"Proliferating NCR+ ILC3\" = \"#0976de\",\n",
    "    \"ILC3\" = \"#14a38e\",\n",
    "    \"NCR+ ILC3\" = \"#003a85\",\n",
    "    \"LTi-like ILC3s\" = \"#14a38e\",\n",
    "    \"LTi-like ILC3\" = \"#14a38e\",\n",
    "    \"LTi Variation 1\" = \"#17e81b\",\n",
    "    \"LTi Variation 2\" = \"#77d9ae\",\n",
    "    \"LTi Variation 3\" = \"#14a38e\",\n",
    "    \"LTi Variation 4\" = \"#05a15c\",\n",
    "    \"LTi Variation 5\" = \"#4e7506\",\n",
    "    \"LTi Variation 6\" = \"#0d6930\",\n",
    "    \"LTi Variation 7\" = \"#405933\",\n",
    "    \"LTi Variation 8\" = \"#0d3b0e\",\n",
    "    'LTi' = \"#14a38e\",\n",
    "    \"ILC\" ='#14a38e',\n",
    "    \"Nrg1_Pos\" = '#D790FF',\n",
    "    \"Tolerogenic DC\" = '#72418F',\n",
    "    \"mDC\" = '#FAD09F',\n",
    "    \"pDC\" = '#e67109',\n",
    "    \"tDC\" = '#ffc5af',\n",
    "    \"migDC\" = 'orange',\n",
    "    \"cDC1\" = 'orange',\n",
    "    \"cDC2\" = '#e60e0e',\n",
    "    \"cDC2A\" = '#e60e0e',\n",
    "    \"cDC2_A\" = '#e60e0e',\n",
    "    \"cDC2_B\" = 'pink',\n",
    "    \"Tingible body macs\" =  '#0077ff',\n",
    "    \"T cell zone macs\" = '#489de8',\n",
    "    \"na\" = 'black',\n",
    "    'other' = 'yellow'\n",
    "    # 'other' = '#636363'\n",
    ")"
   ]
  },
  {
   "cell_type": "code",
   "execution_count": 24,
   "id": "26dc97f0-fa1c-4188-82f5-b8116c82ccd3",
   "metadata": {
    "execution": {
     "iopub.execute_input": "2025-05-20T18:52:07.840848Z",
     "iopub.status.busy": "2025-05-20T18:52:07.839827Z",
     "iopub.status.idle": "2025-05-20T18:52:07.857201Z",
     "shell.execute_reply": "2025-05-20T18:52:07.856047Z"
    }
   },
   "outputs": [],
   "source": [
    "sro.i$paper.annot3 <- factor(sro.i$paper.annot3, levels = names(pal$paper.annot3))\n",
    "sources <- c(\n",
    "    \"MLN_RORgt_MHCII_multiome\", \"TC_all_LN\", \"Colonna\",\n",
    "    \"Kedmi\", \"Lyu\", \"Wang\",\n",
    "    \"Littman\", \"Gardner.A\", \"Gardner.E\"\n",
    ")"
   ]
  },
  {
   "cell_type": "code",
   "execution_count": 29,
   "id": "8a6beb78-e309-41ae-b67a-900e7c52e2a1",
   "metadata": {
    "execution": {
     "iopub.execute_input": "2025-05-20T18:55:17.511259Z",
     "iopub.status.busy": "2025-05-20T18:55:17.509968Z",
     "iopub.status.idle": "2025-05-20T18:55:32.556248Z",
     "shell.execute_reply": "2025-05-20T18:55:32.554766Z"
    }
   },
   "outputs": [
    {
     "data": {
      "text/html": [
       "<strong>pdf:</strong> 2"
      ],
      "text/latex": [
       "\\textbf{pdf:} 2"
      ],
      "text/markdown": [
       "**pdf:** 2"
      ],
      "text/plain": [
       "pdf \n",
       "  2 "
      ]
     },
     "metadata": {},
     "output_type": "display_data"
    }
   ],
   "source": [
    "pl <- list()\n",
    "for (i in 1:length(sources)){\n",
    "    source.curr <- sources[i]\n",
    "    p.curr <- plot.clusters.highlight.one(\n",
    "        SRO = sro.i,\n",
    "        idx1 = colnames(sro.i), idx2 = sro.i$orig.ident == source.curr,\n",
    "        groups = get.named.vector.sro(sro.i, group.name),\n",
    "        clusters.col = source.curr,\n",
    "        labels = F, label.size = 5,\n",
    "        col = pal[[group.name]], pref.C = F) + guides(colour = guide_legend(override.aes = list(size=5), ncol = 1))\n",
    "    pl[[i]] <- p.curr\n",
    "}\n",
    "\n",
    "ncols <- 3\n",
    "nrows <- ceiling(length(pl)/ncols)\n",
    "\n",
    "raster_pdf(file = paste0(pref.p, \"UMAP-\", group.name, \".pdf\"), width = 10*ncols, height = 6*nrows, res = 150)\n",
    "plot_grid(plotlist = pl, ncol = ncols, align = 'hv')\n",
    "dev.off()"
   ]
  },
  {
   "cell_type": "code",
   "execution_count": null,
   "id": "e1b57f73-ca61-4f1e-82b0-52f18f98cb9b",
   "metadata": {},
   "outputs": [],
   "source": []
  }
 ],
 "metadata": {
  "kernelspec": {
   "display_name": "R [conda env:multiome]",
   "language": "R",
   "name": "conda-env-multiome-r"
  },
  "language_info": {
   "codemirror_mode": "r",
   "file_extension": ".r",
   "mimetype": "text/x-r-source",
   "name": "R",
   "pygments_lexer": "r",
   "version": "4.3.3"
  }
 },
 "nbformat": 4,
 "nbformat_minor": 5
}
