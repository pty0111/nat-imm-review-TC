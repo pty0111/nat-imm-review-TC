{
 "cells": [
  {
   "cell_type": "code",
   "execution_count": 1,
   "id": "d69d9844-a54c-48a1-b068-7ac5c2343b18",
   "metadata": {
    "execution": {
     "iopub.execute_input": "2025-05-09T20:56:19.860078Z",
     "iopub.status.busy": "2025-05-09T20:56:19.858113Z",
     "iopub.status.idle": "2025-05-09T20:56:23.886550Z",
     "shell.execute_reply": "2025-05-09T20:56:23.885270Z"
    },
    "scrolled": true,
    "tags": []
   },
   "outputs": [],
   "source": [
    "setwd(\"~/0-workspace/CCR7_DC/oral-tolerance-integrate/\")\n",
    "\n",
    "suppressPackageStartupMessages({\n",
    "library(Seurat) # v4.4\n",
    "library(Matrix)\n",
    "library(future)\n",
    "library(dplyr)\n",
    "library(ggplot2)\n",
    "library(cowplot)\n",
    "library(ComplexHeatmap)\n",
    "library(circlize)\n",
    "library(ggrepel)\n",
    "})\n",
    "set.seed(1)\n",
    "options(future.globals.maxSize = Inf)\n",
    "\n",
    "# pal <- readRDS(\"plots/palette.rds\")\n",
    "source(\"utils.R\")"
   ]
  },
  {
   "cell_type": "code",
   "execution_count": 2,
   "id": "7f3e4f11-b552-4fda-986d-286ce6fb25f8",
   "metadata": {
    "execution": {
     "iopub.execute_input": "2025-05-09T20:56:23.906646Z",
     "iopub.status.busy": "2025-05-09T20:56:23.888225Z",
     "iopub.status.idle": "2025-05-09T20:56:23.918358Z",
     "shell.execute_reply": "2025-05-09T20:56:23.917193Z"
    }
   },
   "outputs": [],
   "source": [
    "cols <- rev(RColorBrewer::brewer.pal(11,\"Spectral\"))\n",
    "transitions <- c(0, 15, 25, 30, 40, 50, 60, 70, 75, 85, 100)\n",
    "scaled_transitions <- scales::rescale(transitions, from = c(0, 100), to = c(0, 1))\n",
    "scale.color <- scale_color_gradientn(colors = cols, values = scaled_transitions)"
   ]
  },
  {
   "cell_type": "code",
   "execution_count": 3,
   "id": "a2f410d3-19bd-4ffb-a656-ffb159988265",
   "metadata": {
    "execution": {
     "iopub.execute_input": "2025-05-09T20:56:24.206543Z",
     "iopub.status.busy": "2025-05-09T20:56:23.919981Z",
     "iopub.status.idle": "2025-05-09T20:56:24.215496Z",
     "shell.execute_reply": "2025-05-09T20:56:24.214453Z"
    },
    "tags": []
   },
   "outputs": [],
   "source": [
    "RenameGenesSeurat <- function(obj, newnames) { # Replace gene names in different slots of a Seurat object. Run this before integration. It only changes obj@assays$RNA@counts, @data and @scale.data.\n",
    "  print(\"Run this before integration. It only changes obj@assays$RNA@counts, @data and @scale.data.\")\n",
    "  RNA <- obj@assays$RNA\n",
    "  \n",
    "  if (nrow(RNA) == length(newnames)) {\n",
    "    if (length(RNA@counts)) RNA@counts@Dimnames[[1]] <- newnames\n",
    "    if (length(RNA@data)) RNA@data@Dimnames[[1]] <- newnames\n",
    "    if (length(RNA@scale.data)) rownames(RNA@scale.data) <- newnames\n",
    "    if (length(RNA@meta.features)) {\n",
    "      RNA@meta.features$prev.names <- rownames(RNA@meta.features)\n",
    "      rownames(RNA@meta.features) <- newnames\n",
    "    }\n",
    "    if (length(RNA@var.features)){\n",
    "      RNA@var.features <- rownames(RNA@meta.features[match(RNA@var.features, RNA@meta.features$prev.names), ])\n",
    "    }\n",
    "  } else {\"Unequal gene sets: nrow(RNA) != nrow(newnames)\"}\n",
    "  obj@assays$RNA <- RNA\n",
    "  return(obj)\n",
    "}"
   ]
  },
  {
   "cell_type": "code",
   "execution_count": 4,
   "id": "f957f638-6e15-4379-b638-077848e87b69",
   "metadata": {
    "execution": {
     "iopub.execute_input": "2025-05-09T20:56:24.217816Z",
     "iopub.status.busy": "2025-05-09T20:56:24.217027Z",
     "iopub.status.idle": "2025-05-09T20:56:24.225811Z",
     "shell.execute_reply": "2025-05-09T20:56:24.224814Z"
    }
   },
   "outputs": [],
   "source": [
    "select.markers <- function(fn, output.dir = 'results/markers/', pairwise = F, fc.thr = 1.5, apv.thr = 0.01, n = Inf, exCC = F, cc.genes = NULL){\n",
    "  markers <- read.csv(file = paste0(output.dir, fn, \".csv\"), header = T, stringsAsFactors = F) %>%\n",
    "    subset(!grepl(\"(^MT-)|(^RPS)|(^RPL)|(^MRPL)|(^MRPS)\", toupper(gene)))\n",
    "  if (exCC){\n",
    "    markers <- markers[!(toupper(markers$gene) %in% toupper(cc.genes)),]\n",
    "  }\n",
    "  if(pairwise){\n",
    "    markers <- subset(markers, abs(avg_log2FC) > log2(fc.thr) & p_val_adj < apv.thr)\n",
    "    markers$cluster <- ifelse(markers$avg_log2FC > 0, \"up\", \"down\")\n",
    "    if(!is.infinite(n)) markers <- markers %>% group_by(cluster) %>% top_n(n, abs(avg_log2FC))\n",
    "    markers <- markers[order(markers$avg_log2FC), ]\n",
    "  } else{\n",
    "    markers <- subset(markers, avg_log2FC > log2(fc.thr) & p_val_adj < apv.thr)\n",
    "    if(any(duplicated(markers$gene))) markers <- markers %>% group_by(gene) %>% top_n(1, avg_log2FC)\n",
    "    if(!is.infinite(n)) markers <- markers %>% group_by(cluster) %>% top_n(n, avg_log2FC)\n",
    "    markers <- markers[order(markers$cluster, -markers$avg_log2FC), ]\n",
    "  }\n",
    "  return(markers)\n",
    "}"
   ]
  },
  {
   "cell_type": "markdown",
   "id": "a93ef6b7-2438-47e5-8120-da2942954ca9",
   "metadata": {},
   "source": [
    "# Load SRO"
   ]
  },
  {
   "cell_type": "code",
   "execution_count": 5,
   "id": "999a9aa4-2565-4e4e-9268-e8243e9dec0b",
   "metadata": {
    "execution": {
     "iopub.execute_input": "2025-05-09T20:56:24.228090Z",
     "iopub.status.busy": "2025-05-09T20:56:24.227306Z",
     "iopub.status.idle": "2025-05-09T20:56:31.036566Z",
     "shell.execute_reply": "2025-05-09T20:56:31.034448Z"
    }
   },
   "outputs": [],
   "source": [
    "# load SRO ####\n",
    "sro.ln <- readRDS(\"../TC_all_LN/results/SRO_subset.rds\")"
   ]
  },
  {
   "cell_type": "code",
   "execution_count": 6,
   "id": "38fe5549-49de-4ab6-bb9f-ab28a6bba1e3",
   "metadata": {
    "execution": {
     "iopub.execute_input": "2025-05-09T20:56:31.814003Z",
     "iopub.status.busy": "2025-05-09T20:56:31.812737Z",
     "iopub.status.idle": "2025-05-09T20:57:03.048320Z",
     "shell.execute_reply": "2025-05-09T20:57:03.046616Z"
    }
   },
   "outputs": [
    {
     "name": "stdout",
     "output_type": "stream",
     "text": [
      "[1] \"Run this before integration. It only changes obj@assays$RNA@counts, @data and @scale.data.\"\n"
     ]
    }
   ],
   "source": [
    "pref.sro <- \"integrate-TC/cca/\"; pref.p.sro <- \"plots/integrate-ILC3-TC-v3/cca/\"\n",
    "sro <- readRDS(paste0(pref.sro, \"SRO.rds\"))\n",
    "sro <- RenameGenesSeurat(sro, toupper(rownames(sro)))"
   ]
  },
  {
   "cell_type": "code",
   "execution_count": 7,
   "id": "81f59e26-3155-41da-8f3d-92f0f33f91d7",
   "metadata": {
    "execution": {
     "iopub.execute_input": "2025-05-09T20:57:03.052072Z",
     "iopub.status.busy": "2025-05-09T20:57:03.050857Z",
     "iopub.status.idle": "2025-05-09T20:57:03.066536Z",
     "shell.execute_reply": "2025-05-09T20:57:03.064982Z"
    }
   },
   "outputs": [],
   "source": [
    "DefaultAssay(sro) <- \"RNA\""
   ]
  },
  {
   "cell_type": "code",
   "execution_count": 8,
   "id": "f0096116-adb9-48e3-8435-4ea57298306b",
   "metadata": {
    "execution": {
     "iopub.execute_input": "2025-05-09T20:57:03.070049Z",
     "iopub.status.busy": "2025-05-09T20:57:03.068822Z",
     "iopub.status.idle": "2025-05-09T20:57:03.087755Z",
     "shell.execute_reply": "2025-05-09T20:57:03.086153Z"
    }
   },
   "outputs": [
    {
     "data": {
      "text/html": [
       "<style>\n",
       ".list-inline {list-style: none; margin:0; padding: 0}\n",
       ".list-inline>li {display: inline-block}\n",
       ".list-inline>li:not(:last-child)::after {content: \"\\00b7\"; padding: 0 .5ex}\n",
       "</style>\n",
       "<ol class=list-inline><li>'XKR4'</li><li>'RP1'</li><li>'SOX17'</li><li>'MRPL15'</li><li>'LYPLA1'</li><li>'TCEA1'</li></ol>\n"
      ],
      "text/latex": [
       "\\begin{enumerate*}\n",
       "\\item 'XKR4'\n",
       "\\item 'RP1'\n",
       "\\item 'SOX17'\n",
       "\\item 'MRPL15'\n",
       "\\item 'LYPLA1'\n",
       "\\item 'TCEA1'\n",
       "\\end{enumerate*}\n"
      ],
      "text/markdown": [
       "1. 'XKR4'\n",
       "2. 'RP1'\n",
       "3. 'SOX17'\n",
       "4. 'MRPL15'\n",
       "5. 'LYPLA1'\n",
       "6. 'TCEA1'\n",
       "\n",
       "\n"
      ],
      "text/plain": [
       "[1] \"XKR4\"   \"RP1\"    \"SOX17\"  \"MRPL15\" \"LYPLA1\" \"TCEA1\" "
      ]
     },
     "metadata": {},
     "output_type": "display_data"
    }
   ],
   "source": [
    "head(rownames(sro))"
   ]
  },
  {
   "cell_type": "markdown",
   "id": "a3c571ee-4d72-467b-88af-181cdb649153",
   "metadata": {},
   "source": [
    "## TC module scores"
   ]
  },
  {
   "cell_type": "code",
   "execution_count": 9,
   "id": "0c6ee2af-a8d7-4c18-b5e2-639a1173ab8a",
   "metadata": {
    "execution": {
     "iopub.execute_input": "2025-05-09T20:57:03.091037Z",
     "iopub.status.busy": "2025-05-09T20:57:03.089911Z",
     "iopub.status.idle": "2025-05-09T20:57:03.106500Z",
     "shell.execute_reply": "2025-05-09T20:57:03.105032Z"
    }
   },
   "outputs": [
    {
     "data": {
      "text/html": [
       "'plots/integrate-ILC3-TC-v3/cca/'"
      ],
      "text/latex": [
       "'plots/integrate-ILC3-TC-v3/cca/'"
      ],
      "text/markdown": [
       "'plots/integrate-ILC3-TC-v3/cca/'"
      ],
      "text/plain": [
       "[1] \"plots/integrate-ILC3-TC-v3/cca/\""
      ]
     },
     "metadata": {},
     "output_type": "display_data"
    }
   ],
   "source": [
    "pref.p.sro\n",
    "dir.create(paste0(pref.p.sro, \"module-scores\"))"
   ]
  },
  {
   "cell_type": "code",
   "execution_count": 10,
   "id": "30ee2ce5-fa59-4ae0-ac15-016735e6d426",
   "metadata": {
    "execution": {
     "iopub.execute_input": "2025-05-09T20:57:03.109769Z",
     "iopub.status.busy": "2025-05-09T20:57:03.108607Z",
     "iopub.status.idle": "2025-05-09T20:57:03.421482Z",
     "shell.execute_reply": "2025-05-09T20:57:03.419896Z"
    }
   },
   "outputs": [],
   "source": [
    "# load markers ####\n",
    "markers.ln <- select.markers(\"TC-clusters\", output.dir = paste0('../TC_all_LN/results/markers/'))"
   ]
  },
  {
   "cell_type": "code",
   "execution_count": 11,
   "id": "73d5d0a5-ba3b-438c-a0dc-db7d3d445628",
   "metadata": {
    "execution": {
     "iopub.execute_input": "2025-05-09T20:57:03.424990Z",
     "iopub.status.busy": "2025-05-09T20:57:03.423760Z",
     "iopub.status.idle": "2025-05-09T20:57:03.453220Z",
     "shell.execute_reply": "2025-05-09T20:57:03.451642Z"
    }
   },
   "outputs": [],
   "source": [
    "tc1.markers.ln <- markers.ln[markers.ln$cluster == 3,]\n",
    "tc2.markers.ln <- markers.ln[markers.ln$cluster == 2,]\n",
    "tc3.markers.ln <- markers.ln[markers.ln$cluster == 1,]\n",
    "tc4.markers.ln <- markers.ln[markers.ln$cluster == 5,]\n",
    "ki_tc.markers.ln <- markers.ln[markers.ln$cluster == 7,]\n",
    "transitional.markers.ln <- markers.ln[markers.ln$cluster == 4,]"
   ]
  },
  {
   "cell_type": "code",
   "execution_count": 12,
   "id": "ea60732e-62ac-4c1e-8aa6-83ef65643e60",
   "metadata": {
    "execution": {
     "iopub.execute_input": "2025-05-09T20:57:03.456667Z",
     "iopub.status.busy": "2025-05-09T20:57:03.455482Z",
     "iopub.status.idle": "2025-05-09T20:57:03.499815Z",
     "shell.execute_reply": "2025-05-09T20:57:03.498279Z"
    }
   },
   "outputs": [
    {
     "data": {
      "text/html": [
       "152"
      ],
      "text/latex": [
       "152"
      ],
      "text/markdown": [
       "152"
      ],
      "text/plain": [
       "[1] 152"
      ]
     },
     "metadata": {},
     "output_type": "display_data"
    },
    {
     "data": {
      "text/html": [
       "153"
      ],
      "text/latex": [
       "153"
      ],
      "text/markdown": [
       "153"
      ],
      "text/plain": [
       "[1] 153"
      ]
     },
     "metadata": {},
     "output_type": "display_data"
    },
    {
     "data": {
      "text/html": [
       "199"
      ],
      "text/latex": [
       "199"
      ],
      "text/markdown": [
       "199"
      ],
      "text/plain": [
       "[1] 199"
      ]
     },
     "metadata": {},
     "output_type": "display_data"
    },
    {
     "data": {
      "text/html": [
       "217"
      ],
      "text/latex": [
       "217"
      ],
      "text/markdown": [
       "217"
      ],
      "text/plain": [
       "[1] 217"
      ]
     },
     "metadata": {},
     "output_type": "display_data"
    },
    {
     "data": {
      "text/html": [
       "289"
      ],
      "text/latex": [
       "289"
      ],
      "text/markdown": [
       "289"
      ],
      "text/plain": [
       "[1] 289"
      ]
     },
     "metadata": {},
     "output_type": "display_data"
    },
    {
     "data": {
      "text/html": [
       "83"
      ],
      "text/latex": [
       "83"
      ],
      "text/markdown": [
       "83"
      ],
      "text/plain": [
       "[1] 83"
      ]
     },
     "metadata": {},
     "output_type": "display_data"
    }
   ],
   "source": [
    "sum(toupper(tc1.markers.ln$gene) %in% rownames(sro))\n",
    "sum(toupper(tc2.markers.ln$gene) %in% rownames(sro))\n",
    "sum(toupper(tc3.markers.ln$gene) %in% rownames(sro))\n",
    "sum(toupper(tc4.markers.ln$gene) %in% rownames(sro))\n",
    "sum(toupper(ki_tc.markers.ln$gene) %in% rownames(sro))\n",
    "sum(toupper(transitional.markers.ln$gene) %in% rownames(sro))"
   ]
  },
  {
   "cell_type": "code",
   "execution_count": 13,
   "id": "c087ac12-4f2c-44bb-a455-9e26822923f4",
   "metadata": {
    "execution": {
     "iopub.execute_input": "2025-05-09T20:57:03.503266Z",
     "iopub.status.busy": "2025-05-09T20:57:03.502062Z",
     "iopub.status.idle": "2025-05-09T20:57:26.028942Z",
     "shell.execute_reply": "2025-05-09T20:57:26.027530Z"
    },
    "scrolled": true
   },
   "outputs": [],
   "source": [
    "sro <- AddModuleScore(sro, list(toupper(transitional.markers.ln$gene)), name = \"transitional.markers\")\n",
    "sro <- AddModuleScore(sro, list(toupper(ki_tc.markers.ln$gene)), name = \"ki_tc.markers\")\n",
    "sro <- AddModuleScore(sro, list(toupper(tc1.markers.ln$gene)), name = \"tc1.markers\")\n",
    "sro <- AddModuleScore(sro, list(toupper(tc2.markers.ln$gene)), name = \"tc2.markers\")\n",
    "sro <- AddModuleScore(sro, list(toupper(tc3.markers.ln$gene)), name = \"tc3.markers\")\n",
    "sro <- AddModuleScore(sro, list(toupper(tc4.markers.ln$gene)), name = \"tc4.markers\")"
   ]
  },
  {
   "cell_type": "code",
   "execution_count": 14,
   "id": "447d4618-97b2-494b-8b5a-536ac7788923",
   "metadata": {
    "execution": {
     "iopub.execute_input": "2025-05-09T20:57:26.031665Z",
     "iopub.status.busy": "2025-05-09T20:57:26.030747Z",
     "iopub.status.idle": "2025-05-09T20:57:26.042057Z",
     "shell.execute_reply": "2025-05-09T20:57:26.040729Z"
    }
   },
   "outputs": [],
   "source": [
    "f.w <- 12; f.h <- 10"
   ]
  },
  {
   "cell_type": "code",
   "execution_count": 16,
   "id": "b548b19d-2649-491b-88df-1d9db0e4f6e6",
   "metadata": {
    "execution": {
     "iopub.execute_input": "2025-05-07T20:41:00.232897Z",
     "iopub.status.busy": "2025-05-07T20:41:00.232152Z",
     "iopub.status.idle": "2025-05-07T20:41:03.641945Z",
     "shell.execute_reply": "2025-05-07T20:41:03.640908Z"
    }
   },
   "outputs": [
    {
     "data": {
      "text/html": [
       "<strong>pdf:</strong> 2"
      ],
      "text/latex": [
       "\\textbf{pdf:} 2"
      ],
      "text/markdown": [
       "**pdf:** 2"
      ],
      "text/plain": [
       "pdf \n",
       "  2 "
      ]
     },
     "metadata": {},
     "output_type": "display_data"
    },
    {
     "data": {
      "text/html": [
       "<strong>pdf:</strong> 2"
      ],
      "text/latex": [
       "\\textbf{pdf:} 2"
      ],
      "text/markdown": [
       "**pdf:** 2"
      ],
      "text/plain": [
       "pdf \n",
       "  2 "
      ]
     },
     "metadata": {},
     "output_type": "display_data"
    },
    {
     "data": {
      "text/html": [
       "<strong>pdf:</strong> 2"
      ],
      "text/latex": [
       "\\textbf{pdf:} 2"
      ],
      "text/markdown": [
       "**pdf:** 2"
      ],
      "text/plain": [
       "pdf \n",
       "  2 "
      ]
     },
     "metadata": {},
     "output_type": "display_data"
    },
    {
     "data": {
      "text/html": [
       "<strong>pdf:</strong> 2"
      ],
      "text/latex": [
       "\\textbf{pdf:} 2"
      ],
      "text/markdown": [
       "**pdf:** 2"
      ],
      "text/plain": [
       "pdf \n",
       "  2 "
      ]
     },
     "metadata": {},
     "output_type": "display_data"
    },
    {
     "data": {
      "text/html": [
       "<strong>pdf:</strong> 2"
      ],
      "text/latex": [
       "\\textbf{pdf:} 2"
      ],
      "text/markdown": [
       "**pdf:** 2"
      ],
      "text/plain": [
       "pdf \n",
       "  2 "
      ]
     },
     "metadata": {},
     "output_type": "display_data"
    },
    {
     "data": {
      "text/html": [
       "<strong>pdf:</strong> 2"
      ],
      "text/latex": [
       "\\textbf{pdf:} 2"
      ],
      "text/markdown": [
       "**pdf:** 2"
      ],
      "text/plain": [
       "pdf \n",
       "  2 "
      ]
     },
     "metadata": {},
     "output_type": "display_data"
    }
   ],
   "source": [
    "pdf(paste0(pref.p.sro, \"module-scores/UMAP-transitional_markers-from-TC_all_LN.pdf\"), width = f.w, height = f.h)\n",
    "print(plot.continuous.value(\n",
    "    sro, scale.color = scale.color,\n",
    "    vis = sro@reductions$umap@cell.embeddings,\n",
    "    idx = rownames(sro@meta.data), point.size = 1,\n",
    "    val = get.named.vector.sro(sro, paste0(\"transitional.markers1\")), val.name = 'module\\nscore') + ggtitle(\"transitional.markers\"))\n",
    "dev.off()\n",
    "\n",
    "pdf(paste0(pref.p.sro, \"module-scores/UMAP-TCI_markers-from-TC_all_LN.pdf\"), width = f.w, height = f.h)\n",
    "print(plot.continuous.value(\n",
    "    sro, scale.color = scale.color,\n",
    "    vis = sro@reductions$umap@cell.embeddings,\n",
    "    idx = rownames(sro@meta.data), point.size = 1,\n",
    "    val = get.named.vector.sro(sro, paste0(\"tc1.markers1\")), val.name = 'module\\nscore') + ggtitle(\"TC I markers\"))\n",
    "dev.off()\n",
    "\n",
    "pdf(paste0(pref.p.sro, \"module-scores/UMAP-TCII_markers-from-TC_all_LN.pdf\"), width = f.w, height = f.h)\n",
    "print(plot.continuous.value(\n",
    "    sro, scale.color = scale.color,\n",
    "    vis = sro@reductions$umap@cell.embeddings,\n",
    "    idx = rownames(sro@meta.data), point.size = 1,\n",
    "    val = get.named.vector.sro(sro, paste0(\"tc2.markers1\")), val.name = 'module\\nscore') + ggtitle(\"TC II markers\"))\n",
    "dev.off()\n",
    "\n",
    "pdf(paste0(pref.p.sro, \"module-scores/UMAP-TCIII_markers-from-TC_all_LN.pdf\"), width = f.w, height = f.h)\n",
    "print(plot.continuous.value(\n",
    "    sro, scale.color = scale.color,\n",
    "    vis = sro@reductions$umap@cell.embeddings,\n",
    "    idx = rownames(sro@meta.data), point.size = 1,\n",
    "    val = get.named.vector.sro(sro, paste0(\"tc3.markers1\")), val.name = 'module\\nscore') + ggtitle(\"TC III markers\"))\n",
    "dev.off()\n",
    "\n",
    "pdf(paste0(pref.p.sro, \"module-scores/UMAP-TCIV_markers-from-TC_all_LN.pdf\"), width = f.w, height = f.h)\n",
    "print(plot.continuous.value(\n",
    "    sro, scale.color = scale.color,\n",
    "    vis = sro@reductions$umap@cell.embeddings,\n",
    "    idx = rownames(sro@meta.data), point.size = 1,\n",
    "    val = get.named.vector.sro(sro, paste0(\"tc4.markers1\")), val.name = 'module\\nscore') + ggtitle(\"TC IV markers\"))\n",
    "dev.off()\n",
    "\n",
    "pdf(paste0(pref.p.sro, \"module-scores/UMAP-KI_TC_markers-from-TC_all_LN.pdf\"), width = f.w, height = f.h)\n",
    "print(plot.continuous.value(\n",
    "    sro, scale.color = scale.color,\n",
    "    vis = sro@reductions$umap@cell.embeddings,\n",
    "    idx = rownames(sro@meta.data), point.size = 1,\n",
    "    val = get.named.vector.sro(sro, paste0(\"ki_tc.markers1\")), val.name = 'module\\nscore') + ggtitle(\"Ki67+TC markers\"))\n",
    "dev.off()"
   ]
  },
  {
   "cell_type": "code",
   "execution_count": 17,
   "id": "95d9ea8a-e872-434b-b924-ef459f6202e4",
   "metadata": {
    "execution": {
     "iopub.execute_input": "2025-05-07T20:41:03.644240Z",
     "iopub.status.busy": "2025-05-07T20:41:03.643443Z",
     "iopub.status.idle": "2025-05-07T20:41:03.652066Z",
     "shell.execute_reply": "2025-05-07T20:41:03.651010Z"
    }
   },
   "outputs": [],
   "source": [
    "module.scores <- sro@meta.data[grep(\"markers1\", colnames(sro@meta.data), value = T)]"
   ]
  },
  {
   "cell_type": "code",
   "execution_count": 18,
   "id": "4796a02c-5825-4954-bec6-466094a00419",
   "metadata": {
    "execution": {
     "iopub.execute_input": "2025-05-07T20:41:03.654609Z",
     "iopub.status.busy": "2025-05-07T20:41:03.653707Z",
     "iopub.status.idle": "2025-05-07T20:41:03.663485Z",
     "shell.execute_reply": "2025-05-07T20:41:03.662416Z"
    }
   },
   "outputs": [],
   "source": [
    "dir.create(paste0(pref.sro, \"module-scores/\"))"
   ]
  },
  {
   "cell_type": "code",
   "execution_count": 19,
   "id": "aeca5e6f-f404-4c8b-9a38-5ee1dd193e36",
   "metadata": {
    "execution": {
     "iopub.execute_input": "2025-05-07T20:41:03.666041Z",
     "iopub.status.busy": "2025-05-07T20:41:03.665148Z",
     "iopub.status.idle": "2025-05-07T20:41:03.821034Z",
     "shell.execute_reply": "2025-05-07T20:41:03.819942Z"
    }
   },
   "outputs": [],
   "source": [
    "write.csv(module.scores, paste0(pref.sro, \"module-scores/TC_all_LN-scores.csv\"), quote = F)"
   ]
  },
  {
   "cell_type": "code",
   "execution_count": null,
   "id": "eef83b1f-bcd1-4c85-a5cc-1f0b05325c0a",
   "metadata": {},
   "outputs": [],
   "source": []
  }
 ],
 "metadata": {
  "kernelspec": {
   "display_name": "R [conda env:multiome]",
   "language": "R",
   "name": "conda-env-multiome-r"
  },
  "language_info": {
   "codemirror_mode": "r",
   "file_extension": ".r",
   "mimetype": "text/x-r-source",
   "name": "R",
   "pygments_lexer": "r",
   "version": "4.3.3"
  },
  "toc-autonumbering": true
 },
 "nbformat": 4,
 "nbformat_minor": 5
}
