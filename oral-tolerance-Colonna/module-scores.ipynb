{
 "cells": [
  {
   "cell_type": "code",
   "execution_count": 1,
   "id": "d69d9844-a54c-48a1-b068-7ac5c2343b18",
   "metadata": {
    "execution": {
     "iopub.execute_input": "2025-05-15T17:36:31.689681Z",
     "iopub.status.busy": "2025-05-15T17:36:31.687618Z",
     "iopub.status.idle": "2025-05-15T17:36:35.956037Z",
     "shell.execute_reply": "2025-05-15T17:36:35.954744Z"
    },
    "scrolled": true,
    "tags": []
   },
   "outputs": [],
   "source": [
    "setwd(\"~/0-workspace/CCR7_DC/oral-tolerance-Colonna/\")\n",
    "\n",
    "suppressPackageStartupMessages({\n",
    "library(Seurat) # v4.4\n",
    "library(Matrix)\n",
    "library(future)\n",
    "library(dplyr)\n",
    "library(ggplot2)\n",
    "library(cowplot)\n",
    "library(ComplexHeatmap)\n",
    "library(circlize)\n",
    "library(ggrepel)\n",
    "})\n",
    "set.seed(1)\n",
    "options(future.globals.maxSize = Inf)\n",
    "\n",
    "pal <- readRDS(\"plots/palette.rds\")\n",
    "source(\"../utils.R\")"
   ]
  },
  {
   "cell_type": "code",
   "execution_count": 2,
   "id": "7f3e4f11-b552-4fda-986d-286ce6fb25f8",
   "metadata": {
    "execution": {
     "iopub.execute_input": "2025-05-15T17:36:35.976437Z",
     "iopub.status.busy": "2025-05-15T17:36:35.957765Z",
     "iopub.status.idle": "2025-05-15T17:36:35.988434Z",
     "shell.execute_reply": "2025-05-15T17:36:35.987223Z"
    }
   },
   "outputs": [],
   "source": [
    "cols <- rev(RColorBrewer::brewer.pal(11,\"Spectral\"))\n",
    "transitions <- c(0, 15, 25, 30, 40, 50, 60, 70, 75, 85, 100)\n",
    "scaled_transitions <- scales::rescale(transitions, from = c(0, 100), to = c(0, 1))\n",
    "scale.color <- scale_color_gradientn(colors = cols, values = scaled_transitions)"
   ]
  },
  {
   "cell_type": "code",
   "execution_count": 3,
   "id": "a2f410d3-19bd-4ffb-a656-ffb159988265",
   "metadata": {
    "execution": {
     "iopub.execute_input": "2025-05-15T17:36:35.991017Z",
     "iopub.status.busy": "2025-05-15T17:36:35.990141Z",
     "iopub.status.idle": "2025-05-15T17:36:36.295848Z",
     "shell.execute_reply": "2025-05-15T17:36:36.294697Z"
    },
    "tags": []
   },
   "outputs": [],
   "source": [
    "RenameGenesSeurat <- function(obj, newnames) { # Replace gene names in different slots of a Seurat object. Run this before integration. It only changes obj@assays$RNA@counts, @data and @scale.data.\n",
    "  print(\"Run this before integration. It only changes obj@assays$RNA@counts, @data and @scale.data.\")\n",
    "  RNA <- obj@assays$RNA\n",
    "  \n",
    "  if (nrow(RNA) == length(newnames)) {\n",
    "    if (length(RNA@counts)) RNA@counts@Dimnames[[1]] <- newnames\n",
    "    if (length(RNA@data)) RNA@data@Dimnames[[1]] <- newnames\n",
    "    if (length(RNA@scale.data)) rownames(RNA@scale.data) <- newnames\n",
    "    if (length(RNA@meta.features)) {\n",
    "      RNA@meta.features$prev.names <- rownames(RNA@meta.features)\n",
    "      rownames(RNA@meta.features) <- newnames\n",
    "    }\n",
    "    if (length(RNA@var.features)){\n",
    "      RNA@var.features <- rownames(RNA@meta.features[match(RNA@var.features, RNA@meta.features$prev.names), ])\n",
    "    }\n",
    "  } else {\"Unequal gene sets: nrow(RNA) != nrow(newnames)\"}\n",
    "  obj@assays$RNA <- RNA\n",
    "  return(obj)\n",
    "}"
   ]
  },
  {
   "cell_type": "code",
   "execution_count": 4,
   "id": "f957f638-6e15-4379-b638-077848e87b69",
   "metadata": {
    "execution": {
     "iopub.execute_input": "2025-05-15T17:36:36.298260Z",
     "iopub.status.busy": "2025-05-15T17:36:36.297448Z",
     "iopub.status.idle": "2025-05-15T17:36:36.306969Z",
     "shell.execute_reply": "2025-05-15T17:36:36.305888Z"
    }
   },
   "outputs": [],
   "source": [
    "select.markers <- function(fn, output.dir = 'results/markers/', pairwise = F, fc.thr = 1.5, apv.thr = 0.01, n = Inf, exCC = F, cc.genes = NULL){\n",
    "  markers <- read.csv(file = paste0(output.dir, fn, \".csv\"), header = T, stringsAsFactors = F) %>%\n",
    "    subset(!grepl(\"(^MT-)|(^RPS)|(^RPL)|(^MRPL)|(^MRPS)\", toupper(gene)))\n",
    "  if (exCC){\n",
    "    markers <- markers[!(toupper(markers$gene) %in% toupper(cc.genes)),]\n",
    "  }\n",
    "  if(pairwise){\n",
    "    markers <- subset(markers, abs(avg_log2FC) > log2(fc.thr) & p_val_adj < apv.thr)\n",
    "    markers$cluster <- ifelse(markers$avg_log2FC > 0, \"up\", \"down\")\n",
    "    if(!is.infinite(n)) markers <- markers %>% group_by(cluster) %>% top_n(n, abs(avg_log2FC))\n",
    "    markers <- markers[order(markers$avg_log2FC), ]\n",
    "  } else{\n",
    "    markers <- subset(markers, avg_log2FC > log2(fc.thr) & p_val_adj < apv.thr)\n",
    "    if(any(duplicated(markers$gene))) markers <- markers %>% group_by(gene) %>% top_n(1, avg_log2FC)\n",
    "    if(!is.infinite(n)) markers <- markers %>% group_by(cluster) %>% top_n(n, avg_log2FC)\n",
    "    markers <- markers[order(markers$cluster, -markers$avg_log2FC), ]\n",
    "  }\n",
    "  return(markers)\n",
    "}"
   ]
  },
  {
   "cell_type": "markdown",
   "id": "a93ef6b7-2438-47e5-8120-da2942954ca9",
   "metadata": {},
   "source": [
    "# Load SRO"
   ]
  },
  {
   "cell_type": "code",
   "execution_count": 5,
   "id": "999a9aa4-2565-4e4e-9268-e8243e9dec0b",
   "metadata": {
    "execution": {
     "iopub.execute_input": "2025-05-15T17:36:36.309325Z",
     "iopub.status.busy": "2025-05-15T17:36:36.308514Z",
     "iopub.status.idle": "2025-05-15T17:36:43.020486Z",
     "shell.execute_reply": "2025-05-15T17:36:43.018962Z"
    }
   },
   "outputs": [],
   "source": [
    "# load SRO ####\n",
    "sro.ln <- readRDS(\"../TC_all_LN/results/SRO_subset.rds\")"
   ]
  },
  {
   "cell_type": "code",
   "execution_count": 36,
   "id": "38fe5549-49de-4ab6-bb9f-ab28a6bba1e3",
   "metadata": {
    "execution": {
     "iopub.execute_input": "2025-05-15T17:47:16.734378Z",
     "iopub.status.busy": "2025-05-15T17:47:16.733312Z",
     "iopub.status.idle": "2025-05-15T17:47:33.115821Z",
     "shell.execute_reply": "2025-05-15T17:47:33.114632Z"
    }
   },
   "outputs": [
    {
     "name": "stdout",
     "output_type": "stream",
     "text": [
      "[1] \"Run this before integration. It only changes obj@assays$RNA@counts, @data and @scale.data.\"\n"
     ]
    }
   ],
   "source": [
    "pref.sro <- \"Seurat/merged-4I/\"; pref.p.sro <- \"plots/Seurat/merged-4I/\"\n",
    "sro <- readRDS(paste0(pref.sro, \"SRO.rds\"))\n",
    "sro <- RenameGenesSeurat(sro, toupper(rownames(sro)))"
   ]
  },
  {
   "cell_type": "markdown",
   "id": "a3c571ee-4d72-467b-88af-181cdb649153",
   "metadata": {},
   "source": [
    "## TC module scores"
   ]
  },
  {
   "cell_type": "code",
   "execution_count": 10,
   "id": "0c6ee2af-a8d7-4c18-b5e2-639a1173ab8a",
   "metadata": {
    "execution": {
     "iopub.execute_input": "2025-05-15T17:37:22.724205Z",
     "iopub.status.busy": "2025-05-15T17:37:22.723119Z",
     "iopub.status.idle": "2025-05-15T17:37:22.741172Z",
     "shell.execute_reply": "2025-05-15T17:37:22.739949Z"
    }
   },
   "outputs": [
    {
     "data": {
      "text/html": [
       "'plots/Seurat/merged-4I/'"
      ],
      "text/latex": [
       "'plots/Seurat/merged-4I/'"
      ],
      "text/markdown": [
       "'plots/Seurat/merged-4I/'"
      ],
      "text/plain": [
       "[1] \"plots/Seurat/merged-4I/\""
      ]
     },
     "metadata": {},
     "output_type": "display_data"
    },
    {
     "name": "stderr",
     "output_type": "stream",
     "text": [
      "Warning message in dir.create(paste0(pref.p.sro, \"module-scores\")):\n",
      "“'plots/Seurat/merged-4I/module-scores' already exists”\n"
     ]
    }
   ],
   "source": [
    "pref.p.sro\n",
    "dir.create(paste0(pref.p.sro, \"module-scores\"))"
   ]
  },
  {
   "cell_type": "code",
   "execution_count": 11,
   "id": "30ee2ce5-fa59-4ae0-ac15-016735e6d426",
   "metadata": {
    "execution": {
     "iopub.execute_input": "2025-05-15T17:37:23.809300Z",
     "iopub.status.busy": "2025-05-15T17:37:23.808127Z",
     "iopub.status.idle": "2025-05-15T17:37:23.992937Z",
     "shell.execute_reply": "2025-05-15T17:37:23.991539Z"
    }
   },
   "outputs": [],
   "source": [
    "# load markers ####\n",
    "markers.ln <- select.markers(\"TC-clusters\", output.dir = paste0('../TC_all_LN/results/markers/'))"
   ]
  },
  {
   "cell_type": "code",
   "execution_count": 12,
   "id": "73d5d0a5-ba3b-438c-a0dc-db7d3d445628",
   "metadata": {
    "execution": {
     "iopub.execute_input": "2025-05-15T17:37:24.534790Z",
     "iopub.status.busy": "2025-05-15T17:37:24.533631Z",
     "iopub.status.idle": "2025-05-15T17:37:24.557674Z",
     "shell.execute_reply": "2025-05-15T17:37:24.556360Z"
    }
   },
   "outputs": [],
   "source": [
    "tc1.markers.ln <- markers.ln[markers.ln$cluster == 3,]\n",
    "tc2.markers.ln <- markers.ln[markers.ln$cluster == 2,]\n",
    "tc3.markers.ln <- markers.ln[markers.ln$cluster == 1,]\n",
    "tc4.markers.ln <- markers.ln[markers.ln$cluster == 5,]\n",
    "ki_tc.markers.ln <- markers.ln[markers.ln$cluster == 7,]\n",
    "transitional.markers.ln <- markers.ln[markers.ln$cluster == 4,]"
   ]
  },
  {
   "cell_type": "code",
   "execution_count": 13,
   "id": "ea60732e-62ac-4c1e-8aa6-83ef65643e60",
   "metadata": {
    "execution": {
     "iopub.execute_input": "2025-05-15T17:37:25.014710Z",
     "iopub.status.busy": "2025-05-15T17:37:25.013535Z",
     "iopub.status.idle": "2025-05-15T17:37:25.047906Z",
     "shell.execute_reply": "2025-05-15T17:37:25.046689Z"
    }
   },
   "outputs": [
    {
     "data": {
      "text/html": [
       "152"
      ],
      "text/latex": [
       "152"
      ],
      "text/markdown": [
       "152"
      ],
      "text/plain": [
       "[1] 152"
      ]
     },
     "metadata": {},
     "output_type": "display_data"
    },
    {
     "data": {
      "text/html": [
       "153"
      ],
      "text/latex": [
       "153"
      ],
      "text/markdown": [
       "153"
      ],
      "text/plain": [
       "[1] 153"
      ]
     },
     "metadata": {},
     "output_type": "display_data"
    },
    {
     "data": {
      "text/html": [
       "199"
      ],
      "text/latex": [
       "199"
      ],
      "text/markdown": [
       "199"
      ],
      "text/plain": [
       "[1] 199"
      ]
     },
     "metadata": {},
     "output_type": "display_data"
    },
    {
     "data": {
      "text/html": [
       "217"
      ],
      "text/latex": [
       "217"
      ],
      "text/markdown": [
       "217"
      ],
      "text/plain": [
       "[1] 217"
      ]
     },
     "metadata": {},
     "output_type": "display_data"
    },
    {
     "data": {
      "text/html": [
       "289"
      ],
      "text/latex": [
       "289"
      ],
      "text/markdown": [
       "289"
      ],
      "text/plain": [
       "[1] 289"
      ]
     },
     "metadata": {},
     "output_type": "display_data"
    },
    {
     "data": {
      "text/html": [
       "83"
      ],
      "text/latex": [
       "83"
      ],
      "text/markdown": [
       "83"
      ],
      "text/plain": [
       "[1] 83"
      ]
     },
     "metadata": {},
     "output_type": "display_data"
    }
   ],
   "source": [
    "sum(toupper(tc1.markers.ln$gene) %in% rownames(sro))\n",
    "sum(toupper(tc2.markers.ln$gene) %in% rownames(sro))\n",
    "sum(toupper(tc3.markers.ln$gene) %in% rownames(sro))\n",
    "sum(toupper(tc4.markers.ln$gene) %in% rownames(sro))\n",
    "sum(toupper(ki_tc.markers.ln$gene) %in% rownames(sro))\n",
    "sum(toupper(transitional.markers.ln$gene) %in% rownames(sro))"
   ]
  },
  {
   "cell_type": "code",
   "execution_count": 14,
   "id": "c087ac12-4f2c-44bb-a455-9e26822923f4",
   "metadata": {
    "execution": {
     "iopub.execute_input": "2025-05-15T17:37:26.030883Z",
     "iopub.status.busy": "2025-05-15T17:37:26.029698Z",
     "iopub.status.idle": "2025-05-15T17:37:37.927136Z",
     "shell.execute_reply": "2025-05-15T17:37:37.925846Z"
    },
    "scrolled": true
   },
   "outputs": [],
   "source": [
    "sro <- AddModuleScore(sro, list(toupper(transitional.markers.ln$gene)), name = \"transitional.markers\")\n",
    "sro <- AddModuleScore(sro, list(toupper(ki_tc.markers.ln$gene)), name = \"ki_tc.markers\")\n",
    "sro <- AddModuleScore(sro, list(toupper(tc1.markers.ln$gene)), name = \"tc1.markers\")\n",
    "sro <- AddModuleScore(sro, list(toupper(tc2.markers.ln$gene)), name = \"tc2.markers\")\n",
    "sro <- AddModuleScore(sro, list(toupper(tc3.markers.ln$gene)), name = \"tc3.markers\")\n",
    "sro <- AddModuleScore(sro, list(toupper(tc4.markers.ln$gene)), name = \"tc4.markers\")"
   ]
  },
  {
   "cell_type": "code",
   "execution_count": 15,
   "id": "447d4618-97b2-494b-8b5a-536ac7788923",
   "metadata": {
    "execution": {
     "iopub.execute_input": "2025-05-15T17:37:37.929664Z",
     "iopub.status.busy": "2025-05-15T17:37:37.928817Z",
     "iopub.status.idle": "2025-05-15T17:37:37.939526Z",
     "shell.execute_reply": "2025-05-15T17:37:37.938380Z"
    }
   },
   "outputs": [],
   "source": [
    "f.w <- 12; f.h <- 10"
   ]
  },
  {
   "cell_type": "code",
   "execution_count": 32,
   "id": "b548b19d-2649-491b-88df-1d9db0e4f6e6",
   "metadata": {
    "execution": {
     "iopub.execute_input": "2025-05-01T03:52:28.532311Z",
     "iopub.status.busy": "2025-05-01T03:52:28.531267Z",
     "iopub.status.idle": "2025-05-01T03:52:30.774840Z",
     "shell.execute_reply": "2025-05-01T03:52:30.773592Z"
    }
   },
   "outputs": [
    {
     "data": {
      "text/html": [
       "<strong>pdf:</strong> 2"
      ],
      "text/latex": [
       "\\textbf{pdf:} 2"
      ],
      "text/markdown": [
       "**pdf:** 2"
      ],
      "text/plain": [
       "pdf \n",
       "  2 "
      ]
     },
     "metadata": {},
     "output_type": "display_data"
    },
    {
     "data": {
      "text/html": [
       "<strong>pdf:</strong> 2"
      ],
      "text/latex": [
       "\\textbf{pdf:} 2"
      ],
      "text/markdown": [
       "**pdf:** 2"
      ],
      "text/plain": [
       "pdf \n",
       "  2 "
      ]
     },
     "metadata": {},
     "output_type": "display_data"
    },
    {
     "data": {
      "text/html": [
       "<strong>pdf:</strong> 2"
      ],
      "text/latex": [
       "\\textbf{pdf:} 2"
      ],
      "text/markdown": [
       "**pdf:** 2"
      ],
      "text/plain": [
       "pdf \n",
       "  2 "
      ]
     },
     "metadata": {},
     "output_type": "display_data"
    },
    {
     "data": {
      "text/html": [
       "<strong>pdf:</strong> 2"
      ],
      "text/latex": [
       "\\textbf{pdf:} 2"
      ],
      "text/markdown": [
       "**pdf:** 2"
      ],
      "text/plain": [
       "pdf \n",
       "  2 "
      ]
     },
     "metadata": {},
     "output_type": "display_data"
    },
    {
     "data": {
      "text/html": [
       "<strong>pdf:</strong> 2"
      ],
      "text/latex": [
       "\\textbf{pdf:} 2"
      ],
      "text/markdown": [
       "**pdf:** 2"
      ],
      "text/plain": [
       "pdf \n",
       "  2 "
      ]
     },
     "metadata": {},
     "output_type": "display_data"
    },
    {
     "data": {
      "text/html": [
       "<strong>pdf:</strong> 2"
      ],
      "text/latex": [
       "\\textbf{pdf:} 2"
      ],
      "text/markdown": [
       "**pdf:** 2"
      ],
      "text/plain": [
       "pdf \n",
       "  2 "
      ]
     },
     "metadata": {},
     "output_type": "display_data"
    }
   ],
   "source": [
    "pdf(paste0(pref.p.sro, \"module-scores/UMAP-transitional_markers-from-TC_all_LN.pdf\"), width = f.w, height = f.h)\n",
    "print(plot.continuous.value(\n",
    "    sro, scale.color = scale.color,\n",
    "    vis = sro@reductions$umap@cell.embeddings,\n",
    "    idx = rownames(sro@meta.data), point.size = 1,\n",
    "    val = get.named.vector.sro(sro, paste0(\"transitional.markers1\")), val.name = 'module\\nscore') + ggtitle(\"transitional.markers\"))\n",
    "dev.off()\n",
    "\n",
    "pdf(paste0(pref.p.sro, \"module-scores/UMAP-TCI_markers-from-TC_all_LN.pdf\"), width = f.w, height = f.h)\n",
    "print(plot.continuous.value(\n",
    "    sro, scale.color = scale.color,\n",
    "    vis = sro@reductions$umap@cell.embeddings,\n",
    "    idx = rownames(sro@meta.data), point.size = 1,\n",
    "    val = get.named.vector.sro(sro, paste0(\"tc1.markers1\")), val.name = 'module\\nscore') + ggtitle(\"TC I markers\"))\n",
    "dev.off()\n",
    "\n",
    "pdf(paste0(pref.p.sro, \"module-scores/UMAP-TCII_markers-from-TC_all_LN.pdf\"), width = f.w, height = f.h)\n",
    "print(plot.continuous.value(\n",
    "    sro, scale.color = scale.color,\n",
    "    vis = sro@reductions$umap@cell.embeddings,\n",
    "    idx = rownames(sro@meta.data), point.size = 1,\n",
    "    val = get.named.vector.sro(sro, paste0(\"tc2.markers1\")), val.name = 'module\\nscore') + ggtitle(\"TC II markers\"))\n",
    "dev.off()\n",
    "\n",
    "pdf(paste0(pref.p.sro, \"module-scores/UMAP-TCIII_markers-from-TC_all_LN.pdf\"), width = f.w, height = f.h)\n",
    "print(plot.continuous.value(\n",
    "    sro, scale.color = scale.color,\n",
    "    vis = sro@reductions$umap@cell.embeddings,\n",
    "    idx = rownames(sro@meta.data), point.size = 1,\n",
    "    val = get.named.vector.sro(sro, paste0(\"tc3.markers1\")), val.name = 'module\\nscore') + ggtitle(\"TC III markers\"))\n",
    "dev.off()\n",
    "\n",
    "pdf(paste0(pref.p.sro, \"module-scores/UMAP-TCIV_markers-from-TC_all_LN.pdf\"), width = f.w, height = f.h)\n",
    "print(plot.continuous.value(\n",
    "    sro, scale.color = scale.color,\n",
    "    vis = sro@reductions$umap@cell.embeddings,\n",
    "    idx = rownames(sro@meta.data), point.size = 1,\n",
    "    val = get.named.vector.sro(sro, paste0(\"tc4.markers1\")), val.name = 'module\\nscore') + ggtitle(\"TC IV markers\"))\n",
    "dev.off()\n",
    "\n",
    "pdf(paste0(pref.p.sro, \"module-scores/UMAP-KI_TC_markers-from-TC_all_LN.pdf\"), width = f.w, height = f.h)\n",
    "print(plot.continuous.value(\n",
    "    sro, scale.color = scale.color,\n",
    "    vis = sro@reductions$umap@cell.embeddings,\n",
    "    idx = rownames(sro@meta.data), point.size = 1,\n",
    "    val = get.named.vector.sro(sro, paste0(\"ki_tc.markers1\")), val.name = 'module\\nscore') + ggtitle(\"Ki67+TC markers\"))\n",
    "dev.off()"
   ]
  },
  {
   "cell_type": "code",
   "execution_count": 35,
   "id": "95d9ea8a-e872-434b-b924-ef459f6202e4",
   "metadata": {
    "execution": {
     "iopub.execute_input": "2025-05-01T03:53:25.860794Z",
     "iopub.status.busy": "2025-05-01T03:53:25.859788Z",
     "iopub.status.idle": "2025-05-01T03:53:25.870340Z",
     "shell.execute_reply": "2025-05-01T03:53:25.869225Z"
    }
   },
   "outputs": [],
   "source": [
    "module.scores <- sro@meta.data[grep(\"markers1\", colnames(sro@meta.data), value = T)]"
   ]
  },
  {
   "cell_type": "code",
   "execution_count": 39,
   "id": "4796a02c-5825-4954-bec6-466094a00419",
   "metadata": {
    "execution": {
     "iopub.execute_input": "2025-05-01T03:55:02.326900Z",
     "iopub.status.busy": "2025-05-01T03:55:02.325926Z",
     "iopub.status.idle": "2025-05-01T03:55:02.337125Z",
     "shell.execute_reply": "2025-05-01T03:55:02.336085Z"
    }
   },
   "outputs": [],
   "source": [
    "dir.create(paste0(pref.sro, \"module-scores/\"))"
   ]
  },
  {
   "cell_type": "code",
   "execution_count": 40,
   "id": "aeca5e6f-f404-4c8b-9a38-5ee1dd193e36",
   "metadata": {
    "execution": {
     "iopub.execute_input": "2025-05-01T03:55:02.879940Z",
     "iopub.status.busy": "2025-05-01T03:55:02.878950Z",
     "iopub.status.idle": "2025-05-01T03:55:02.980516Z",
     "shell.execute_reply": "2025-05-01T03:55:02.979463Z"
    }
   },
   "outputs": [],
   "source": [
    "write.csv(module.scores, paste0(pref.sro, \"module-scores/TC_all_LN-scores.csv\"), quote = F)"
   ]
  },
  {
   "cell_type": "code",
   "execution_count": null,
   "id": "eef83b1f-bcd1-4c85-a5cc-1f0b05325c0a",
   "metadata": {},
   "outputs": [],
   "source": []
  },
  {
   "cell_type": "code",
   "execution_count": 16,
   "id": "09332907-4c79-4497-af1f-5fe323b3a718",
   "metadata": {
    "execution": {
     "iopub.execute_input": "2025-05-15T17:37:38.006069Z",
     "iopub.status.busy": "2025-05-15T17:37:38.005056Z",
     "iopub.status.idle": "2025-05-15T17:37:38.014834Z",
     "shell.execute_reply": "2025-05-15T17:37:38.013690Z"
    }
   },
   "outputs": [],
   "source": [
    "module.scores <- sro@meta.data[grep(\"markers1\", colnames(sro@meta.data), value = T)]"
   ]
  },
  {
   "cell_type": "code",
   "execution_count": 17,
   "id": "ba3e8f73-9e68-4329-9c67-e0c37e9f4f81",
   "metadata": {
    "execution": {
     "iopub.execute_input": "2025-05-15T17:37:38.896596Z",
     "iopub.status.busy": "2025-05-15T17:37:38.895628Z",
     "iopub.status.idle": "2025-05-15T17:37:38.957606Z",
     "shell.execute_reply": "2025-05-15T17:37:38.956367Z"
    }
   },
   "outputs": [],
   "source": [
    "pl <- lapply(colnames(module.scores), function(module){\n",
    "    module.name <- stringr::str_split_i(module, '.marker', i = 1)\n",
    "    p <- plot.continuous.value(\n",
    "        sro, scale.color = scale.color,\n",
    "        vis = sro@reductions$umap@cell.embeddings,\n",
    "        idx = rownames(sro@meta.data), point.size = 1,\n",
    "        val = get.named.vector.sro(sro, paste0(module)), val.name = 'module\\nscore') + ggtitle(module.name)\n",
    "    return(p)\n",
    "})"
   ]
  },
  {
   "cell_type": "code",
   "execution_count": 18,
   "id": "92dc6e9e-793b-43ed-b85c-b7440d0ac312",
   "metadata": {
    "execution": {
     "iopub.execute_input": "2025-05-15T17:37:39.695040Z",
     "iopub.status.busy": "2025-05-15T17:37:39.694059Z",
     "iopub.status.idle": "2025-05-15T17:37:42.014800Z",
     "shell.execute_reply": "2025-05-15T17:37:42.013652Z"
    }
   },
   "outputs": [
    {
     "data": {
      "text/html": [
       "<strong>pdf:</strong> 2"
      ],
      "text/latex": [
       "\\textbf{pdf:} 2"
      ],
      "text/markdown": [
       "**pdf:** 2"
      ],
      "text/plain": [
       "pdf \n",
       "  2 "
      ]
     },
     "metadata": {},
     "output_type": "display_data"
    }
   ],
   "source": [
    "numcol <- 3\n",
    "numrow <- ceiling(length(pl)/numcol)\n",
    "pdf(paste0(pref.p.sro, \"module-scores/UMAP-TC.markers.pdf\"), width = 8*numcol, height = 6*numrow)\n",
    "print(plot_grid(plotlist = pl, align = 'hv', ncol = 3))\n",
    "dev.off()"
   ]
  },
  {
   "cell_type": "markdown",
   "id": "935801c2-6003-4835-8647-9b752b337e33",
   "metadata": {},
   "source": [
    "## TC UCell scores"
   ]
  },
  {
   "cell_type": "code",
   "execution_count": 25,
   "id": "d350d21c-04a8-4cb4-94e3-eac30ce2c7f0",
   "metadata": {
    "execution": {
     "iopub.execute_input": "2025-05-15T17:38:08.952768Z",
     "iopub.status.busy": "2025-05-15T17:38:08.951750Z",
     "iopub.status.idle": "2025-05-15T17:38:11.522824Z",
     "shell.execute_reply": "2025-05-15T17:38:11.521665Z"
    }
   },
   "outputs": [],
   "source": [
    "library(UCell)"
   ]
  },
  {
   "cell_type": "code",
   "execution_count": 29,
   "id": "9f8b8703-313a-4ce9-a50d-18c7196fc774",
   "metadata": {
    "execution": {
     "iopub.execute_input": "2025-05-15T17:38:19.418315Z",
     "iopub.status.busy": "2025-05-15T17:38:19.417284Z",
     "iopub.status.idle": "2025-05-15T17:38:19.431066Z",
     "shell.execute_reply": "2025-05-15T17:38:19.429892Z"
    }
   },
   "outputs": [],
   "source": [
    "markers.ln <- markers.ln[markers.ln$gene %in% rownames(sro),]"
   ]
  },
  {
   "cell_type": "code",
   "execution_count": 31,
   "id": "3f5a2807-0575-4144-b363-c92b70cde7e1",
   "metadata": {
    "execution": {
     "iopub.execute_input": "2025-05-15T17:38:25.295166Z",
     "iopub.status.busy": "2025-05-15T17:38:25.294179Z",
     "iopub.status.idle": "2025-05-15T17:38:25.316186Z",
     "shell.execute_reply": "2025-05-15T17:38:25.315015Z"
    }
   },
   "outputs": [],
   "source": [
    "tc1.markers.ln <- markers.ln[markers.ln$cluster == 3,]\n",
    "tc2.markers.ln <- markers.ln[markers.ln$cluster == 2,]\n",
    "tc3.markers.ln <- markers.ln[markers.ln$cluster == 1,]\n",
    "tc4.markers.ln <- markers.ln[markers.ln$cluster == 5,]\n",
    "ki_tc.markers.ln <- markers.ln[markers.ln$cluster == 7,]\n",
    "transitional.markers.ln <- markers.ln[markers.ln$cluster == 4,]"
   ]
  },
  {
   "cell_type": "code",
   "execution_count": 40,
   "id": "ed3bcdb8-4966-47e2-a8da-4f5187cc069d",
   "metadata": {
    "execution": {
     "iopub.execute_input": "2025-05-15T17:53:33.782280Z",
     "iopub.status.busy": "2025-05-15T17:53:33.781178Z",
     "iopub.status.idle": "2025-05-15T17:53:33.793230Z",
     "shell.execute_reply": "2025-05-15T17:53:33.792047Z"
    }
   },
   "outputs": [],
   "source": [
    "gene_sets <- list(\n",
    "    transitional = toupper(transitional.markers.ln$gene),\n",
    "    ki_tc = toupper(ki_tc.markers.ln$gene),\n",
    "    tc1 = toupper(tc1.markers.ln$gene),\n",
    "    tc2 = toupper(tc2.markers.ln$gene),\n",
    "    tc3 = toupper(tc3.markers.ln$gene),\n",
    "    tc4 = toupper(tc4.markers.ln$gene)\n",
    ")"
   ]
  },
  {
   "cell_type": "code",
   "execution_count": 41,
   "id": "be279653-a64e-4834-91c5-f3719ae3e979",
   "metadata": {
    "execution": {
     "iopub.execute_input": "2025-05-15T17:53:36.083619Z",
     "iopub.status.busy": "2025-05-15T17:53:36.082516Z",
     "iopub.status.idle": "2025-05-15T17:53:46.469336Z",
     "shell.execute_reply": "2025-05-15T17:53:46.467568Z"
    }
   },
   "outputs": [],
   "source": [
    "sro <- AddModuleScore_UCell(sro, gene_sets, ncores = 8)"
   ]
  },
  {
   "cell_type": "code",
   "execution_count": 42,
   "id": "354ef0ab-c44c-40d6-9543-92a0f4631733",
   "metadata": {
    "execution": {
     "iopub.execute_input": "2025-05-15T17:53:46.472700Z",
     "iopub.status.busy": "2025-05-15T17:53:46.471653Z",
     "iopub.status.idle": "2025-05-15T17:53:46.484889Z",
     "shell.execute_reply": "2025-05-15T17:53:46.483506Z"
    }
   },
   "outputs": [],
   "source": [
    "module.scores <- sro@meta.data[grep(\"UCell\", colnames(sro@meta.data), value = T)]"
   ]
  },
  {
   "cell_type": "code",
   "execution_count": 43,
   "id": "578b28cb-8577-4d49-b9ae-aa979b7a780b",
   "metadata": {
    "execution": {
     "iopub.execute_input": "2025-05-15T17:53:46.488016Z",
     "iopub.status.busy": "2025-05-15T17:53:46.486944Z",
     "iopub.status.idle": "2025-05-15T17:53:46.509675Z",
     "shell.execute_reply": "2025-05-15T17:53:46.508365Z"
    }
   },
   "outputs": [
    {
     "data": {
      "text/html": [
       "<table class=\"dataframe\">\n",
       "<caption>A data.frame: 6 × 6</caption>\n",
       "<thead>\n",
       "\t<tr><th></th><th scope=col>transitional_UCell</th><th scope=col>ki_tc_UCell</th><th scope=col>tc1_UCell</th><th scope=col>tc2_UCell</th><th scope=col>tc3_UCell</th><th scope=col>tc4_UCell</th></tr>\n",
       "\t<tr><th></th><th scope=col>&lt;dbl&gt;</th><th scope=col>&lt;dbl&gt;</th><th scope=col>&lt;dbl&gt;</th><th scope=col>&lt;dbl&gt;</th><th scope=col>&lt;dbl&gt;</th><th scope=col>&lt;dbl&gt;</th></tr>\n",
       "</thead>\n",
       "<tbody>\n",
       "\t<tr><th scope=row>hCD2_neg_AAACCATTCCATGCAA-1</th><td>0.07873882</td><td>0.07646037</td><td>0.1650144</td><td>0.0930098</td><td>0.3858650</td><td>0.5337158</td></tr>\n",
       "\t<tr><th scope=row>hCD2_neg_AAACCCTGTTGCACAT-1</th><td>0.22510205</td><td>0.10077759</td><td>0.1425485</td><td>0.1233172</td><td>0.1203823</td><td>0.1787975</td></tr>\n",
       "\t<tr><th scope=row>hCD2_neg_AAACCGCTCAGCTCGG-1</th><td>0.23579916</td><td>0.11053384</td><td>0.2628367</td><td>0.2233544</td><td>0.1753643</td><td>0.2031907</td></tr>\n",
       "\t<tr><th scope=row>hCD2_neg_AAACGAATCAAGTTCG-1</th><td>0.09945543</td><td>0.05335232</td><td>0.1614442</td><td>0.1111088</td><td>0.2948241</td><td>0.4259244</td></tr>\n",
       "\t<tr><th scope=row>hCD2_neg_AAACGAATCTGTGAAT-1</th><td>0.24312063</td><td>0.09772852</td><td>0.1275465</td><td>0.1183544</td><td>0.1175287</td><td>0.1509556</td></tr>\n",
       "\t<tr><th scope=row>hCD2_neg_AAACGATGTAAGTCAG-1</th><td>0.21553705</td><td>0.12279396</td><td>0.1112297</td><td>0.1196542</td><td>0.1162796</td><td>0.1507966</td></tr>\n",
       "</tbody>\n",
       "</table>\n"
      ],
      "text/latex": [
       "A data.frame: 6 × 6\n",
       "\\begin{tabular}{r|llllll}\n",
       "  & transitional\\_UCell & ki\\_tc\\_UCell & tc1\\_UCell & tc2\\_UCell & tc3\\_UCell & tc4\\_UCell\\\\\n",
       "  & <dbl> & <dbl> & <dbl> & <dbl> & <dbl> & <dbl>\\\\\n",
       "\\hline\n",
       "\thCD2\\_neg\\_AAACCATTCCATGCAA-1 & 0.07873882 & 0.07646037 & 0.1650144 & 0.0930098 & 0.3858650 & 0.5337158\\\\\n",
       "\thCD2\\_neg\\_AAACCCTGTTGCACAT-1 & 0.22510205 & 0.10077759 & 0.1425485 & 0.1233172 & 0.1203823 & 0.1787975\\\\\n",
       "\thCD2\\_neg\\_AAACCGCTCAGCTCGG-1 & 0.23579916 & 0.11053384 & 0.2628367 & 0.2233544 & 0.1753643 & 0.2031907\\\\\n",
       "\thCD2\\_neg\\_AAACGAATCAAGTTCG-1 & 0.09945543 & 0.05335232 & 0.1614442 & 0.1111088 & 0.2948241 & 0.4259244\\\\\n",
       "\thCD2\\_neg\\_AAACGAATCTGTGAAT-1 & 0.24312063 & 0.09772852 & 0.1275465 & 0.1183544 & 0.1175287 & 0.1509556\\\\\n",
       "\thCD2\\_neg\\_AAACGATGTAAGTCAG-1 & 0.21553705 & 0.12279396 & 0.1112297 & 0.1196542 & 0.1162796 & 0.1507966\\\\\n",
       "\\end{tabular}\n"
      ],
      "text/markdown": [
       "\n",
       "A data.frame: 6 × 6\n",
       "\n",
       "| <!--/--> | transitional_UCell &lt;dbl&gt; | ki_tc_UCell &lt;dbl&gt; | tc1_UCell &lt;dbl&gt; | tc2_UCell &lt;dbl&gt; | tc3_UCell &lt;dbl&gt; | tc4_UCell &lt;dbl&gt; |\n",
       "|---|---|---|---|---|---|---|\n",
       "| hCD2_neg_AAACCATTCCATGCAA-1 | 0.07873882 | 0.07646037 | 0.1650144 | 0.0930098 | 0.3858650 | 0.5337158 |\n",
       "| hCD2_neg_AAACCCTGTTGCACAT-1 | 0.22510205 | 0.10077759 | 0.1425485 | 0.1233172 | 0.1203823 | 0.1787975 |\n",
       "| hCD2_neg_AAACCGCTCAGCTCGG-1 | 0.23579916 | 0.11053384 | 0.2628367 | 0.2233544 | 0.1753643 | 0.2031907 |\n",
       "| hCD2_neg_AAACGAATCAAGTTCG-1 | 0.09945543 | 0.05335232 | 0.1614442 | 0.1111088 | 0.2948241 | 0.4259244 |\n",
       "| hCD2_neg_AAACGAATCTGTGAAT-1 | 0.24312063 | 0.09772852 | 0.1275465 | 0.1183544 | 0.1175287 | 0.1509556 |\n",
       "| hCD2_neg_AAACGATGTAAGTCAG-1 | 0.21553705 | 0.12279396 | 0.1112297 | 0.1196542 | 0.1162796 | 0.1507966 |\n",
       "\n"
      ],
      "text/plain": [
       "                            transitional_UCell ki_tc_UCell tc1_UCell tc2_UCell\n",
       "hCD2_neg_AAACCATTCCATGCAA-1 0.07873882         0.07646037  0.1650144 0.0930098\n",
       "hCD2_neg_AAACCCTGTTGCACAT-1 0.22510205         0.10077759  0.1425485 0.1233172\n",
       "hCD2_neg_AAACCGCTCAGCTCGG-1 0.23579916         0.11053384  0.2628367 0.2233544\n",
       "hCD2_neg_AAACGAATCAAGTTCG-1 0.09945543         0.05335232  0.1614442 0.1111088\n",
       "hCD2_neg_AAACGAATCTGTGAAT-1 0.24312063         0.09772852  0.1275465 0.1183544\n",
       "hCD2_neg_AAACGATGTAAGTCAG-1 0.21553705         0.12279396  0.1112297 0.1196542\n",
       "                            tc3_UCell tc4_UCell\n",
       "hCD2_neg_AAACCATTCCATGCAA-1 0.3858650 0.5337158\n",
       "hCD2_neg_AAACCCTGTTGCACAT-1 0.1203823 0.1787975\n",
       "hCD2_neg_AAACCGCTCAGCTCGG-1 0.1753643 0.2031907\n",
       "hCD2_neg_AAACGAATCAAGTTCG-1 0.2948241 0.4259244\n",
       "hCD2_neg_AAACGAATCTGTGAAT-1 0.1175287 0.1509556\n",
       "hCD2_neg_AAACGATGTAAGTCAG-1 0.1162796 0.1507966"
      ]
     },
     "metadata": {},
     "output_type": "display_data"
    }
   ],
   "source": [
    "head(module.scores)"
   ]
  },
  {
   "cell_type": "code",
   "execution_count": 44,
   "id": "bae58b02-7e8a-43fa-9e65-0b4824a27ccc",
   "metadata": {
    "execution": {
     "iopub.execute_input": "2025-05-15T17:53:46.512641Z",
     "iopub.status.busy": "2025-05-15T17:53:46.511640Z",
     "iopub.status.idle": "2025-05-15T17:53:46.572567Z",
     "shell.execute_reply": "2025-05-15T17:53:46.571135Z"
    }
   },
   "outputs": [],
   "source": [
    "pl <- lapply(colnames(module.scores), function(module){\n",
    "    module.name <- stringr::str_split_i(module, '_UCell', i = 1)\n",
    "    p <- plot.continuous.value(\n",
    "        sro, scale.color = scale.color,\n",
    "        vis = sro@reductions$umap@cell.embeddings,\n",
    "        idx = rownames(sro@meta.data), point.size = 1,\n",
    "        val = get.named.vector.sro(sro, paste0(module)), val.name = 'UCell\\nscore') + ggtitle(module.name)\n",
    "    return(p)\n",
    "})"
   ]
  },
  {
   "cell_type": "code",
   "execution_count": 45,
   "id": "a5860952-5582-42f9-ad17-bdb45522fd1a",
   "metadata": {
    "execution": {
     "iopub.execute_input": "2025-05-15T17:53:46.575539Z",
     "iopub.status.busy": "2025-05-15T17:53:46.574558Z",
     "iopub.status.idle": "2025-05-15T17:53:48.933068Z",
     "shell.execute_reply": "2025-05-15T17:53:48.931766Z"
    }
   },
   "outputs": [
    {
     "data": {
      "text/html": [
       "<strong>pdf:</strong> 2"
      ],
      "text/latex": [
       "\\textbf{pdf:} 2"
      ],
      "text/markdown": [
       "**pdf:** 2"
      ],
      "text/plain": [
       "pdf \n",
       "  2 "
      ]
     },
     "metadata": {},
     "output_type": "display_data"
    }
   ],
   "source": [
    "numcol <- 3\n",
    "numrow <- ceiling(length(pl)/numcol)\n",
    "pdf(paste0(pref.p.sro, \"module-scores/UMAP-UCell.score-TC.markers.pdf\"), width = 8*numcol, height = 6*numrow)\n",
    "print(plot_grid(plotlist = pl, align = 'hv', ncol = 3))\n",
    "dev.off()"
   ]
  },
  {
   "cell_type": "code",
   "execution_count": null,
   "id": "837e7ee4-33d2-4a7d-a1e7-f16f47f6ef82",
   "metadata": {},
   "outputs": [],
   "source": []
  },
  {
   "cell_type": "markdown",
   "id": "2b5c4354-7fdc-4226-bab0-b58006659fda",
   "metadata": {},
   "source": [
    "## TC average expression"
   ]
  },
  {
   "cell_type": "code",
   "execution_count": 19,
   "id": "7e28a1d0-2fc4-4402-a4bb-f2dbec20bbbb",
   "metadata": {
    "execution": {
     "iopub.execute_input": "2025-05-15T17:37:46.952714Z",
     "iopub.status.busy": "2025-05-15T17:37:46.951672Z",
     "iopub.status.idle": "2025-05-15T17:37:46.963139Z",
     "shell.execute_reply": "2025-05-15T17:37:46.961997Z"
    }
   },
   "outputs": [],
   "source": [
    "AddModuleExpression <- function(\n",
    "        object, \n",
    "        features, \n",
    "        name = 'module',\n",
    "        assay = 'RNA', \n",
    "        slot = 'data'){\n",
    "    \n",
    "    assay.old <- DefaultAssay(object = object)\n",
    "    assay <- assay %||% assay.old\n",
    "    DefaultAssay(object = object) <- assay\n",
    "    assay.data <- GetAssayData(object = object, assay = assay, slot = slot)\n",
    "    features.old <- features\n",
    "    \n",
    "    if (is.null(x = features)) {\n",
    "        stop(\"Missing input feature list\")\n",
    "    }\n",
    "    \n",
    "    x <- features\n",
    "    missing.features <- setdiff(x = x, y = rownames(x = object))\n",
    "    if (length(x = missing.features) > 0) {\n",
    "        warning(\n",
    "            \"The following features are not present in the object: \",\n",
    "            paste(missing.features, collapse = \", \"),\n",
    "            call. = FALSE,\n",
    "            immediate. = TRUE\n",
    "        )\n",
    "    }\n",
    "    features <- intersect(x = x, y = rownames(x = object))\n",
    "    module.length <- length(x = features)\n",
    "    if (module.length == 0){\n",
    "        stop(\n",
    "            \"Not enough features in the data\",\n",
    "            \"exiting...\"\n",
    "        )\n",
    "    }\n",
    "    \n",
    "    features.use <- features\n",
    "    data.use <- assay.data[features.use, , drop = FALSE]\n",
    "    data.use <- expm1(x = data.use)\n",
    "    \n",
    "    module.expression <- Matrix::colMeans(x = data.use)\n",
    "    module.expression <- log1p(module.expression)\n",
    "    \n",
    "    object@meta.data[[name]] <- module.expression[rownames(object@meta.data)]\n",
    "    DefaultAssay(object = object) <- assay.old\n",
    "    return(object)\n",
    "}"
   ]
  },
  {
   "cell_type": "code",
   "execution_count": 20,
   "id": "c2f85cb3-c655-4d41-92fe-9a703502cf4d",
   "metadata": {
    "execution": {
     "iopub.execute_input": "2025-05-15T17:37:55.123453Z",
     "iopub.status.busy": "2025-05-15T17:37:55.122414Z",
     "iopub.status.idle": "2025-05-15T17:37:55.144656Z",
     "shell.execute_reply": "2025-05-15T17:37:55.143425Z"
    }
   },
   "outputs": [],
   "source": [
    "tc1.markers.ln <- markers.ln[markers.ln$cluster == 3,]\n",
    "tc2.markers.ln <- markers.ln[markers.ln$cluster == 2,]\n",
    "tc3.markers.ln <- markers.ln[markers.ln$cluster == 1,]\n",
    "tc4.markers.ln <- markers.ln[markers.ln$cluster == 5,]\n",
    "ki_tc.markers.ln <- markers.ln[markers.ln$cluster == 7,]\n",
    "transitional.markers.ln <- markers.ln[markers.ln$cluster == 4,]"
   ]
  },
  {
   "cell_type": "code",
   "execution_count": 21,
   "id": "a0122b13-702c-4b71-8a1f-aa3b7c4b76a1",
   "metadata": {
    "execution": {
     "iopub.execute_input": "2025-05-15T17:37:55.731095Z",
     "iopub.status.busy": "2025-05-15T17:37:55.730044Z",
     "iopub.status.idle": "2025-05-15T17:37:56.937178Z",
     "shell.execute_reply": "2025-05-15T17:37:56.935893Z"
    }
   },
   "outputs": [
    {
     "name": "stderr",
     "output_type": "stream",
     "text": [
      "Warning message:\n",
      "“\u001b[1m\u001b[22mThe `slot` argument of `GetAssayData()` is deprecated as of SeuratObject 5.0.0.\n",
      "\u001b[36mℹ\u001b[39m Please use the `layer` argument instead.”\n"
     ]
    }
   ],
   "source": [
    "sro <- AddModuleExpression(sro, toupper(transitional.markers.ln$gene), name = \"transitional.avg.expr\")\n",
    "sro <- AddModuleExpression(sro, toupper(ki_tc.markers.ln$gene), name = \"ki_tc.avg.expr\")\n",
    "sro <- AddModuleExpression(sro, toupper(tc1.markers.ln$gene), name = \"tc1.avg.expr\")\n",
    "sro <- AddModuleExpression(sro, toupper(tc2.markers.ln$gene), name = \"tc2.avg.expr\")\n",
    "sro <- AddModuleExpression(sro, toupper(tc3.markers.ln$gene), name = \"tc3.avg.expr\")\n",
    "sro <- AddModuleExpression(sro, toupper(tc4.markers.ln$gene), name = \"tc4.avg.expr\")"
   ]
  },
  {
   "cell_type": "code",
   "execution_count": 22,
   "id": "938d0757-3bc2-47b3-b0d8-cfe1731d57a7",
   "metadata": {
    "execution": {
     "iopub.execute_input": "2025-05-15T17:37:58.376075Z",
     "iopub.status.busy": "2025-05-15T17:37:58.375079Z",
     "iopub.status.idle": "2025-05-15T17:37:58.385449Z",
     "shell.execute_reply": "2025-05-15T17:37:58.384365Z"
    }
   },
   "outputs": [],
   "source": [
    "module.scores <- sro@meta.data[grep(\"avg.expr\", colnames(sro@meta.data), value = T)]"
   ]
  },
  {
   "cell_type": "code",
   "execution_count": 23,
   "id": "c97e2270-7c48-43e3-8bcd-97acec5f2816",
   "metadata": {
    "execution": {
     "iopub.execute_input": "2025-05-15T17:38:02.220541Z",
     "iopub.status.busy": "2025-05-15T17:38:02.219496Z",
     "iopub.status.idle": "2025-05-15T17:38:02.294789Z",
     "shell.execute_reply": "2025-05-15T17:38:02.293473Z"
    }
   },
   "outputs": [],
   "source": [
    "pl <- lapply(colnames(module.scores), function(module){\n",
    "    module.name <- stringr::str_split_i(module, '.avg.expr', i = 1)\n",
    "    p <- plot.continuous.value(\n",
    "        sro, scale.color = scale.color,\n",
    "        vis = sro@reductions$umap@cell.embeddings,\n",
    "        idx = rownames(sro@meta.data), point.size = 1,\n",
    "        val = get.named.vector.sro(sro, paste0(module)), val.name = 'average\\nexpression') + ggtitle(module.name)\n",
    "    return(p)\n",
    "})"
   ]
  },
  {
   "cell_type": "code",
   "execution_count": 24,
   "id": "0613f0ff-7a9d-46c9-8761-07f766fce5f8",
   "metadata": {
    "execution": {
     "iopub.execute_input": "2025-05-15T17:38:02.936368Z",
     "iopub.status.busy": "2025-05-15T17:38:02.935364Z",
     "iopub.status.idle": "2025-05-15T17:38:05.204607Z",
     "shell.execute_reply": "2025-05-15T17:38:05.203403Z"
    }
   },
   "outputs": [
    {
     "data": {
      "text/html": [
       "<strong>pdf:</strong> 2"
      ],
      "text/latex": [
       "\\textbf{pdf:} 2"
      ],
      "text/markdown": [
       "**pdf:** 2"
      ],
      "text/plain": [
       "pdf \n",
       "  2 "
      ]
     },
     "metadata": {},
     "output_type": "display_data"
    }
   ],
   "source": [
    "numcol <- 3\n",
    "numrow <- ceiling(length(pl)/numcol)\n",
    "pdf(paste0(pref.p.sro, \"module-scores/UMAP-avg.expr-TC.markers.pdf\"), width = 8*numcol, height = 6*numrow)\n",
    "print(plot_grid(plotlist = pl, align = 'hv', ncol = 3))\n",
    "dev.off()"
   ]
  },
  {
   "cell_type": "code",
   "execution_count": null,
   "id": "a81f81bd-dc67-4880-aade-a6e9c1c85735",
   "metadata": {},
   "outputs": [],
   "source": []
  }
 ],
 "metadata": {
  "kernelspec": {
   "display_name": "R [conda env:multiome]",
   "language": "R",
   "name": "conda-env-multiome-r"
  },
  "language_info": {
   "codemirror_mode": "r",
   "file_extension": ".r",
   "mimetype": "text/x-r-source",
   "name": "R",
   "pygments_lexer": "r",
   "version": "4.3.3"
  },
  "toc-autonumbering": true
 },
 "nbformat": 4,
 "nbformat_minor": 5
}
