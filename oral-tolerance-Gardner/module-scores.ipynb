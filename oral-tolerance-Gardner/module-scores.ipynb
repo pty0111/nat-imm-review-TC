{
 "cells": [
  {
   "cell_type": "code",
   "execution_count": 16,
   "id": "d69d9844-a54c-48a1-b068-7ac5c2343b18",
   "metadata": {
    "execution": {
     "iopub.execute_input": "2025-05-14T18:22:23.829929Z",
     "iopub.status.busy": "2025-05-14T18:22:23.828913Z",
     "iopub.status.idle": "2025-05-14T18:22:28.460422Z",
     "shell.execute_reply": "2025-05-14T18:22:28.458934Z"
    },
    "scrolled": true,
    "tags": []
   },
   "outputs": [],
   "source": [
    "setwd(\"~/0-workspace/CCR7_DC/oral-tolerance-Gardner/\")\n",
    "\n",
    "suppressPackageStartupMessages({\n",
    "library(Seurat) # v4.4\n",
    "library(Matrix)\n",
    "library(future)\n",
    "library(dplyr)\n",
    "library(ggplot2)\n",
    "library(cowplot)\n",
    "library(ComplexHeatmap)\n",
    "library(circlize)\n",
    "library(ggrepel)\n",
    "})\n",
    "set.seed(1)\n",
    "options(future.globals.maxSize = Inf)\n",
    "\n",
    "pal <- readRDS(\"plots/palette.rds\")\n",
    "source(\"../utils.R\")"
   ]
  },
  {
   "cell_type": "code",
   "execution_count": 17,
   "id": "7f3e4f11-b552-4fda-986d-286ce6fb25f8",
   "metadata": {
    "execution": {
     "iopub.execute_input": "2025-05-14T18:22:29.079943Z",
     "iopub.status.busy": "2025-05-14T18:22:29.078613Z",
     "iopub.status.idle": "2025-05-14T18:22:29.092240Z",
     "shell.execute_reply": "2025-05-14T18:22:29.091197Z"
    }
   },
   "outputs": [],
   "source": [
    "cols <- rev(RColorBrewer::brewer.pal(11,\"Spectral\"))\n",
    "transitions <- c(0, 15, 25, 30, 40, 50, 60, 70, 75, 85, 100)\n",
    "scaled_transitions <- scales::rescale(transitions, from = c(0, 100), to = c(0, 1))\n",
    "scale.color <- scale_color_gradientn(colors = cols, values = scaled_transitions)"
   ]
  },
  {
   "cell_type": "code",
   "execution_count": 18,
   "id": "a2f410d3-19bd-4ffb-a656-ffb159988265",
   "metadata": {
    "execution": {
     "iopub.execute_input": "2025-05-14T18:22:29.557006Z",
     "iopub.status.busy": "2025-05-14T18:22:29.556030Z",
     "iopub.status.idle": "2025-05-14T18:22:29.565865Z",
     "shell.execute_reply": "2025-05-14T18:22:29.564819Z"
    },
    "tags": []
   },
   "outputs": [],
   "source": [
    "RenameGenesSeurat <- function(obj, newnames) { # Replace gene names in different slots of a Seurat object. Run this before integration. It only changes obj@assays$RNA@counts, @data and @scale.data.\n",
    "  print(\"Run this before integration. It only changes obj@assays$RNA@counts, @data and @scale.data.\")\n",
    "  RNA <- obj@assays$RNA\n",
    "  \n",
    "  if (nrow(RNA) == length(newnames)) {\n",
    "    if (length(RNA@counts)) RNA@counts@Dimnames[[1]] <- newnames\n",
    "    if (length(RNA@data)) RNA@data@Dimnames[[1]] <- newnames\n",
    "    if (length(RNA@scale.data)) rownames(RNA@scale.data) <- newnames\n",
    "    if (length(RNA@meta.features)) {\n",
    "      RNA@meta.features$prev.names <- rownames(RNA@meta.features)\n",
    "      rownames(RNA@meta.features) <- newnames\n",
    "    }\n",
    "    if (length(RNA@var.features)){\n",
    "      RNA@var.features <- rownames(RNA@meta.features[match(RNA@var.features, RNA@meta.features$prev.names), ])\n",
    "    }\n",
    "  } else {\"Unequal gene sets: nrow(RNA) != nrow(newnames)\"}\n",
    "  obj@assays$RNA <- RNA\n",
    "  return(obj)\n",
    "}"
   ]
  },
  {
   "cell_type": "code",
   "execution_count": 19,
   "id": "f957f638-6e15-4379-b638-077848e87b69",
   "metadata": {
    "execution": {
     "iopub.execute_input": "2025-05-14T18:22:30.725934Z",
     "iopub.status.busy": "2025-05-14T18:22:30.724933Z",
     "iopub.status.idle": "2025-05-14T18:22:30.797766Z",
     "shell.execute_reply": "2025-05-14T18:22:30.796481Z"
    }
   },
   "outputs": [],
   "source": [
    "select.markers <- function(fn, output.dir = 'results/markers/', pairwise = F, fc.thr = 1.5, apv.thr = 0.01, n = Inf, exCC = F, cc.genes = NULL){\n",
    "  markers <- read.csv(file = paste0(output.dir, fn, \".csv\"), header = T, stringsAsFactors = F) %>%\n",
    "    subset(!grepl(\"(^MT-)|(^RPS)|(^RPL)|(^MRPL)|(^MRPS)\", toupper(gene)))\n",
    "  if (exCC){\n",
    "    markers <- markers[!(toupper(markers$gene) %in% toupper(cc.genes)),]\n",
    "  }\n",
    "  if(pairwise){\n",
    "    markers <- subset(markers, abs(avg_log2FC) > log2(fc.thr) & p_val_adj < apv.thr)\n",
    "    markers$cluster <- ifelse(markers$avg_log2FC > 0, \"up\", \"down\")\n",
    "    if(!is.infinite(n)) markers <- markers %>% group_by(cluster) %>% top_n(n, abs(avg_log2FC))\n",
    "    markers <- markers[order(markers$avg_log2FC), ]\n",
    "  } else{\n",
    "    markers <- subset(markers, avg_log2FC > log2(fc.thr) & p_val_adj < apv.thr)\n",
    "    if(any(duplicated(markers$gene))) markers <- markers %>% group_by(gene) %>% top_n(1, avg_log2FC)\n",
    "    if(!is.infinite(n)) markers <- markers %>% group_by(cluster) %>% top_n(n, avg_log2FC)\n",
    "    markers <- markers[order(markers$cluster, -markers$avg_log2FC), ]\n",
    "  }\n",
    "  return(markers)\n",
    "}"
   ]
  },
  {
   "cell_type": "markdown",
   "id": "a93ef6b7-2438-47e5-8120-da2942954ca9",
   "metadata": {},
   "source": [
    "# Load SRO"
   ]
  },
  {
   "cell_type": "code",
   "execution_count": 5,
   "id": "999a9aa4-2565-4e4e-9268-e8243e9dec0b",
   "metadata": {
    "execution": {
     "iopub.execute_input": "2025-05-02T03:39:50.005571Z",
     "iopub.status.busy": "2025-05-02T03:39:50.004815Z",
     "iopub.status.idle": "2025-05-02T03:39:56.326502Z",
     "shell.execute_reply": "2025-05-02T03:39:56.325088Z"
    }
   },
   "outputs": [],
   "source": [
    "# load SRO ####\n",
    "sro.ln <- readRDS(\"../TC_all_LN/results/SRO_subset.rds\")"
   ]
  },
  {
   "cell_type": "code",
   "execution_count": null,
   "id": "4913320f-18e8-4f62-b3fd-329d1fd2cd2b",
   "metadata": {
    "execution": {
     "iopub.execute_input": "2025-05-14T18:28:33.817893Z",
     "iopub.status.busy": "2025-05-14T18:28:33.816929Z"
    }
   },
   "outputs": [],
   "source": [
    "# pref.sro.a <- 'Seurat/adult/'; pref.p.sro.a <- 'plots/Seurat/adult/'\n",
    "# sro.a <- readRDS(paste0(pref.sro.a, \"SRO.rds\"))\n",
    "\n",
    "pref.sro.e <- 'Seurat/early/'; pref.p.sro.e <- 'plots/Seurat/early/'\n",
    "sro.e <- readRDS(paste0(pref.sro.e, \"SRO.rds\"))"
   ]
  },
  {
   "cell_type": "code",
   "execution_count": 23,
   "id": "835d995f-2890-400a-88d0-63002ce5f74c",
   "metadata": {
    "execution": {
     "iopub.execute_input": "2025-05-14T18:23:48.896022Z",
     "iopub.status.busy": "2025-05-14T18:23:48.895062Z",
     "iopub.status.idle": "2025-05-14T18:23:48.908094Z",
     "shell.execute_reply": "2025-05-14T18:23:48.906947Z"
    }
   },
   "outputs": [],
   "source": [
    "# pref.sro <- pref.sro.a\n",
    "# pref.p.sro <- pref.p.sro.a\n",
    "# sro <- sro.a"
   ]
  },
  {
   "cell_type": "code",
   "execution_count": 39,
   "id": "fa48ab4b-54c3-4698-b31e-c142c7237ed3",
   "metadata": {
    "execution": {
     "iopub.execute_input": "2025-05-14T18:29:52.700603Z",
     "iopub.status.busy": "2025-05-14T18:29:52.699503Z",
     "iopub.status.idle": "2025-05-14T18:29:52.712608Z",
     "shell.execute_reply": "2025-05-14T18:29:52.711382Z"
    }
   },
   "outputs": [],
   "source": [
    "pref.sro <- pref.sro.e\n",
    "pref.p.sro <- pref.p.sro.e\n",
    "sro <- sro.e"
   ]
  },
  {
   "cell_type": "code",
   "execution_count": 40,
   "id": "bb3c71a4-bef2-4fca-a6bc-febc69861b46",
   "metadata": {
    "execution": {
     "iopub.execute_input": "2025-05-14T18:29:54.083311Z",
     "iopub.status.busy": "2025-05-14T18:29:54.082209Z",
     "iopub.status.idle": "2025-05-14T18:29:57.331600Z",
     "shell.execute_reply": "2025-05-14T18:29:57.330481Z"
    }
   },
   "outputs": [
    {
     "name": "stdout",
     "output_type": "stream",
     "text": [
      "[1] \"Run this before integration. It only changes obj@assays$RNA@counts, @data and @scale.data.\"\n"
     ]
    }
   ],
   "source": [
    "sro <- RenameGenesSeurat(sro, toupper(rownames(sro)))"
   ]
  },
  {
   "cell_type": "markdown",
   "id": "a3c571ee-4d72-467b-88af-181cdb649153",
   "metadata": {},
   "source": [
    "## TC module scores"
   ]
  },
  {
   "cell_type": "code",
   "execution_count": 26,
   "id": "30ee2ce5-fa59-4ae0-ac15-016735e6d426",
   "metadata": {
    "execution": {
     "iopub.execute_input": "2025-05-02T03:44:22.877664Z",
     "iopub.status.busy": "2025-05-02T03:44:22.876739Z",
     "iopub.status.idle": "2025-05-02T03:44:23.040736Z",
     "shell.execute_reply": "2025-05-02T03:44:23.039591Z"
    }
   },
   "outputs": [],
   "source": [
    "# load markers ####\n",
    "markers.ln <- select.markers(\"TC-clusters\", output.dir = paste0('../TC_all_LN/results/markers/'))"
   ]
  },
  {
   "cell_type": "code",
   "execution_count": 27,
   "id": "73d5d0a5-ba3b-438c-a0dc-db7d3d445628",
   "metadata": {
    "execution": {
     "iopub.execute_input": "2025-05-02T03:44:23.683472Z",
     "iopub.status.busy": "2025-05-02T03:44:23.682541Z",
     "iopub.status.idle": "2025-05-02T03:44:23.702142Z",
     "shell.execute_reply": "2025-05-02T03:44:23.701170Z"
    }
   },
   "outputs": [],
   "source": [
    "tc1.markers.ln <- markers.ln[markers.ln$cluster == 3,]\n",
    "tc2.markers.ln <- markers.ln[markers.ln$cluster == 2,]\n",
    "tc3.markers.ln <- markers.ln[markers.ln$cluster == 1,]\n",
    "tc4.markers.ln <- markers.ln[markers.ln$cluster == 5,]\n",
    "ki_tc.markers.ln <- markers.ln[markers.ln$cluster == 7,]\n",
    "transitional.markers.ln <- markers.ln[markers.ln$cluster == 4,]"
   ]
  },
  {
   "cell_type": "code",
   "execution_count": 28,
   "id": "ea60732e-62ac-4c1e-8aa6-83ef65643e60",
   "metadata": {
    "execution": {
     "iopub.execute_input": "2025-05-02T03:44:24.566210Z",
     "iopub.status.busy": "2025-05-02T03:44:24.565402Z",
     "iopub.status.idle": "2025-05-02T03:44:24.592358Z",
     "shell.execute_reply": "2025-05-02T03:44:24.591416Z"
    }
   },
   "outputs": [
    {
     "data": {
      "text/html": [
       "150"
      ],
      "text/latex": [
       "150"
      ],
      "text/markdown": [
       "150"
      ],
      "text/plain": [
       "[1] 150"
      ]
     },
     "metadata": {},
     "output_type": "display_data"
    },
    {
     "data": {
      "text/html": [
       "151"
      ],
      "text/latex": [
       "151"
      ],
      "text/markdown": [
       "151"
      ],
      "text/plain": [
       "[1] 151"
      ]
     },
     "metadata": {},
     "output_type": "display_data"
    },
    {
     "data": {
      "text/html": [
       "196"
      ],
      "text/latex": [
       "196"
      ],
      "text/markdown": [
       "196"
      ],
      "text/plain": [
       "[1] 196"
      ]
     },
     "metadata": {},
     "output_type": "display_data"
    },
    {
     "data": {
      "text/html": [
       "214"
      ],
      "text/latex": [
       "214"
      ],
      "text/markdown": [
       "214"
      ],
      "text/plain": [
       "[1] 214"
      ]
     },
     "metadata": {},
     "output_type": "display_data"
    },
    {
     "data": {
      "text/html": [
       "276"
      ],
      "text/latex": [
       "276"
      ],
      "text/markdown": [
       "276"
      ],
      "text/plain": [
       "[1] 276"
      ]
     },
     "metadata": {},
     "output_type": "display_data"
    },
    {
     "data": {
      "text/html": [
       "81"
      ],
      "text/latex": [
       "81"
      ],
      "text/markdown": [
       "81"
      ],
      "text/plain": [
       "[1] 81"
      ]
     },
     "metadata": {},
     "output_type": "display_data"
    }
   ],
   "source": [
    "sum(toupper(tc1.markers.ln$gene) %in% rownames(sro))\n",
    "sum(toupper(tc2.markers.ln$gene) %in% rownames(sro))\n",
    "sum(toupper(tc3.markers.ln$gene) %in% rownames(sro))\n",
    "sum(toupper(tc4.markers.ln$gene) %in% rownames(sro))\n",
    "sum(toupper(ki_tc.markers.ln$gene) %in% rownames(sro))\n",
    "sum(toupper(transitional.markers.ln$gene) %in% rownames(sro))"
   ]
  },
  {
   "cell_type": "code",
   "execution_count": 29,
   "id": "c087ac12-4f2c-44bb-a455-9e26822923f4",
   "metadata": {
    "execution": {
     "iopub.execute_input": "2025-05-02T03:44:25.501808Z",
     "iopub.status.busy": "2025-05-02T03:44:25.500966Z",
     "iopub.status.idle": "2025-05-02T03:45:01.472817Z",
     "shell.execute_reply": "2025-05-02T03:45:01.471344Z"
    },
    "scrolled": true
   },
   "outputs": [
    {
     "name": "stderr",
     "output_type": "stream",
     "text": [
      "Warning message:\n",
      "“The following features are not present in the object: SKP1A, ATP5F1, not searching for symbol synonyms”\n",
      "Warning message:\n",
      "“The following features are not present in the object: HIST1H1B, H2AFX, HIST1H2AE, H2AFV, HIST1H1E, HIST1H4D, HIST1H2AP, HIST1H2AF, HIST1H1D, HIST1H1A, DDX39, HIST1H3C, HIST1H4I, not searching for symbol synonyms”\n",
      "Warning message:\n",
      "“The following features are not present in the object: GM42601, GM45716, not searching for symbol synonyms”\n",
      "Warning message:\n",
      "“The following features are not present in the object: SEPT4, SEPT11, not searching for symbol synonyms”\n",
      "Warning message:\n",
      "“The following features are not present in the object: 2610528A11RIK, AC149090.1, H2AFZ, not searching for symbol synonyms”\n",
      "Warning message:\n",
      "“The following features are not present in the object: HIST1H2BC, FAM49A, 1810058I24RIK, not searching for symbol synonyms”\n"
     ]
    }
   ],
   "source": [
    "sro <- AddModuleScore(sro, list(toupper(transitional.markers.ln$gene)), name = \"transitional.markers\")\n",
    "sro <- AddModuleScore(sro, list(toupper(ki_tc.markers.ln$gene)), name = \"ki_tc.markers\")\n",
    "sro <- AddModuleScore(sro, list(toupper(tc1.markers.ln$gene)), name = \"tc1.markers\")\n",
    "sro <- AddModuleScore(sro, list(toupper(tc2.markers.ln$gene)), name = \"tc2.markers\")\n",
    "sro <- AddModuleScore(sro, list(toupper(tc3.markers.ln$gene)), name = \"tc3.markers\")\n",
    "sro <- AddModuleScore(sro, list(toupper(tc4.markers.ln$gene)), name = \"tc4.markers\")"
   ]
  },
  {
   "cell_type": "code",
   "execution_count": 30,
   "id": "2156b09d-73fc-4a17-a590-b6322e5d0e61",
   "metadata": {
    "execution": {
     "iopub.execute_input": "2025-05-02T03:45:01.475673Z",
     "iopub.status.busy": "2025-05-02T03:45:01.474761Z",
     "iopub.status.idle": "2025-05-02T03:45:01.488269Z",
     "shell.execute_reply": "2025-05-02T03:45:01.487272Z"
    }
   },
   "outputs": [
    {
     "data": {
      "text/html": [
       "'plots/Seurat/adult/'"
      ],
      "text/latex": [
       "'plots/Seurat/adult/'"
      ],
      "text/markdown": [
       "'plots/Seurat/adult/'"
      ],
      "text/plain": [
       "[1] \"plots/Seurat/adult/\""
      ]
     },
     "metadata": {},
     "output_type": "display_data"
    }
   ],
   "source": [
    "pref.p.sro"
   ]
  },
  {
   "cell_type": "code",
   "execution_count": 31,
   "id": "cb63ab66-0e18-4eb1-a9cc-f6c45c05edde",
   "metadata": {
    "execution": {
     "iopub.execute_input": "2025-05-02T03:45:01.490727Z",
     "iopub.status.busy": "2025-05-02T03:45:01.489899Z",
     "iopub.status.idle": "2025-05-02T03:45:01.500995Z",
     "shell.execute_reply": "2025-05-02T03:45:01.499897Z"
    }
   },
   "outputs": [
    {
     "name": "stderr",
     "output_type": "stream",
     "text": [
      "Warning message in dir.create(paste0(pref.p.sro, \"module-scores\")):\n",
      "“'plots/Seurat/adult/module-scores' already exists”\n"
     ]
    }
   ],
   "source": [
    "dir.create(paste0(pref.p.sro, \"module-scores\"))"
   ]
  },
  {
   "cell_type": "code",
   "execution_count": 32,
   "id": "447d4618-97b2-494b-8b5a-536ac7788923",
   "metadata": {
    "execution": {
     "iopub.execute_input": "2025-05-02T03:45:01.503582Z",
     "iopub.status.busy": "2025-05-02T03:45:01.502698Z",
     "iopub.status.idle": "2025-05-02T03:45:01.512103Z",
     "shell.execute_reply": "2025-05-02T03:45:01.511003Z"
    }
   },
   "outputs": [],
   "source": [
    "f.w <- 12; f.h <- 10"
   ]
  },
  {
   "cell_type": "code",
   "execution_count": 33,
   "id": "b548b19d-2649-491b-88df-1d9db0e4f6e6",
   "metadata": {
    "execution": {
     "iopub.execute_input": "2025-05-02T03:45:01.514804Z",
     "iopub.status.busy": "2025-05-02T03:45:01.513885Z",
     "iopub.status.idle": "2025-05-02T03:45:08.939825Z",
     "shell.execute_reply": "2025-05-02T03:45:08.938763Z"
    }
   },
   "outputs": [
    {
     "data": {
      "text/html": [
       "<strong>pdf:</strong> 2"
      ],
      "text/latex": [
       "\\textbf{pdf:} 2"
      ],
      "text/markdown": [
       "**pdf:** 2"
      ],
      "text/plain": [
       "pdf \n",
       "  2 "
      ]
     },
     "metadata": {},
     "output_type": "display_data"
    },
    {
     "data": {
      "text/html": [
       "<strong>pdf:</strong> 2"
      ],
      "text/latex": [
       "\\textbf{pdf:} 2"
      ],
      "text/markdown": [
       "**pdf:** 2"
      ],
      "text/plain": [
       "pdf \n",
       "  2 "
      ]
     },
     "metadata": {},
     "output_type": "display_data"
    },
    {
     "data": {
      "text/html": [
       "<strong>pdf:</strong> 2"
      ],
      "text/latex": [
       "\\textbf{pdf:} 2"
      ],
      "text/markdown": [
       "**pdf:** 2"
      ],
      "text/plain": [
       "pdf \n",
       "  2 "
      ]
     },
     "metadata": {},
     "output_type": "display_data"
    },
    {
     "data": {
      "text/html": [
       "<strong>pdf:</strong> 2"
      ],
      "text/latex": [
       "\\textbf{pdf:} 2"
      ],
      "text/markdown": [
       "**pdf:** 2"
      ],
      "text/plain": [
       "pdf \n",
       "  2 "
      ]
     },
     "metadata": {},
     "output_type": "display_data"
    },
    {
     "data": {
      "text/html": [
       "<strong>pdf:</strong> 2"
      ],
      "text/latex": [
       "\\textbf{pdf:} 2"
      ],
      "text/markdown": [
       "**pdf:** 2"
      ],
      "text/plain": [
       "pdf \n",
       "  2 "
      ]
     },
     "metadata": {},
     "output_type": "display_data"
    },
    {
     "data": {
      "text/html": [
       "<strong>pdf:</strong> 2"
      ],
      "text/latex": [
       "\\textbf{pdf:} 2"
      ],
      "text/markdown": [
       "**pdf:** 2"
      ],
      "text/plain": [
       "pdf \n",
       "  2 "
      ]
     },
     "metadata": {},
     "output_type": "display_data"
    }
   ],
   "source": [
    "pdf(paste0(pref.p.sro, \"module-scores/UMAP-transitional_markers-from-TC_all_LN.pdf\"), width = f.w, height = f.h)\n",
    "print(plot.continuous.value(\n",
    "    sro, scale.color = scale.color,\n",
    "    vis = sro@reductions$umap@cell.embeddings,\n",
    "    idx = rownames(sro@meta.data), point.size = 1,\n",
    "    val = get.named.vector.sro(sro, paste0(\"transitional.markers1\")), val.name = 'module\\nscore') + ggtitle(\"transitional.markers\"))\n",
    "dev.off()\n",
    "\n",
    "pdf(paste0(pref.p.sro, \"module-scores/UMAP-TCI_markers-from-TC_all_LN.pdf\"), width = f.w, height = f.h)\n",
    "print(plot.continuous.value(\n",
    "    sro, scale.color = scale.color,\n",
    "    vis = sro@reductions$umap@cell.embeddings,\n",
    "    idx = rownames(sro@meta.data), point.size = 1,\n",
    "    val = get.named.vector.sro(sro, paste0(\"tc1.markers1\")), val.name = 'module\\nscore') + ggtitle(\"TC I markers\"))\n",
    "dev.off()\n",
    "\n",
    "pdf(paste0(pref.p.sro, \"module-scores/UMAP-TCII_markers-from-TC_all_LN.pdf\"), width = f.w, height = f.h)\n",
    "print(plot.continuous.value(\n",
    "    sro, scale.color = scale.color,\n",
    "    vis = sro@reductions$umap@cell.embeddings,\n",
    "    idx = rownames(sro@meta.data), point.size = 1,\n",
    "    val = get.named.vector.sro(sro, paste0(\"tc2.markers1\")), val.name = 'module\\nscore') + ggtitle(\"TC II markers\"))\n",
    "dev.off()\n",
    "\n",
    "pdf(paste0(pref.p.sro, \"module-scores/UMAP-TCIII_markers-from-TC_all_LN.pdf\"), width = f.w, height = f.h)\n",
    "print(plot.continuous.value(\n",
    "    sro, scale.color = scale.color,\n",
    "    vis = sro@reductions$umap@cell.embeddings,\n",
    "    idx = rownames(sro@meta.data), point.size = 1,\n",
    "    val = get.named.vector.sro(sro, paste0(\"tc3.markers1\")), val.name = 'module\\nscore') + ggtitle(\"TC III markers\"))\n",
    "dev.off()\n",
    "\n",
    "pdf(paste0(pref.p.sro, \"module-scores/UMAP-TCIV_markers-from-TC_all_LN.pdf\"), width = f.w, height = f.h)\n",
    "print(plot.continuous.value(\n",
    "    sro, scale.color = scale.color,\n",
    "    vis = sro@reductions$umap@cell.embeddings,\n",
    "    idx = rownames(sro@meta.data), point.size = 1,\n",
    "    val = get.named.vector.sro(sro, paste0(\"tc4.markers1\")), val.name = 'module\\nscore') + ggtitle(\"TC IV markers\"))\n",
    "dev.off()\n",
    "\n",
    "pdf(paste0(pref.p.sro, \"module-scores/UMAP-KI_TC_markers-from-TC_all_LN.pdf\"), width = f.w, height = f.h)\n",
    "print(plot.continuous.value(\n",
    "    sro, scale.color = scale.color,\n",
    "    vis = sro@reductions$umap@cell.embeddings,\n",
    "    idx = rownames(sro@meta.data), point.size = 1,\n",
    "    val = get.named.vector.sro(sro, paste0(\"ki_tc.markers1\")), val.name = 'module\\nscore') + ggtitle(\"Ki67+TC markers\"))\n",
    "dev.off()"
   ]
  },
  {
   "cell_type": "code",
   "execution_count": 34,
   "id": "75666f9e-1daa-492e-9979-2a7979464b10",
   "metadata": {
    "execution": {
     "iopub.execute_input": "2025-05-02T03:45:08.942076Z",
     "iopub.status.busy": "2025-05-02T03:45:08.941306Z",
     "iopub.status.idle": "2025-05-02T03:45:08.949662Z",
     "shell.execute_reply": "2025-05-02T03:45:08.948712Z"
    }
   },
   "outputs": [],
   "source": [
    "module.scores <- sro@meta.data[grep(\"markers1\", colnames(sro@meta.data), value = T)]"
   ]
  },
  {
   "cell_type": "code",
   "execution_count": 35,
   "id": "adca348b-dbab-4dd4-a7d9-a0162a0d0f7a",
   "metadata": {
    "execution": {
     "iopub.execute_input": "2025-05-02T03:45:08.951824Z",
     "iopub.status.busy": "2025-05-02T03:45:08.951084Z",
     "iopub.status.idle": "2025-05-02T03:45:08.960249Z",
     "shell.execute_reply": "2025-05-02T03:45:08.959333Z"
    }
   },
   "outputs": [
    {
     "name": "stderr",
     "output_type": "stream",
     "text": [
      "Warning message in dir.create(paste0(pref.sro, \"module-scores/\")):\n",
      "“'Seurat/adult/module-scores' already exists”\n"
     ]
    }
   ],
   "source": [
    "dir.create(paste0(pref.sro, \"module-scores/\"))"
   ]
  },
  {
   "cell_type": "code",
   "execution_count": 36,
   "id": "e7586c3d-69e4-4f16-908a-fa289c01ca19",
   "metadata": {
    "execution": {
     "iopub.execute_input": "2025-05-02T03:45:08.962399Z",
     "iopub.status.busy": "2025-05-02T03:45:08.961645Z",
     "iopub.status.idle": "2025-05-02T03:45:09.308547Z",
     "shell.execute_reply": "2025-05-02T03:45:09.307584Z"
    }
   },
   "outputs": [],
   "source": [
    "write.csv(module.scores, paste0(pref.sro, \"module-scores/TC_all_LN-scores.csv\"), quote = F)"
   ]
  },
  {
   "cell_type": "markdown",
   "id": "1b05bd7f-3ef3-46dd-9a20-82488348780d",
   "metadata": {},
   "source": [
    "## eTAC signatures from paper"
   ]
  },
  {
   "cell_type": "code",
   "execution_count": 43,
   "id": "bd4bf1b1-965b-494d-874c-5c89ee8dfc93",
   "metadata": {
    "execution": {
     "iopub.execute_input": "2025-05-14T18:30:15.325275Z",
     "iopub.status.busy": "2025-05-14T18:30:15.324287Z",
     "iopub.status.idle": "2025-05-14T18:30:15.530106Z",
     "shell.execute_reply": "2025-05-14T18:30:15.528915Z"
    }
   },
   "outputs": [
    {
     "name": "stderr",
     "output_type": "stream",
     "text": [
      "\u001b[1m\u001b[22mNew names:\n",
      "\u001b[36m•\u001b[39m `` -> `...1`\n",
      "\u001b[1m\u001b[22mNew names:\n",
      "\u001b[36m•\u001b[39m `` -> `...1`\n",
      "\u001b[1m\u001b[22mNew names:\n",
      "\u001b[36m•\u001b[39m `` -> `...1`\n",
      "\u001b[1m\u001b[22mNew names:\n",
      "\u001b[36m•\u001b[39m `` -> `...1`\n",
      "\u001b[1m\u001b[22mNew names:\n",
      "\u001b[36m•\u001b[39m `` -> `...1`\n"
     ]
    }
   ],
   "source": [
    "# load markers ####\n",
    "etac.1 <- readxl::read_excel('Gardner-eTAC-signatures.xlsx', sheet = 1) %>% subset(lfc_mean > log2(1.5))\n",
    "colnames(etac.1)[1] <- 'gene'\n",
    "etac.2 <- readxl::read_excel('Gardner-eTAC-signatures.xlsx', sheet = 2) %>% subset(lfc_mean > log2(1.5))\n",
    "colnames(etac.2)[1] <- 'gene'\n",
    "etac.3 <- readxl::read_excel('Gardner-eTAC-signatures.xlsx', sheet = 3) %>% subset(lfc_mean > log2(1.5))\n",
    "colnames(etac.3)[1] <- 'gene'\n",
    "etac.prolif <- readxl::read_excel('Gardner-eTAC-signatures.xlsx', sheet = 7) %>% subset(lfc_mean > log2(1.5))\n",
    "colnames(etac.prolif)[1] <- 'gene'\n",
    "etac.lti <- readxl::read_excel('Gardner-eTAC-signatures.xlsx', sheet = 8) %>% subset(lfc_mean > log2(1.5))\n",
    "colnames(etac.lti)[1] <- 'gene'"
   ]
  },
  {
   "cell_type": "code",
   "execution_count": 44,
   "id": "02946c02-418d-42a7-aa1c-f2e8609ee968",
   "metadata": {
    "execution": {
     "iopub.execute_input": "2025-05-14T18:30:16.371504Z",
     "iopub.status.busy": "2025-05-14T18:30:16.370483Z",
     "iopub.status.idle": "2025-05-14T18:30:16.402721Z",
     "shell.execute_reply": "2025-05-14T18:30:16.401607Z"
    }
   },
   "outputs": [
    {
     "data": {
      "text/html": [
       "1354"
      ],
      "text/latex": [
       "1354"
      ],
      "text/markdown": [
       "1354"
      ],
      "text/plain": [
       "[1] 1354"
      ]
     },
     "metadata": {},
     "output_type": "display_data"
    },
    {
     "data": {
      "text/html": [
       "687"
      ],
      "text/latex": [
       "687"
      ],
      "text/markdown": [
       "687"
      ],
      "text/plain": [
       "[1] 687"
      ]
     },
     "metadata": {},
     "output_type": "display_data"
    },
    {
     "data": {
      "text/html": [
       "851"
      ],
      "text/latex": [
       "851"
      ],
      "text/markdown": [
       "851"
      ],
      "text/plain": [
       "[1] 851"
      ]
     },
     "metadata": {},
     "output_type": "display_data"
    },
    {
     "data": {
      "text/html": [
       "1164"
      ],
      "text/latex": [
       "1164"
      ],
      "text/markdown": [
       "1164"
      ],
      "text/plain": [
       "[1] 1164"
      ]
     },
     "metadata": {},
     "output_type": "display_data"
    },
    {
     "data": {
      "text/html": [
       "1425"
      ],
      "text/latex": [
       "1425"
      ],
      "text/markdown": [
       "1425"
      ],
      "text/plain": [
       "[1] 1425"
      ]
     },
     "metadata": {},
     "output_type": "display_data"
    }
   ],
   "source": [
    "sum(toupper(etac.1$gene) %in% rownames(sro))\n",
    "sum(toupper(etac.2$gene) %in% rownames(sro))\n",
    "sum(toupper(etac.3$gene) %in% rownames(sro))\n",
    "sum(toupper(etac.prolif$gene) %in% rownames(sro))\n",
    "sum(toupper(etac.lti$gene) %in% rownames(sro))"
   ]
  },
  {
   "cell_type": "code",
   "execution_count": 45,
   "id": "87f029e5-2c4a-454f-8cbe-6ae88c49332b",
   "metadata": {
    "execution": {
     "iopub.execute_input": "2025-05-14T18:30:18.984963Z",
     "iopub.status.busy": "2025-05-14T18:30:18.983955Z",
     "iopub.status.idle": "2025-05-14T18:31:01.349032Z",
     "shell.execute_reply": "2025-05-14T18:31:01.347560Z"
    },
    "scrolled": true
   },
   "outputs": [
    {
     "name": "stderr",
     "output_type": "stream",
     "text": [
      "Warning message:\n",
      "“The following features are not present in the object: LY6F, FCER1A, MUP5, PAKAP-1, not searching for symbol synonyms”\n",
      "Warning message:\n",
      "“The following features are not present in the object: LY6F, not searching for symbol synonyms”\n",
      "Warning message:\n",
      "“The following features are not present in the object: LY6F, MUP5, WFDC13, PAKAP-1, not searching for symbol synonyms”\n",
      "Warning message:\n",
      "“The following features are not present in the object: FCER1A, not searching for symbol synonyms”\n",
      "Warning message:\n",
      "“The following features are not present in the object: LY6F, MUP5, FCER1A, not searching for symbol synonyms”\n"
     ]
    }
   ],
   "source": [
    "sro <- AddModuleScore(sro, list(toupper(etac.1$gene)), name = \"etac1.markers\")\n",
    "sro <- AddModuleScore(sro, list(toupper(etac.2$gene)), name = \"etac2.markers\")\n",
    "sro <- AddModuleScore(sro, list(toupper(etac.3$gene)), name = \"etac3.markers\")\n",
    "sro <- AddModuleScore(sro, list(toupper(etac.prolif$gene)), name = \"prolif.etac.markers\")\n",
    "sro <- AddModuleScore(sro, list(toupper(etac.lti$gene)), name = \"lti.etac.markers\")"
   ]
  },
  {
   "cell_type": "code",
   "execution_count": 46,
   "id": "fd06f2ba-2cc8-4cb8-aa4e-564eabd0beb0",
   "metadata": {
    "execution": {
     "iopub.execute_input": "2025-05-14T18:31:01.352015Z",
     "iopub.status.busy": "2025-05-14T18:31:01.351048Z",
     "iopub.status.idle": "2025-05-14T18:31:01.366886Z",
     "shell.execute_reply": "2025-05-14T18:31:01.365712Z"
    }
   },
   "outputs": [
    {
     "data": {
      "text/html": [
       "'plots/Seurat/early/'"
      ],
      "text/latex": [
       "'plots/Seurat/early/'"
      ],
      "text/markdown": [
       "'plots/Seurat/early/'"
      ],
      "text/plain": [
       "[1] \"plots/Seurat/early/\""
      ]
     },
     "metadata": {},
     "output_type": "display_data"
    }
   ],
   "source": [
    "pref.p.sro"
   ]
  },
  {
   "cell_type": "code",
   "execution_count": 47,
   "id": "57137d08-925f-47e2-9338-f0946c3050bc",
   "metadata": {
    "execution": {
     "iopub.execute_input": "2025-05-14T18:31:01.369610Z",
     "iopub.status.busy": "2025-05-14T18:31:01.368673Z",
     "iopub.status.idle": "2025-05-14T18:31:01.380131Z",
     "shell.execute_reply": "2025-05-14T18:31:01.379036Z"
    }
   },
   "outputs": [
    {
     "name": "stderr",
     "output_type": "stream",
     "text": [
      "Warning message in dir.create(paste0(pref.p.sro, \"module-scores\")):\n",
      "“'plots/Seurat/early/module-scores' already exists”\n"
     ]
    }
   ],
   "source": [
    "dir.create(paste0(pref.p.sro, \"module-scores\"))"
   ]
  },
  {
   "cell_type": "code",
   "execution_count": 48,
   "id": "c30788c5-ad0a-486f-ac3e-aac95b2fa077",
   "metadata": {
    "execution": {
     "iopub.execute_input": "2025-05-14T18:31:01.382755Z",
     "iopub.status.busy": "2025-05-14T18:31:01.381870Z",
     "iopub.status.idle": "2025-05-14T18:31:01.391532Z",
     "shell.execute_reply": "2025-05-14T18:31:01.390415Z"
    }
   },
   "outputs": [],
   "source": [
    "f.w <- 12; f.h <- 10"
   ]
  },
  {
   "cell_type": "code",
   "execution_count": 49,
   "id": "f5d9e7b9-c309-40b2-8874-7ff3f355dd0a",
   "metadata": {
    "execution": {
     "iopub.execute_input": "2025-05-14T18:31:01.394207Z",
     "iopub.status.busy": "2025-05-14T18:31:01.393308Z",
     "iopub.status.idle": "2025-05-14T18:31:09.810156Z",
     "shell.execute_reply": "2025-05-14T18:31:09.808974Z"
    }
   },
   "outputs": [
    {
     "data": {
      "text/html": [
       "<strong>pdf:</strong> 2"
      ],
      "text/latex": [
       "\\textbf{pdf:} 2"
      ],
      "text/markdown": [
       "**pdf:** 2"
      ],
      "text/plain": [
       "pdf \n",
       "  2 "
      ]
     },
     "metadata": {},
     "output_type": "display_data"
    },
    {
     "data": {
      "text/html": [
       "<strong>pdf:</strong> 2"
      ],
      "text/latex": [
       "\\textbf{pdf:} 2"
      ],
      "text/markdown": [
       "**pdf:** 2"
      ],
      "text/plain": [
       "pdf \n",
       "  2 "
      ]
     },
     "metadata": {},
     "output_type": "display_data"
    },
    {
     "data": {
      "text/html": [
       "<strong>pdf:</strong> 2"
      ],
      "text/latex": [
       "\\textbf{pdf:} 2"
      ],
      "text/markdown": [
       "**pdf:** 2"
      ],
      "text/plain": [
       "pdf \n",
       "  2 "
      ]
     },
     "metadata": {},
     "output_type": "display_data"
    },
    {
     "data": {
      "text/html": [
       "<strong>pdf:</strong> 2"
      ],
      "text/latex": [
       "\\textbf{pdf:} 2"
      ],
      "text/markdown": [
       "**pdf:** 2"
      ],
      "text/plain": [
       "pdf \n",
       "  2 "
      ]
     },
     "metadata": {},
     "output_type": "display_data"
    },
    {
     "data": {
      "text/html": [
       "<strong>pdf:</strong> 2"
      ],
      "text/latex": [
       "\\textbf{pdf:} 2"
      ],
      "text/markdown": [
       "**pdf:** 2"
      ],
      "text/plain": [
       "pdf \n",
       "  2 "
      ]
     },
     "metadata": {},
     "output_type": "display_data"
    }
   ],
   "source": [
    "pdf(paste0(pref.p.sro, \"module-scores/UMAP-etac1.markers.pdf\"), width = f.w, height = f.h)\n",
    "print(plot.continuous.value(\n",
    "    sro, scale.color = scale.color,\n",
    "    vis = sro@reductions$umap@cell.embeddings,\n",
    "    idx = rownames(sro@meta.data), point.size = 1,\n",
    "    val = get.named.vector.sro(sro, paste0(\"etac1.markers1\")), val.name = 'module\\nscore') + ggtitle(\"eTAC 1 markers\"))\n",
    "dev.off()\n",
    "\n",
    "pdf(paste0(pref.p.sro, \"module-scores/UMAP-etac2.markers.pdf\"), width = f.w, height = f.h)\n",
    "print(plot.continuous.value(\n",
    "    sro, scale.color = scale.color,\n",
    "    vis = sro@reductions$umap@cell.embeddings,\n",
    "    idx = rownames(sro@meta.data), point.size = 1,\n",
    "    val = get.named.vector.sro(sro, paste0(\"etac2.markers1\")), val.name = 'module\\nscore') + ggtitle(\"eTAC 2 markers\"))\n",
    "dev.off()\n",
    "\n",
    "pdf(paste0(pref.p.sro, \"module-scores/UMAP-etac3.markers.pdf\"), width = f.w, height = f.h)\n",
    "print(plot.continuous.value(\n",
    "    sro, scale.color = scale.color,\n",
    "    vis = sro@reductions$umap@cell.embeddings,\n",
    "    idx = rownames(sro@meta.data), point.size = 1,\n",
    "    val = get.named.vector.sro(sro, paste0(\"etac3.markers1\")), val.name = 'module\\nscore') + ggtitle(\"eTAC 3 markers\"))\n",
    "dev.off()\n",
    "\n",
    "pdf(paste0(pref.p.sro, \"module-scores/UMAP-prolif.etac.markers.pdf\"), width = f.w, height = f.h)\n",
    "print(plot.continuous.value(\n",
    "    sro, scale.color = scale.color,\n",
    "    vis = sro@reductions$umap@cell.embeddings,\n",
    "    idx = rownames(sro@meta.data), point.size = 1,\n",
    "    val = get.named.vector.sro(sro, paste0(\"prolif.etac.markers1\")), val.name = 'module\\nscore') + ggtitle(\"Proliferating eTAC markers\"))\n",
    "dev.off()\n",
    "\n",
    "pdf(paste0(pref.p.sro, \"module-scores/UMAP-lti.etac.markers.pdf\"), width = f.w, height = f.h)\n",
    "print(plot.continuous.value(\n",
    "    sro, scale.color = scale.color,\n",
    "    vis = sro@reductions$umap@cell.embeddings,\n",
    "    idx = rownames(sro@meta.data), point.size = 1,\n",
    "    val = get.named.vector.sro(sro, paste0(\"lti.etac.markers1\")), val.name = 'module\\nscore') + ggtitle(\"LTi-like eTAC markers\"))\n",
    "dev.off()"
   ]
  },
  {
   "cell_type": "code",
   "execution_count": null,
   "id": "e3b67665-8c08-4391-859c-ba796a9aace0",
   "metadata": {},
   "outputs": [],
   "source": [
    "module.scores <- sro@meta.data[grep(\"markers1\", colnames(sro@meta.data), value = T)]"
   ]
  },
  {
   "cell_type": "code",
   "execution_count": 53,
   "id": "727d7152-6db8-4b1c-b5ab-9da49420351c",
   "metadata": {
    "execution": {
     "iopub.execute_input": "2025-05-14T18:33:38.882828Z",
     "iopub.status.busy": "2025-05-14T18:33:38.881854Z",
     "iopub.status.idle": "2025-05-14T18:33:38.894239Z",
     "shell.execute_reply": "2025-05-14T18:33:38.893183Z"
    }
   },
   "outputs": [
    {
     "data": {
      "text/html": [
       "<style>\n",
       ".list-inline {list-style: none; margin:0; padding: 0}\n",
       ".list-inline>li {display: inline-block}\n",
       ".list-inline>li:not(:last-child)::after {content: \"\\00b7\"; padding: 0 .5ex}\n",
       "</style>\n",
       "<ol class=list-inline><li>'etac1.markers1'</li><li>'etac2.markers1'</li><li>'etac3.markers1'</li><li>'prolif.etac.markers1'</li><li>'lti.etac.markers1'</li></ol>\n"
      ],
      "text/latex": [
       "\\begin{enumerate*}\n",
       "\\item 'etac1.markers1'\n",
       "\\item 'etac2.markers1'\n",
       "\\item 'etac3.markers1'\n",
       "\\item 'prolif.etac.markers1'\n",
       "\\item 'lti.etac.markers1'\n",
       "\\end{enumerate*}\n"
      ],
      "text/markdown": [
       "1. 'etac1.markers1'\n",
       "2. 'etac2.markers1'\n",
       "3. 'etac3.markers1'\n",
       "4. 'prolif.etac.markers1'\n",
       "5. 'lti.etac.markers1'\n",
       "\n",
       "\n"
      ],
      "text/plain": [
       "[1] \"etac1.markers1\"       \"etac2.markers1\"       \"etac3.markers1\"      \n",
       "[4] \"prolif.etac.markers1\" \"lti.etac.markers1\"   "
      ]
     },
     "metadata": {},
     "output_type": "display_data"
    }
   ],
   "source": [
    "colnames(module.scores)"
   ]
  },
  {
   "cell_type": "code",
   "execution_count": 61,
   "id": "f2e2ad5f-a74d-403a-a853-b3063b2fada1",
   "metadata": {
    "execution": {
     "iopub.execute_input": "2025-05-14T18:38:26.147171Z",
     "iopub.status.busy": "2025-05-14T18:38:26.145970Z",
     "iopub.status.idle": "2025-05-14T18:38:26.203313Z",
     "shell.execute_reply": "2025-05-14T18:38:26.201893Z"
    }
   },
   "outputs": [],
   "source": [
    "pl <- lapply(colnames(module.scores), function(module){\n",
    "    module.name <- stringr::str_split_i(module, '.marker', i = 1)\n",
    "    p <- plot.continuous.value(\n",
    "        sro, scale.color = scale.color,\n",
    "        vis = sro@reductions$umap@cell.embeddings,\n",
    "        idx = rownames(sro@meta.data), point.size = 1,\n",
    "        val = get.named.vector.sro(sro, paste0(module)), val.name = 'module\\nscore') + ggtitle(module.name)\n",
    "    return(p)\n",
    "})"
   ]
  },
  {
   "cell_type": "code",
   "execution_count": 62,
   "id": "64e2415e-24d9-4ca5-a7e2-d132fe1fbea8",
   "metadata": {
    "execution": {
     "iopub.execute_input": "2025-05-14T18:38:33.062741Z",
     "iopub.status.busy": "2025-05-14T18:38:33.061575Z",
     "iopub.status.idle": "2025-05-14T18:38:41.409357Z",
     "shell.execute_reply": "2025-05-14T18:38:41.407740Z"
    }
   },
   "outputs": [
    {
     "data": {
      "text/html": [
       "<strong>pdf:</strong> 2"
      ],
      "text/latex": [
       "\\textbf{pdf:} 2"
      ],
      "text/markdown": [
       "**pdf:** 2"
      ],
      "text/plain": [
       "pdf \n",
       "  2 "
      ]
     },
     "metadata": {},
     "output_type": "display_data"
    }
   ],
   "source": [
    "numcol <- 3\n",
    "numrow <- ceiling(length(pl)/numcol)\n",
    "pdf(paste0(pref.p.sro, \"module-scores/UMAP-eTAC.markers.pdf\"), width = 8*numcol, height = 6*numrow)\n",
    "print(plot_grid(plotlist = pl, align = 'hv', ncol = 3))\n",
    "dev.off()"
   ]
  },
  {
   "cell_type": "code",
   "execution_count": 63,
   "id": "a5a069a0-dc58-423d-8c3e-3e63deab5865",
   "metadata": {
    "execution": {
     "iopub.execute_input": "2025-05-14T18:39:35.149140Z",
     "iopub.status.busy": "2025-05-14T18:39:35.147947Z",
     "iopub.status.idle": "2025-05-14T18:39:35.161386Z",
     "shell.execute_reply": "2025-05-14T18:39:35.160084Z"
    }
   },
   "outputs": [],
   "source": [
    "module.scores <- sro@meta.data[grep(\"markers1\", colnames(sro@meta.data), value = T)]"
   ]
  },
  {
   "cell_type": "code",
   "execution_count": 64,
   "id": "ac93d669-d9c6-4f1a-a1be-aa59b0023889",
   "metadata": {
    "execution": {
     "iopub.execute_input": "2025-05-14T18:39:35.446742Z",
     "iopub.status.busy": "2025-05-14T18:39:35.445570Z",
     "iopub.status.idle": "2025-05-14T18:39:35.458289Z",
     "shell.execute_reply": "2025-05-14T18:39:35.457080Z"
    }
   },
   "outputs": [
    {
     "name": "stderr",
     "output_type": "stream",
     "text": [
      "Warning message in dir.create(paste0(pref.sro, \"module-scores/\")):\n",
      "“'Seurat/early/module-scores' already exists”\n"
     ]
    }
   ],
   "source": [
    "dir.create(paste0(pref.sro, \"module-scores/\"))"
   ]
  },
  {
   "cell_type": "code",
   "execution_count": 65,
   "id": "b30af8bc-55a1-4b41-97e3-94334cb162b9",
   "metadata": {
    "execution": {
     "iopub.execute_input": "2025-05-14T18:39:35.960773Z",
     "iopub.status.busy": "2025-05-14T18:39:35.959618Z",
     "iopub.status.idle": "2025-05-14T18:39:36.398417Z",
     "shell.execute_reply": "2025-05-14T18:39:36.396992Z"
    }
   },
   "outputs": [],
   "source": [
    "write.csv(module.scores, paste0(pref.sro, \"module-scores/eTAC-scores.csv\"), quote = F)"
   ]
  },
  {
   "cell_type": "code",
   "execution_count": null,
   "id": "81378f47-734f-4a26-8087-0c625b515f98",
   "metadata": {},
   "outputs": [],
   "source": []
  }
 ],
 "metadata": {
  "kernelspec": {
   "display_name": "R [conda env:multiome]",
   "language": "R",
   "name": "conda-env-multiome-r"
  },
  "language_info": {
   "codemirror_mode": "r",
   "file_extension": ".r",
   "mimetype": "text/x-r-source",
   "name": "R",
   "pygments_lexer": "r",
   "version": "4.3.3"
  },
  "toc-autonumbering": true
 },
 "nbformat": 4,
 "nbformat_minor": 5
}
