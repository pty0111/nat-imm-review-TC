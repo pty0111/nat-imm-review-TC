{
 "cells": [
  {
   "cell_type": "code",
   "execution_count": 1,
   "id": "95c0c409-95ef-4d3c-a6a6-90345313f7f6",
   "metadata": {
    "execution": {
     "iopub.execute_input": "2025-05-20T15:27:42.221418Z",
     "iopub.status.busy": "2025-05-20T15:27:42.219228Z",
     "iopub.status.idle": "2025-05-20T15:27:52.379024Z",
     "shell.execute_reply": "2025-05-20T15:27:52.377722Z"
    }
   },
   "outputs": [
    {
     "name": "stderr",
     "output_type": "stream",
     "text": [
      "\n",
      "                                                   / |\n",
      "                                                 /    \\\n",
      "            .                                  /      |.\n",
      "            \\\\\\                              /        |.\n",
      "              \\\\\\                          /           `|.\n",
      "                \\\\\\                      /              |.\n",
      "                  \\                    /                |\\\n",
      "                  \\\\#####\\           /                  ||\n",
      "                ==###########>      /                   ||\n",
      "                 \\\\##==......\\    /                     ||\n",
      "            ______ =       =|__ /__                     ||      \\\\\\\n",
      "        ,--' ,----`-,__ ___/'  --,-`-===================##========>\n",
      "       \\               '        ##_______ _____ ,--,__,=##,__   ///\n",
      "        ,    __==    ___,-,__,--'#'  ==='      `-'    | ##,-/\n",
      "        -,____,---'       \\\\####\\\\________________,--\\\\_##,/\n",
      "           ___      .______        ______  __    __  .______      \n",
      "          /   \\     |   _  \\      /      ||  |  |  | |   _  \\     \n",
      "         /  ^  \\    |  |_)  |    |  ,----'|  |__|  | |  |_)  |    \n",
      "        /  /_\\  \\   |      /     |  |     |   __   | |      /     \n",
      "       /  _____  \\  |  |\\  \\\\___ |  `----.|  |  |  | |  |\\  \\\\___.\n",
      "      /__/     \\__\\ | _| `._____| \\______||__|  |__| | _| `._____|\n",
      "    \n",
      "\n",
      "Warning message in dir.create(\"plots\"):\n",
      "“'plots' already exists”\n"
     ]
    }
   ],
   "source": [
    "Sys.setenv(RETICULATE_PYTHON = \"/data1/lesliec/tyler/utils/miniforge3/envs/multiome/bin/python\")\n",
    "setwd(\"~/0-workspace/CCR7_DC/oral-tolerance-Gardner/\")\n",
    "\n",
    "suppressPackageStartupMessages({\n",
    "  library(Seurat)\n",
    "  library(ArchR)\n",
    "  library(Rmagic)\n",
    "  library(anndata)\n",
    "  library(Matrix)\n",
    "  library(ggplot2)\n",
    "  library(ggrepel)\n",
    "  library(cowplot)\n",
    "  library(ComplexHeatmap)\n",
    "  library(circlize)\n",
    "  library(dplyr)\n",
    "  library(rasterpdf)\n",
    "  library(viridis)\n",
    "  library(future)\n",
    "})\n",
    "set.seed(1)\n",
    "plan(\"multicore\", workers = 16)\n",
    "options(future.globals.maxSize = Inf)\n",
    "\n",
    "source(\"utils.R\")\n",
    "\n",
    "pal <- list(\n",
    "  Clusters = c(\n",
    "    \"#5fed0e\", \"#489de8\", \"#d40663\", \"#d1c50f\", \"#077315\",\n",
    "    \"#e67109\", \"#785cd4\", \"#260691\", \"#9e7d3f\", \"#bd537a\",\n",
    "    \"#49709c\", \"#aebeff\", \"#9c2903\", \"#9c6fa8\", \"#827c68\",\n",
    "    \"#062e0b\", \"#1ee3c5\"\n",
    "  ),\n",
    "  Clusters_long = c(\n",
    "    \"#000000\", \"#FAD09F\", \"#1CE6FF\", \"#FF34FF\", \"#FF4A46\", \"#008941\", \"#006FA6\", \"#A30059\",\n",
    "    \"#FFDBE5\", \"#7A4900\", \"#0000A6\", \"#63FFAC\", \"#B79762\", \"#004D43\", \"#8FB0FF\", \"#997D87\",\n",
    "    \"#5A0007\", \"#809693\", \"#1B4400\", \"#4FC601\", \"#3B5DFF\", \"#4A3B53\", \"#FF2F80\",\n",
    "    \"#61615A\", \"#BA0900\", \"#6B7900\", \"#00C2A0\", \"#FFAA92\", \"#FF90C9\", \"#B903AA\", \"#D16100\",\n",
    "    \"#DDEFFF\", \"#000035\", \"#7B4F4B\", \"#A1C299\", \"#300018\", \"#0AA6D8\", \"#013349\", \"#00846F\",\n",
    "    \"#372101\", \"#FFFF00\", \"#C2FFED\", \"#A079BF\", \"#CC0744\", \"#C0B9B2\", \"#C2FF99\", \"#001E09\",\n",
    "    \"#00489C\", \"#6F0062\", \"#0CBD66\", \"#EEC3FF\", \"#456D75\", \"#B77B68\", \"#7A87A1\", \"#788D66\",\n",
    "    \"#885578\", \"#FAD09F\", \"#FF8A9A\", \"#D157A0\", \"#BEC459\", \"#456648\", \"#0086ED\", \"#886F4C\",\n",
    "    \"#34362D\", \"#B4A8BD\", \"#00A6AA\", \"#452C2C\", \"#636375\", \"#A3C8C9\", \"#FF913F\", \"#938A81\",\n",
    "    \"#575329\", \"#00FECF\", \"#B05B6F\", \"#8CD0FF\", \"#3B9700\", \"#04F757\", \"#C8A1A1\", \"#1E6E00\",\n",
    "    \"#7900D7\", \"#A77500\", \"#6367A9\", \"#A05837\", \"#6B002C\", \"#772600\", \"#D790FF\", \"#9B9700\",\n",
    "    \"#549E79\", \"#FFF69F\", \"#201625\", \"#72418F\", \"#BC23FF\", \"#99ADC0\", \"#3A2465\", \"#922329\",\n",
    "    \"#5B4534\", \"#FDE8DC\", \"#404E55\", \"#0089A3\", \"#CB7E98\", \"#A4E804\", \"#324E72\", \"#6A3A4C\")\n",
    ")\n",
    "dir.create('plots')\n",
    "saveRDS(pal, file = \"plots/palette.rds\")\n",
    "pal <- readRDS(file = \"plots/palette.rds\")"
   ]
  },
  {
   "cell_type": "markdown",
   "id": "b10583cc-d8e2-497f-944d-19cf0e99efc5",
   "metadata": {},
   "source": [
    "# Load data"
   ]
  },
  {
   "cell_type": "code",
   "execution_count": 2,
   "id": "5c2233a8-73b2-4ea7-9d36-dce6f78ed38f",
   "metadata": {
    "execution": {
     "iopub.execute_input": "2025-04-30T10:01:39.546989Z",
     "iopub.status.busy": "2025-04-30T10:01:39.524954Z",
     "iopub.status.idle": "2025-04-30T10:01:55.929160Z",
     "shell.execute_reply": "2025-04-30T10:01:55.927081Z"
    }
   },
   "outputs": [],
   "source": [
    "adata.e <- read_h5ad(\"data/GSE285182_early_life_int.h5ad\")\n",
    "adata.a <- read_h5ad(\"data/GSE273746_named_int_td_adata_OG_FINAL.h5ad\")"
   ]
  },
  {
   "cell_type": "code",
   "execution_count": 7,
   "id": "7b990609-5899-48c7-a1f3-9039fef4e847",
   "metadata": {
    "execution": {
     "iopub.execute_input": "2025-04-30T10:03:12.271374Z",
     "iopub.status.busy": "2025-04-30T10:03:12.270319Z",
     "iopub.status.idle": "2025-04-30T10:03:12.834473Z",
     "shell.execute_reply": "2025-04-30T10:03:12.832904Z"
    }
   },
   "outputs": [],
   "source": [
    "write.csv(adata.e$obs, \"data/GSE285182_adata_obs.csv\", quote = F)\n",
    "write.csv(adata.a$obs, \"data/GSE273746_adata_obs.csv\", quote = F)"
   ]
  },
  {
   "cell_type": "code",
   "execution_count": 9,
   "id": "bba1e97b-fa7a-41e6-ab1f-307e58692961",
   "metadata": {
    "execution": {
     "iopub.execute_input": "2025-04-30T10:04:32.009530Z",
     "iopub.status.busy": "2025-04-30T10:04:32.008201Z",
     "iopub.status.idle": "2025-04-30T10:04:32.024212Z",
     "shell.execute_reply": "2025-04-30T10:04:32.023056Z"
    }
   },
   "outputs": [],
   "source": [
    "# 1. Load data ####\n",
    "\n",
    "pref.sro <- 'Seurat/'; pref.p.sro <- 'plots/Seurat/'\n",
    "dir.create(pref.sro); dir.create(pref.p.sro)"
   ]
  },
  {
   "cell_type": "code",
   "execution_count": 14,
   "id": "f6be6482-bdb4-4691-99ab-8f37fc6aa6d7",
   "metadata": {
    "execution": {
     "iopub.execute_input": "2025-04-30T10:09:34.278563Z",
     "iopub.status.busy": "2025-04-30T10:09:34.277387Z",
     "iopub.status.idle": "2025-04-30T10:09:34.291695Z",
     "shell.execute_reply": "2025-04-30T10:09:34.290513Z"
    }
   },
   "outputs": [],
   "source": [
    "data.folder <- \"data/\"\n",
    "samples <- c(adult_LN = \"GSE273746_RAW-Adult-RLT/GSM8436371_tomato_ln\", \n",
    "             adult_mLN = \"GSE273746_RAW-Adult-RLT/GSM8436372_tomato_mln\", \n",
    "             adult_spleen = \"GSE273746_RAW-Adult-RLT/GSM8436373_tomato_sp\", \n",
    "             early_LN = \"GSE285182_RAW-Early-Life-RLT/GSM8697645_early_life_ln\",\n",
    "             early_mLN = \"GSE285182_RAW-Early-Life-RLT/GSM8697646_early_life_mln\",\n",
    "             early_spleen = \"GSE285182_RAW-Early-Life-RLT/GSM8697647_early_life_sp\"\n",
    "            )"
   ]
  },
  {
   "cell_type": "code",
   "execution_count": 15,
   "id": "6f757748-2e5b-4ae7-89e6-1e176605557f",
   "metadata": {
    "execution": {
     "iopub.execute_input": "2025-04-30T10:09:37.366737Z",
     "iopub.status.busy": "2025-04-30T10:09:37.365532Z",
     "iopub.status.idle": "2025-04-30T10:10:31.930350Z",
     "shell.execute_reply": "2025-04-30T10:10:31.928954Z"
    }
   },
   "outputs": [],
   "source": [
    "sro.list <- lapply(1:length(samples), function(i){\n",
    "  counts <- Read10X_h5(paste0(data.folder, samples[i], \"_filtered_feature_bc_matrix.h5\"))\n",
    "  sro <- CreateSeuratObject(\n",
    "    project = names(samples)[i],\n",
    "    counts = counts\n",
    "  )\n",
    "  return(list(sro = sro))\n",
    "})"
   ]
  },
  {
   "cell_type": "code",
   "execution_count": 17,
   "id": "cef76a3e-c686-4f12-bdd1-0a1d4309c6e7",
   "metadata": {
    "execution": {
     "iopub.execute_input": "2025-04-30T10:12:21.865361Z",
     "iopub.status.busy": "2025-04-30T10:12:21.864401Z",
     "iopub.status.idle": "2025-04-30T10:12:29.483470Z",
     "shell.execute_reply": "2025-04-30T10:12:29.482312Z"
    }
   },
   "outputs": [],
   "source": [
    "sro.a <- merge(sro.list[[1]]$sro, y = sapply(sro.list,\"[[\",1)[2:3], \n",
    "             add.cell.ids = names(samples)[1:3], project = \"Gardner.adult\")\n",
    "\n",
    "sro.e <- merge(sro.list[[4]]$sro, y = sapply(sro.list,\"[[\",1)[5:6], \n",
    "             add.cell.ids = names(samples)[4:6], project = \"Gardner.early\")"
   ]
  },
  {
   "cell_type": "code",
   "execution_count": 20,
   "id": "bd405a5e-b650-4594-9815-2429ad22a4d2",
   "metadata": {
    "execution": {
     "iopub.execute_input": "2025-04-30T10:13:15.188688Z",
     "iopub.status.busy": "2025-04-30T10:13:15.187733Z",
     "iopub.status.idle": "2025-04-30T10:13:16.086477Z",
     "shell.execute_reply": "2025-04-30T10:13:16.085369Z"
    }
   },
   "outputs": [],
   "source": [
    "sro.a$sample <- sro.a$orig.ident\n",
    "sro.a$tissue <- stringr::str_split_i(sro.a$sample, \"_\", i=2)\n",
    "sro.a$age <- stringr::str_split_i(sro.a$sample, \"_\", i=1)\n",
    "sro.a <- PercentageFeatureSet(sro.a, pattern = \"^mt-\", col.name = \"MtFrac_RNA\")\n",
    "\n",
    "sro.e$sample <- sro.e$orig.ident\n",
    "sro.e$tissue <- stringr::str_split_i(sro.e$sample, \"_\", i=2)\n",
    "sro.e$age <- stringr::str_split_i(sro.e$sample, \"_\", i=1)\n",
    "sro.e <- PercentageFeatureSet(sro.e, pattern = \"^mt-\", col.name = \"MtFrac_RNA\")"
   ]
  },
  {
   "cell_type": "markdown",
   "id": "329a989f-d737-4f36-a85c-e8177f829c0a",
   "metadata": {},
   "source": [
    "Adult RLT preprocessing\n",
    "Cells were filtered out if they met any of the following criteria: \n",
    "- \\> 5% mitochondrial reads,\n",
    "- \\> 8,000 unique genes, and \\> 60,000 total reads.\n",
    "- The total cell counts sequenced are as follows: 20,629 (LN), 4,609 (mLN), 14,847 (spleen). The total cells postquality-control (QC) are as follows: 19,642 (LN), 4,135 (mLN), 13,222 (spleen).\n",
    "\n",
    "Early-life RLT preprocessing\n",
    "Cells were filtered out if they met any of the following criteria: \n",
    "- \\>5% mitochondrial reads,\n",
    "- \\>5,500 unique genes, and \\>35,000 total reads.\n",
    "- The total cell counts sequenced are as follows: 17,975 (LN), 13,482 (mLN), 27,642 (spleen). The total cells post-QC are as follows: 14,682 (LN), 11,428 (mLN), 22,408 (spleen)."
   ]
  },
  {
   "cell_type": "code",
   "execution_count": 28,
   "id": "6c84f125-3a74-4494-a9c8-b680c834c7a5",
   "metadata": {
    "execution": {
     "iopub.execute_input": "2025-04-30T11:19:35.119061Z",
     "iopub.status.busy": "2025-04-30T11:19:35.118022Z",
     "iopub.status.idle": "2025-04-30T11:19:35.129750Z",
     "shell.execute_reply": "2025-04-30T11:19:35.128764Z"
    }
   },
   "outputs": [],
   "source": [
    "thr.a <- data.frame(nc.max = 60000, nf.max = 8000, \n",
    "                  mp.max = 5)\n",
    "\n",
    "thr.e <- data.frame(nc.max = 35000, nf.max = 5500, \n",
    "                  mp.max = 5)"
   ]
  },
  {
   "cell_type": "code",
   "execution_count": 25,
   "id": "f643991c-c38f-45f0-b2f9-08c8aba709f6",
   "metadata": {
    "execution": {
     "iopub.execute_input": "2025-04-30T10:17:03.527681Z",
     "iopub.status.busy": "2025-04-30T10:17:03.526680Z",
     "iopub.status.idle": "2025-04-30T10:17:03.538734Z",
     "shell.execute_reply": "2025-04-30T10:17:03.537826Z"
    }
   },
   "outputs": [
    {
     "data": {
      "text/html": [
       "59099"
      ],
      "text/latex": [
       "59099"
      ],
      "text/markdown": [
       "59099"
      ],
      "text/plain": [
       "[1] 59099"
      ]
     },
     "metadata": {},
     "output_type": "display_data"
    }
   ],
   "source": [
    "17975+13482+27642"
   ]
  },
  {
   "cell_type": "code",
   "execution_count": 26,
   "id": "74af1de7-c81e-48de-af2e-aa0d695493f1",
   "metadata": {
    "execution": {
     "iopub.execute_input": "2025-04-30T10:17:15.064605Z",
     "iopub.status.busy": "2025-04-30T10:17:15.063652Z",
     "iopub.status.idle": "2025-04-30T10:17:15.075324Z",
     "shell.execute_reply": "2025-04-30T10:17:15.074384Z"
    }
   },
   "outputs": [
    {
     "data": {
      "text/html": [
       "48518"
      ],
      "text/latex": [
       "48518"
      ],
      "text/markdown": [
       "48518"
      ],
      "text/plain": [
       "[1] 48518"
      ]
     },
     "metadata": {},
     "output_type": "display_data"
    }
   ],
   "source": [
    "14682+11428+22408"
   ]
  },
  {
   "cell_type": "code",
   "execution_count": 29,
   "id": "296ae260-8f3b-4d69-b4ef-d9bdc0d7e5a9",
   "metadata": {
    "execution": {
     "iopub.execute_input": "2025-04-30T11:19:50.397982Z",
     "iopub.status.busy": "2025-04-30T11:19:50.397000Z",
     "iopub.status.idle": "2025-04-30T11:19:50.438523Z",
     "shell.execute_reply": "2025-04-30T11:19:50.437527Z"
    }
   },
   "outputs": [
    {
     "data": {
      "text/plain": [
       "cell.discard.a\n",
       "FALSE  TRUE \n",
       "38409  1676 "
      ]
     },
     "metadata": {},
     "output_type": "display_data"
    },
    {
     "data": {
      "text/plain": [
       "cell.discard.e\n",
       "FALSE  TRUE \n",
       "52351  6748 "
      ]
     },
     "metadata": {},
     "output_type": "display_data"
    }
   ],
   "source": [
    "cell.discard.a <- sro.a$nCount_RNA > thr.a$nc.max |\n",
    "  sro.a$nFeature_RNA > thr.a$nf.max |\n",
    "  sro.a$MtFrac_RNA > thr.a$mp.max\n",
    "table(cell.discard.a)\n",
    "\n",
    "cell.discard.e <- sro.e$nCount_RNA > thr.e$nc.max |\n",
    "  sro.e$nFeature_RNA > thr.e$nf.max |\n",
    "  sro.e$MtFrac_RNA > thr.e$mp.max\n",
    "table(cell.discard.e)\n",
    "\n",
    "# cell.discard.a\n",
    "# FALSE  TRUE \n",
    "# 38409  1676 \n",
    "# cell.discard.e\n",
    "# FALSE  TRUE \n",
    "# 52351  6748 "
   ]
  },
  {
   "cell_type": "code",
   "execution_count": 60,
   "id": "8dab1222-2ba4-4e2e-b733-8885cd3cbe1d",
   "metadata": {
    "execution": {
     "iopub.execute_input": "2025-04-30T11:28:27.663403Z",
     "iopub.status.busy": "2025-04-30T11:28:27.662409Z",
     "iopub.status.idle": "2025-04-30T11:28:29.954958Z",
     "shell.execute_reply": "2025-04-30T11:28:29.953954Z"
    }
   },
   "outputs": [
    {
     "name": "stderr",
     "output_type": "stream",
     "text": [
      "Warning message in dir.create(\"plots/Seurat/QC\", recursive = T):\n",
      "“'plots/Seurat/QC' already exists”\n"
     ]
    },
    {
     "data": {
      "text/plain": [
       "[[1]]\n",
       "\n",
       "[[2]]\n",
       "\n",
       "[[3]]\n",
       "\n",
       "[[4]]\n",
       "\n",
       "[[5]]\n"
      ]
     },
     "metadata": {},
     "output_type": "display_data"
    },
    {
     "data": {
      "text/html": [
       "<strong>pdf:</strong> 2"
      ],
      "text/latex": [
       "\\textbf{pdf:} 2"
      ],
      "text/markdown": [
       "**pdf:** 2"
      ],
      "text/plain": [
       "pdf \n",
       "  2 "
      ]
     },
     "metadata": {},
     "output_type": "display_data"
    }
   ],
   "source": [
    "Idents(sro.a) <- sro.a$sample\n",
    "dir.create(\"plots/Seurat/QC\", recursive = T)\n",
    "pdf(\"plots/Seurat/QC/violin-adult-sample-RNA-QC.pdf\", width = 8, height = 6)\n",
    "plot.all.QC(sro.a, ident = \"sample\", thr = thr.a)\n",
    "dev.off()"
   ]
  },
  {
   "cell_type": "code",
   "execution_count": 61,
   "id": "2d0487a1-743a-43cc-aa7b-795423f20069",
   "metadata": {
    "execution": {
     "iopub.execute_input": "2025-04-30T11:28:29.957300Z",
     "iopub.status.busy": "2025-04-30T11:28:29.956506Z",
     "iopub.status.idle": "2025-04-30T11:28:33.008366Z",
     "shell.execute_reply": "2025-04-30T11:28:33.007209Z"
    }
   },
   "outputs": [
    {
     "name": "stderr",
     "output_type": "stream",
     "text": [
      "Warning message in dir.create(\"plots/Seurat/QC\", recursive = T):\n",
      "“'plots/Seurat/QC' already exists”\n"
     ]
    },
    {
     "data": {
      "text/plain": [
       "[[1]]\n",
       "\n",
       "[[2]]\n",
       "\n",
       "[[3]]\n",
       "\n",
       "[[4]]\n",
       "\n",
       "[[5]]\n"
      ]
     },
     "metadata": {},
     "output_type": "display_data"
    },
    {
     "data": {
      "text/html": [
       "<strong>pdf:</strong> 2"
      ],
      "text/latex": [
       "\\textbf{pdf:} 2"
      ],
      "text/markdown": [
       "**pdf:** 2"
      ],
      "text/plain": [
       "pdf \n",
       "  2 "
      ]
     },
     "metadata": {},
     "output_type": "display_data"
    }
   ],
   "source": [
    "Idents(sro.e) <- sro.e$sample\n",
    "dir.create(\"plots/Seurat/QC\", recursive = T)\n",
    "pdf(\"plots/Seurat/QC/violin-early-sample-RNA-QC.pdf\", width = 8, height = 6)\n",
    "plot.all.QC(sro.e, ident = \"sample\", thr = thr.e)\n",
    "dev.off()"
   ]
  },
  {
   "cell_type": "code",
   "execution_count": 63,
   "id": "6173099c-1466-446a-b927-7b9bf9cbf40e",
   "metadata": {
    "execution": {
     "iopub.execute_input": "2025-04-30T11:31:12.254190Z",
     "iopub.status.busy": "2025-04-30T11:31:12.253161Z",
     "iopub.status.idle": "2025-04-30T11:37:13.929961Z",
     "shell.execute_reply": "2025-04-30T11:37:13.927526Z"
    }
   },
   "outputs": [],
   "source": [
    "# sro <- sro[, !cell.discard] # not run here\n",
    "write.csv(sro.a@meta.data, file = \"Seurat/adult-initial-meta-data.csv\")\n",
    "saveRDS(sro.a, file = \"Seurat/adult-initial-SRO.rds\")\n",
    "\n",
    "write.csv(sro.e@meta.data, file = \"Seurat/early-initial-meta-data.csv\")\n",
    "saveRDS(sro.e, file = \"Seurat/early-initial-SRO.rds\")"
   ]
  },
  {
   "cell_type": "markdown",
   "id": "081b5c38-b1a1-4d87-8ab3-3fcc0db7dadc",
   "metadata": {},
   "source": [
    "# RNA analysis"
   ]
  },
  {
   "cell_type": "code",
   "execution_count": 4,
   "id": "6b1e0cc5-48d0-480d-aaa5-7c6cf54833ec",
   "metadata": {
    "execution": {
     "iopub.execute_input": "2025-05-14T18:40:42.434250Z",
     "iopub.status.busy": "2025-05-14T18:40:42.432924Z",
     "iopub.status.idle": "2025-05-14T18:40:42.452901Z",
     "shell.execute_reply": "2025-05-14T18:40:42.451908Z"
    }
   },
   "outputs": [
    {
     "name": "stderr",
     "output_type": "stream",
     "text": [
      "Warning message in dir.create(pref.sro.a):\n",
      "“'Seurat/adult' already exists”\n",
      "Warning message in dir.create(pref.p.sro.a):\n",
      "“'plots/Seurat/adult' already exists”\n",
      "Warning message in dir.create(pref.sro.e):\n",
      "“'Seurat/early' already exists”\n",
      "Warning message in dir.create(pref.p.sro.e):\n",
      "“'plots/Seurat/early' already exists”\n"
     ]
    }
   ],
   "source": [
    "pref.sro.a <- 'Seurat/adult/'; pref.p.sro.a <- 'plots/Seurat/adult/'\n",
    "dir.create(pref.sro.a); dir.create(pref.p.sro.a)\n",
    "pref.sro.e <- 'Seurat/early/'; pref.p.sro.e <- 'plots/Seurat/early/'\n",
    "dir.create(pref.sro.e); dir.create(pref.p.sro.e)"
   ]
  },
  {
   "cell_type": "code",
   "execution_count": null,
   "id": "ef500ac3-bae7-48a0-89f4-db5c65b07a3c",
   "metadata": {},
   "outputs": [],
   "source": [
    "# # 2. RNA analysis ####\n",
    "# sro.a <- readRDS(paste0('Seurat/adult-initial-SRO.rds'))\n",
    "# sro.a <- sro.a[, !cell.discard.a]\n",
    "\n",
    "# sro.e <- readRDS(paste0('Seurat/early-initial-SRO.rds'))\n",
    "# sro.e <- sro.e[, !cell.discard.e]"
   ]
  },
  {
   "cell_type": "code",
   "execution_count": 98,
   "id": "a035239d-c64b-4614-8d4f-40af04679bad",
   "metadata": {
    "execution": {
     "iopub.execute_input": "2025-04-30T18:04:43.856655Z",
     "iopub.status.busy": "2025-04-30T18:04:43.855653Z",
     "iopub.status.idle": "2025-04-30T18:04:44.068536Z",
     "shell.execute_reply": "2025-04-30T18:04:44.067346Z"
    }
   },
   "outputs": [],
   "source": [
    "obs.a <- read.csv(\"data/GSE273746_adata_obs.csv\", row.names = 1)\n",
    "obs.e <- read.csv(\"data/GSE285182_adata_obs.csv\", row.names = 1)"
   ]
  },
  {
   "cell_type": "code",
   "execution_count": 94,
   "id": "5966ddd5-50df-4cdb-9d7e-c464272bdd98",
   "metadata": {
    "execution": {
     "iopub.execute_input": "2025-04-30T18:04:07.024315Z",
     "iopub.status.busy": "2025-04-30T18:04:07.022971Z",
     "iopub.status.idle": "2025-04-30T18:04:07.063012Z",
     "shell.execute_reply": "2025-04-30T18:04:07.061828Z"
    }
   },
   "outputs": [],
   "source": [
    "sro.a$barcode <- stringr::str_split_i(rownames(sro.a@meta.data), \"_\", 3)\n",
    "sro.a$paper.annotations <- obs.a[sro.a$barcode, ]$final_cell_type"
   ]
  },
  {
   "cell_type": "code",
   "execution_count": 122,
   "id": "410dc0ef-e4f6-49eb-9b7e-5b241380be18",
   "metadata": {
    "execution": {
     "iopub.execute_input": "2025-04-30T18:12:18.734978Z",
     "iopub.status.busy": "2025-04-30T18:12:18.733316Z",
     "iopub.status.idle": "2025-04-30T18:12:18.762185Z",
     "shell.execute_reply": "2025-04-30T18:12:18.760441Z"
    }
   },
   "outputs": [
    {
     "data": {
      "text/plain": [
       "\n",
       "FALSE  TRUE \n",
       " 2768 35641 "
      ]
     },
     "metadata": {},
     "output_type": "display_data"
    }
   ],
   "source": [
    "table(sro.a$barcode %in% rownames(obs.a))"
   ]
  },
  {
   "cell_type": "code",
   "execution_count": 119,
   "id": "22653302-c67e-48f8-a2f6-c92961364666",
   "metadata": {
    "execution": {
     "iopub.execute_input": "2025-04-30T18:11:32.957677Z",
     "iopub.status.busy": "2025-04-30T18:11:32.956166Z",
     "iopub.status.idle": "2025-04-30T18:11:36.460788Z",
     "shell.execute_reply": "2025-04-30T18:11:36.458086Z"
    }
   },
   "outputs": [],
   "source": [
    "sro.e$barcode <- stringr::str_split_i(rownames(sro.e@meta.data), \"_\", 3)\n",
    "sro.e$paper.clusters <- obs.e[sro.e$barcode, ]$leiden"
   ]
  },
  {
   "cell_type": "code",
   "execution_count": 121,
   "id": "61981ff0-b999-42dc-a983-8af4c1690987",
   "metadata": {
    "execution": {
     "iopub.execute_input": "2025-04-30T18:11:58.501349Z",
     "iopub.status.busy": "2025-04-30T18:11:58.499164Z",
     "iopub.status.idle": "2025-04-30T18:11:58.532720Z",
     "shell.execute_reply": "2025-04-30T18:11:58.530545Z"
    }
   },
   "outputs": [
    {
     "data": {
      "text/plain": [
       "\n",
       "FALSE  TRUE \n",
       "38350 14001 "
      ]
     },
     "metadata": {},
     "output_type": "display_data"
    }
   ],
   "source": [
    "table(sro.e$barcode %in% rownames(obs.e))"
   ]
  },
  {
   "cell_type": "code",
   "execution_count": 120,
   "id": "cec02c7d-f6b5-4ce8-b85c-d0822d74e0ff",
   "metadata": {
    "execution": {
     "iopub.execute_input": "2025-04-30T18:11:44.820000Z",
     "iopub.status.busy": "2025-04-30T18:11:44.817651Z",
     "iopub.status.idle": "2025-04-30T18:11:44.848208Z",
     "shell.execute_reply": "2025-04-30T18:11:44.846552Z"
    }
   },
   "outputs": [
    {
     "data": {
      "text/plain": [
       "\n",
       "    0     1     2     3     4     5     6     7     9    10    11    12    14 \n",
       " 2499  2107  1970  1101  1071   915   882   602   523   498   441   374   324 \n",
       "   15    16    17    18  <NA> \n",
       "  312   283   121    57 38271 "
      ]
     },
     "metadata": {},
     "output_type": "display_data"
    }
   ],
   "source": [
    "table(sro.e$paper.clusters, useNA='ifany')"
   ]
  },
  {
   "cell_type": "markdown",
   "id": "4314fb81-21f2-4132-befb-887b445d282a",
   "metadata": {},
   "source": [
    "## adult and early life"
   ]
  },
  {
   "cell_type": "code",
   "execution_count": 78,
   "id": "ca3a46a1-f167-4fff-8267-e8df29fafd38",
   "metadata": {
    "execution": {
     "iopub.execute_input": "2025-04-30T17:47:07.778503Z",
     "iopub.status.busy": "2025-04-30T17:47:07.777428Z",
     "iopub.status.idle": "2025-04-30T17:47:07.789673Z",
     "shell.execute_reply": "2025-04-30T17:47:07.788577Z"
    }
   },
   "outputs": [],
   "source": [
    "# sro.input <- sro.a\n",
    "# pref.sro.input <- pref.sro.a\n",
    "# pref.p.sro.input <- pref.p.sro.a"
   ]
  },
  {
   "cell_type": "code",
   "execution_count": 132,
   "id": "1395e6c8-b134-42b8-9c1f-d23f1b63f24e",
   "metadata": {
    "execution": {
     "iopub.execute_input": "2025-04-30T18:27:19.721575Z",
     "iopub.status.busy": "2025-04-30T18:27:19.720198Z",
     "iopub.status.idle": "2025-04-30T18:27:19.738488Z",
     "shell.execute_reply": "2025-04-30T18:27:19.736858Z"
    }
   },
   "outputs": [],
   "source": [
    "sro.input <- sro.e\n",
    "pref.sro.input <- pref.sro.e\n",
    "pref.p.sro.input <- pref.p.sro.e"
   ]
  },
  {
   "cell_type": "code",
   "execution_count": 133,
   "id": "c4a33733-e473-4f79-b236-863b3ea4222d",
   "metadata": {
    "execution": {
     "iopub.execute_input": "2025-04-30T18:27:21.166382Z",
     "iopub.status.busy": "2025-04-30T18:27:21.164875Z",
     "iopub.status.idle": "2025-04-30T18:32:37.272912Z",
     "shell.execute_reply": "2025-04-30T18:32:37.271749Z"
    },
    "scrolled": true
   },
   "outputs": [
    {
     "name": "stderr",
     "output_type": "stream",
     "text": [
      "Centering and scaling data matrix\n",
      "\n",
      "PC_ 1 \n",
      "Positive:  Tmem176b, Tmem176a, Bhlhe40, S100a4, Fcer1g, Dscam, Kit, Hmgn3, Rora, Arhgef28 \n",
      "\t   Plcb4, Pxdc1, Ern1, Dgat1, Cntn1, Traf1, Cdkn1a, Klrb1b, Mpp7, Ell2 \n",
      "\t   Odc1, Ptms, Cd82, Gem, Maff, Zbtb46, Gadd45b, Fam110a, Ckb, Rasl11a \n",
      "Negative:  Rpl12, Cd3d, Inpp4b, Cd2, Gramd3, Satb1, Ablim1, Cd3g, Ms4a4b, Gm2682 \n",
      "\t   Cd3e, Cmah, Gimap6, Arhgap15, Lef1, Trac, Scml4, Themis, Bach2, Pde3b \n",
      "\t   Rps3, Ptprc, Foxp1, Skap1, S1pr1, Rps20, Rpl13a, Aff3, Cd28, Coro1a \n",
      "PC_ 2 \n",
      "Positive:  Cd79a, Ebf1, Igkc, Ly6d, Ms4a1, Cd79b, Syk, Bank1, Mef2c, Cd74 \n",
      "\t   Napsa, Pax5, Ighm, Fcrla, Blnk, Ifi30, Wdfy4, Iglc3, H2-Ab1, Ctsh \n",
      "\t   Unc93b1, Iglc2, Pkig, Fcmr, H2-Aa, Mzb1, H2-Eb1, Btk, Ighd, Siglecg \n",
      "Negative:  Itk, Emb, Trbc2, Fyb, Camk4, Skap1, Fxyd5, Tnik, Tcf7, Ms4a4b \n",
      "\t   Ptpn22, Txk, Utrn, Cd3g, Cd3d, Prkch, Il7r, Cd3e, Hcst, Gm2682 \n",
      "\t   Zc3hav1, Ppm1h, Tmsb10, Gm56906, Tox, Vps37b, Lef1, Trac, Ms4a6b, Saraf \n",
      "PC_ 3 \n",
      "Positive:  Rpl41, Ppia, Rpsa, Rps27a, Rpl11, Rplp0, Rps5, Rps8, Rpl19, Rpl28 \n",
      "\t   Rpl21, Rps3a1, Rps2, Rpl13, Rps4x, Rps19, Actb, Fau, Rpl32, Rps11 \n",
      "\t   Rpl15, Rpl26, Rpl9, Tmsb4x, Rpl14, Rpl6, Rps26, Rpl37, Rpl27a, Rpl3 \n",
      "Negative:  Arhgap15, Dock2, Malat1, Macf1, Foxp1, Bach2, Zbtb20, Ssh2, Ankrd11, Ripor2 \n",
      "\t   Lncpint, Sik3, Tut4, Runx1, Hivep2, Tnrc6b, Akap13, Pan3, Elmo1, Chd2 \n",
      "\t   Zeb1, Aff1, Tcf12, Aff3, Nsd3, Sipa1l1, Pde3b, Crebbp, Kmt2c, Arih1 \n",
      "PC_ 4 \n",
      "Positive:  Cxcr6, Cebpb, Odc1, Pxdc1, Ern1, Ly6e, Cx3cl1, Ckb, Shisa5, Rasl11a \n",
      "\t   Il22, Mapk10, Rora, Dgat1, Ccdc184, Lmo4, Tgm2, Jund, Cnnm2, Selenop \n",
      "\t   Il23r, Cntn1, Dll1, Clnk, Sdc4, Il7r, Neurl3, Klrb1b, Ier5l, Espn \n",
      "Negative:  Adam23, Tbc1d4, Slc8a1, B3galt1, Grk3, Lrrk1, Nrp2, Nid1, Slc4a8, Tspan33 \n",
      "\t   Nostrin, Sh2d4a, Cxcl16, Specc1, Myo5b, Dpp10, Bcl2a1a, Dock10, Nav1, Ccnd1 \n",
      "\t   I830077J02Rik, Clic4, Sema7a, Crispld2, Mrtfa, Prnp, Prdm16, Anxa3, Mki67, Rogdi \n",
      "PC_ 5 \n",
      "Positive:  Tbc1d4, Adam23, Cxcl16, Anxa3, Slc4a8, Cd63, Fscn1, B3galt1, Cacnb3, Slc22a23 \n",
      "\t   Bcl2a1a, Nostrin, Strip2, Nrp2, Slco5a1, Grk3, Crispld2, Papss2, Myo5b, Dpp10 \n",
      "\t   Apol7c, Nudt17, Slc8a1, Tm4sf5, Prnp, Nid1, Tspan33, Arhgap28, Socs2, Cdcp1 \n",
      "Negative:  Ly6e, Ptma, Ptprcap, Cd79b, Cd79a, Mef2c, Jund, Ms4a1, Cd37, Bank1 \n",
      "\t   Ebf1, Ly6d, Pax5, H3f3a, D17H6S56E-5, Serp1, Lyn, Igkc, Ighm, Ralgps2 \n",
      "\t   Fcrla, Iglc3, Pclaf, Hmgb1, Cerk, Blnk, Serinc3, Fcmr, Clic1, Iglc2 \n",
      "\n",
      "Computing nearest neighbor graph\n",
      "\n",
      "Computing SNN\n",
      "\n"
     ]
    },
    {
     "name": "stdout",
     "output_type": "stream",
     "text": [
      "Modularity Optimizer version 1.3.0 by Ludo Waltman and Nees Jan van Eck\n",
      "\n",
      "Number of nodes: 52351\n",
      "Number of edges: 2804511\n",
      "\n",
      "Running Louvain algorithm...\n",
      "Maximum modularity in 10 random starts: 0.9611\n",
      "Number of communities: 18\n",
      "Elapsed time: 28 seconds\n"
     ]
    },
    {
     "name": "stderr",
     "output_type": "stream",
     "text": [
      "Warning message:\n",
      "“UNRELIABLE VALUE: One of the ‘future.apply’ iterations (‘future_lapply-1’) unexpectedly generated random numbers without declaring so. There is a risk that those random numbers are not statistically sound and the overall results might be invalid. To fix this, specify 'future.seed=TRUE'. This ensures that proper, parallel-safe random numbers are produced via the L'Ecuyer-CMRG method. To disable this check, use 'future.seed = NULL', or set option 'future.rng.onMisuse' to \"ignore\".”\n"
     ]
    },
    {
     "name": "stdout",
     "output_type": "stream",
     "text": [
      "Modularity Optimizer version 1.3.0 by Ludo Waltman and Nees Jan van Eck\n",
      "\n",
      "Number of nodes: 52351\n",
      "Number of edges: 2804511\n",
      "\n",
      "Running Louvain algorithm...\n",
      "Maximum modularity in 10 random starts: 0.9395\n",
      "Number of communities: 24\n",
      "Elapsed time: 25 seconds\n"
     ]
    },
    {
     "name": "stderr",
     "output_type": "stream",
     "text": [
      "Warning message:\n",
      "“UNRELIABLE VALUE: One of the ‘future.apply’ iterations (‘future_lapply-2’) unexpectedly generated random numbers without declaring so. There is a risk that those random numbers are not statistically sound and the overall results might be invalid. To fix this, specify 'future.seed=TRUE'. This ensures that proper, parallel-safe random numbers are produced via the L'Ecuyer-CMRG method. To disable this check, use 'future.seed = NULL', or set option 'future.rng.onMisuse' to \"ignore\".”\n"
     ]
    },
    {
     "name": "stdout",
     "output_type": "stream",
     "text": [
      "Modularity Optimizer version 1.3.0 by Ludo Waltman and Nees Jan van Eck\n",
      "\n",
      "Number of nodes: 52351\n",
      "Number of edges: 2804511\n",
      "\n",
      "Running Louvain algorithm...\n",
      "Maximum modularity in 10 random starts: 0.9192\n",
      "Number of communities: 26\n",
      "Elapsed time: 25 seconds\n"
     ]
    },
    {
     "name": "stderr",
     "output_type": "stream",
     "text": [
      "Warning message:\n",
      "“UNRELIABLE VALUE: One of the ‘future.apply’ iterations (‘future_lapply-3’) unexpectedly generated random numbers without declaring so. There is a risk that those random numbers are not statistically sound and the overall results might be invalid. To fix this, specify 'future.seed=TRUE'. This ensures that proper, parallel-safe random numbers are produced via the L'Ecuyer-CMRG method. To disable this check, use 'future.seed = NULL', or set option 'future.rng.onMisuse' to \"ignore\".”\n"
     ]
    },
    {
     "name": "stdout",
     "output_type": "stream",
     "text": [
      "Modularity Optimizer version 1.3.0 by Ludo Waltman and Nees Jan van Eck\n",
      "\n",
      "Number of nodes: 52351\n",
      "Number of edges: 2804511\n",
      "\n",
      "Running Louvain algorithm...\n",
      "Maximum modularity in 10 random starts: 0.9036\n",
      "Number of communities: 33\n",
      "Elapsed time: 23 seconds\n"
     ]
    },
    {
     "name": "stderr",
     "output_type": "stream",
     "text": [
      "Warning message:\n",
      "“UNRELIABLE VALUE: One of the ‘future.apply’ iterations (‘future_lapply-4’) unexpectedly generated random numbers without declaring so. There is a risk that those random numbers are not statistically sound and the overall results might be invalid. To fix this, specify 'future.seed=TRUE'. This ensures that proper, parallel-safe random numbers are produced via the L'Ecuyer-CMRG method. To disable this check, use 'future.seed = NULL', or set option 'future.rng.onMisuse' to \"ignore\".”\n"
     ]
    },
    {
     "name": "stdout",
     "output_type": "stream",
     "text": [
      "Modularity Optimizer version 1.3.0 by Ludo Waltman and Nees Jan van Eck\n",
      "\n",
      "Number of nodes: 52351\n",
      "Number of edges: 2804511\n",
      "\n",
      "Running Louvain algorithm...\n",
      "Maximum modularity in 10 random starts: 0.8927\n",
      "Number of communities: 37\n",
      "Elapsed time: 24 seconds\n"
     ]
    },
    {
     "name": "stderr",
     "output_type": "stream",
     "text": [
      "Warning message:\n",
      "“UNRELIABLE VALUE: One of the ‘future.apply’ iterations (‘future_lapply-5’) unexpectedly generated random numbers without declaring so. There is a risk that those random numbers are not statistically sound and the overall results might be invalid. To fix this, specify 'future.seed=TRUE'. This ensures that proper, parallel-safe random numbers are produced via the L'Ecuyer-CMRG method. To disable this check, use 'future.seed = NULL', or set option 'future.rng.onMisuse' to \"ignore\".”\n"
     ]
    },
    {
     "name": "stdout",
     "output_type": "stream",
     "text": [
      "Modularity Optimizer version 1.3.0 by Ludo Waltman and Nees Jan van Eck\n",
      "\n",
      "Number of nodes: 52351\n",
      "Number of edges: 2804511\n",
      "\n",
      "Running Louvain algorithm...\n",
      "Maximum modularity in 10 random starts: 0.8824\n",
      "Number of communities: 40\n",
      "Elapsed time: 22 seconds\n"
     ]
    },
    {
     "name": "stderr",
     "output_type": "stream",
     "text": [
      "Warning message:\n",
      "“UNRELIABLE VALUE: One of the ‘future.apply’ iterations (‘future_lapply-6’) unexpectedly generated random numbers without declaring so. There is a risk that those random numbers are not statistically sound and the overall results might be invalid. To fix this, specify 'future.seed=TRUE'. This ensures that proper, parallel-safe random numbers are produced via the L'Ecuyer-CMRG method. To disable this check, use 'future.seed = NULL', or set option 'future.rng.onMisuse' to \"ignore\".”\n"
     ]
    },
    {
     "name": "stdout",
     "output_type": "stream",
     "text": [
      "Modularity Optimizer version 1.3.0 by Ludo Waltman and Nees Jan van Eck\n",
      "\n",
      "Number of nodes: 52351\n",
      "Number of edges: 2804511\n",
      "\n",
      "Running Louvain algorithm...\n",
      "Maximum modularity in 10 random starts: 0.8738\n",
      "Number of communities: 41\n",
      "Elapsed time: 23 seconds\n"
     ]
    },
    {
     "name": "stderr",
     "output_type": "stream",
     "text": [
      "Warning message:\n",
      "“UNRELIABLE VALUE: One of the ‘future.apply’ iterations (‘future_lapply-7’) unexpectedly generated random numbers without declaring so. There is a risk that those random numbers are not statistically sound and the overall results might be invalid. To fix this, specify 'future.seed=TRUE'. This ensures that proper, parallel-safe random numbers are produced via the L'Ecuyer-CMRG method. To disable this check, use 'future.seed = NULL', or set option 'future.rng.onMisuse' to \"ignore\".”\n"
     ]
    },
    {
     "name": "stdout",
     "output_type": "stream",
     "text": [
      "Modularity Optimizer version 1.3.0 by Ludo Waltman and Nees Jan van Eck\n",
      "\n",
      "Number of nodes: 52351\n",
      "Number of edges: 2804511\n",
      "\n",
      "Running Louvain algorithm...\n",
      "Maximum modularity in 10 random starts: 0.8647\n",
      "Number of communities: 43\n",
      "Elapsed time: 23 seconds\n"
     ]
    },
    {
     "name": "stderr",
     "output_type": "stream",
     "text": [
      "Warning message:\n",
      "“UNRELIABLE VALUE: One of the ‘future.apply’ iterations (‘future_lapply-8’) unexpectedly generated random numbers without declaring so. There is a risk that those random numbers are not statistically sound and the overall results might be invalid. To fix this, specify 'future.seed=TRUE'. This ensures that proper, parallel-safe random numbers are produced via the L'Ecuyer-CMRG method. To disable this check, use 'future.seed = NULL', or set option 'future.rng.onMisuse' to \"ignore\".”\n"
     ]
    },
    {
     "name": "stdout",
     "output_type": "stream",
     "text": [
      "Modularity Optimizer version 1.3.0 by Ludo Waltman and Nees Jan van Eck\n",
      "\n",
      "Number of nodes: 52351\n",
      "Number of edges: 2804511\n",
      "\n",
      "Running Louvain algorithm...\n",
      "Maximum modularity in 10 random starts: 0.8574\n",
      "Number of communities: 46\n",
      "Elapsed time: 22 seconds\n"
     ]
    },
    {
     "name": "stderr",
     "output_type": "stream",
     "text": [
      "Warning message:\n",
      "“UNRELIABLE VALUE: One of the ‘future.apply’ iterations (‘future_lapply-9’) unexpectedly generated random numbers without declaring so. There is a risk that those random numbers are not statistically sound and the overall results might be invalid. To fix this, specify 'future.seed=TRUE'. This ensures that proper, parallel-safe random numbers are produced via the L'Ecuyer-CMRG method. To disable this check, use 'future.seed = NULL', or set option 'future.rng.onMisuse' to \"ignore\".”\n"
     ]
    },
    {
     "name": "stdout",
     "output_type": "stream",
     "text": [
      "Modularity Optimizer version 1.3.0 by Ludo Waltman and Nees Jan van Eck\n",
      "\n",
      "Number of nodes: 52351\n",
      "Number of edges: 2804511\n",
      "\n",
      "Running Louvain algorithm...\n",
      "Maximum modularity in 10 random starts: 0.8500\n",
      "Number of communities: 46\n",
      "Elapsed time: 22 seconds\n"
     ]
    },
    {
     "name": "stderr",
     "output_type": "stream",
     "text": [
      "Warning message:\n",
      "“UNRELIABLE VALUE: One of the ‘future.apply’ iterations (‘future_lapply-10’) unexpectedly generated random numbers without declaring so. There is a risk that those random numbers are not statistically sound and the overall results might be invalid. To fix this, specify 'future.seed=TRUE'. This ensures that proper, parallel-safe random numbers are produced via the L'Ecuyer-CMRG method. To disable this check, use 'future.seed = NULL', or set option 'future.rng.onMisuse' to \"ignore\".”\n",
      "14:32:01 UMAP embedding parameters a = 0.7669 b = 1.223\n",
      "\n",
      "14:32:02 Read 52351 rows and found 30 numeric columns\n",
      "\n",
      "14:32:02 Using Annoy for neighbor search, n_neighbors = 30\n",
      "\n",
      "14:32:02 Building Annoy index with metric = cosine, n_trees = 50\n",
      "\n",
      "0%   10   20   30   40   50   60   70   80   90   100%\n",
      "\n",
      "[----|----|----|----|----|----|----|----|----|----|\n",
      "\n",
      "*\n",
      "*\n",
      "*\n",
      "*\n",
      "*\n",
      "*\n",
      "*\n",
      "*\n",
      "*\n",
      "*\n",
      "*\n",
      "*\n",
      "*\n",
      "*\n",
      "*\n",
      "*\n",
      "*\n",
      "*\n",
      "*\n",
      "*\n",
      "*\n",
      "*\n",
      "*\n",
      "*\n",
      "*\n",
      "*\n",
      "*\n",
      "*\n",
      "*\n",
      "*\n",
      "*\n",
      "*\n",
      "*\n",
      "*\n",
      "*\n",
      "*\n",
      "*\n",
      "*\n",
      "*\n",
      "*\n",
      "*\n",
      "*\n",
      "*\n",
      "*\n",
      "*\n",
      "*\n",
      "*\n",
      "*\n",
      "*\n",
      "*\n",
      "|\n",
      "\n",
      "14:32:06 Writing NN index file to temp file /tmp/RtmpTWUvFU/file5a4020d8fd9d\n",
      "\n",
      "14:32:06 Searching Annoy index using 16 threads, search_k = 3000\n",
      "\n",
      "14:32:07 Annoy recall = 100%\n",
      "\n",
      "14:32:08 Commencing smooth kNN distance calibration using 16 threads\n",
      " with target n_neighbors = 30\n",
      "\n",
      "14:32:10 Initializing from normalized Laplacian + noise (using irlba)\n",
      "\n",
      "14:32:12 Commencing optimization for 200 epochs, with 2229202 positive edges\n",
      "\n",
      "14:32:12 Using rng type: pcg\n",
      "\n",
      "14:32:37 Optimization finished\n",
      "\n"
     ]
    }
   ],
   "source": [
    "s.genes <- rownames(sro.input)[toupper(rownames(sro.input)) %in% toupper(cc.genes.updated.2019$s.genes)]\n",
    "g2m.genes <- rownames(sro.input)[toupper(rownames(sro.input)) %in% toupper(cc.genes.updated.2019$g2m.genes)]\n",
    "sro.input <- CellCycleScoring(sro.input, s.features = s.genes, g2m.features = g2m.genes, set.ident = F)\n",
    "sro.input$Phase <- gsub(\"G2M\", \"G2/M\", sro.input$Phase)\n",
    "\n",
    "res.list <- seq(0.2, 2, 0.2)\n",
    "cell.count <- rowSums(sro.input@assays$RNA@counts > 0)\n",
    "sro.input <- NormalizeData(sro.input[cell.count > 1, ]) %>%\n",
    "  FindVariableFeatures(selection.method = \"vst\", nfeatures = 5000)\n",
    "sro.input <- ScaleData(sro.input, features = rownames(sro.input)) %>%\n",
    "  RunPCA(features = rownames(sro.input), npcs = 50) %>%\n",
    "  FindNeighbors(dims = 1:30, k.param = 30) %>%\n",
    "  FindClusters(resolution = res.list) %>%\n",
    "  RunUMAP(dims = 1:30, n.neighbors = 30, metric = \"cosine\", min.dist = 0.4, spread = 1)"
   ]
  },
  {
   "cell_type": "code",
   "execution_count": 134,
   "id": "6674fc0b-9203-4e09-b0f6-db4a3dc6640e",
   "metadata": {
    "execution": {
     "iopub.execute_input": "2025-04-30T18:32:37.275401Z",
     "iopub.status.busy": "2025-04-30T18:32:37.274568Z",
     "iopub.status.idle": "2025-04-30T18:44:35.577453Z",
     "shell.execute_reply": "2025-04-30T18:44:35.575052Z"
    }
   },
   "outputs": [],
   "source": [
    "## save res ####\n",
    "write.csv(sro.input@reductions$pca@cell.embeddings, file = paste0(pref.sro.input, \"PCA.csv\"), quote = F)\n",
    "write.csv(sro.input@reductions$umap@cell.embeddings, file = paste0(pref.sro.input, \"UMAP.csv\"), quote = F)\n",
    "write.csv(sro.input@meta.data, file = paste0(pref.sro.input, \"meta-data.csv\"), quote = F)\n",
    "saveRDS(sro.input, file = paste0(pref.sro.input, \"SRO.rds\"))"
   ]
  },
  {
   "cell_type": "code",
   "execution_count": 135,
   "id": "82ed145c-8d9a-4d98-b37f-ed03187bfd47",
   "metadata": {
    "execution": {
     "iopub.execute_input": "2025-04-30T18:44:35.580866Z",
     "iopub.status.busy": "2025-04-30T18:44:35.579799Z",
     "iopub.status.idle": "2025-04-30T18:44:58.648901Z",
     "shell.execute_reply": "2025-04-30T18:44:58.647312Z"
    }
   },
   "outputs": [
    {
     "name": "stderr",
     "output_type": "stream",
     "text": [
      "Warning message in asMethod(object):\n",
      "“sparse->dense coercion: allocating vector of size 10.4 GiB”\n"
     ]
    }
   ],
   "source": [
    "## cellxgene ####\n",
    "unimp.expr <- t(as.matrix(sro.input@assays$RNA$data))\n",
    "unimp.expr.dgC <- as(unimp.expr, \"sparseMatrix\") \n",
    "adata <- AnnData(\n",
    "  X = unimp.expr.dgC,\n",
    "  obs = sro.input@meta.data,\n",
    "  obsm = list(\n",
    "    X_umap = sro.input@reductions$umap@cell.embeddings\n",
    "  )\n",
    ")\n",
    "write_h5ad(adata, paste0(pref.sro.input, \"unimputed-expr.h5ad\"))\n"
   ]
  },
  {
   "cell_type": "markdown",
   "id": "05867064-e9a4-4602-9d95-471070f8478f",
   "metadata": {},
   "source": [
    "## plots"
   ]
  },
  {
   "cell_type": "code",
   "execution_count": 3,
   "id": "07dc9f68-a48a-4e1f-a509-615d9decb2d5",
   "metadata": {
    "execution": {
     "iopub.execute_input": "2025-05-13T00:51:43.959765Z",
     "iopub.status.busy": "2025-05-13T00:51:43.958719Z",
     "iopub.status.idle": "2025-05-13T00:52:47.391772Z",
     "shell.execute_reply": "2025-05-13T00:52:47.389654Z"
    }
   },
   "outputs": [],
   "source": [
    "# 2. RNA analysis ####\n",
    "sro.a <- readRDS(paste0('Seurat/adult/SRO.rds'))"
   ]
  },
  {
   "cell_type": "code",
   "execution_count": 4,
   "id": "a76ffae5-90dc-4f99-863a-97230b918e87",
   "metadata": {
    "execution": {
     "iopub.execute_input": "2025-05-13T00:52:47.394795Z",
     "iopub.status.busy": "2025-05-13T00:52:47.393790Z",
     "iopub.status.idle": "2025-05-13T00:52:47.407423Z",
     "shell.execute_reply": "2025-05-13T00:52:47.406260Z"
    }
   },
   "outputs": [],
   "source": [
    "sro.input <- sro.a\n",
    "pref.sro.input <- pref.sro.a\n",
    "pref.p.sro.input <- pref.p.sro.a"
   ]
  },
  {
   "cell_type": "code",
   "execution_count": 6,
   "id": "db85e2d6-7f19-4aba-b244-1c3befbc42c6",
   "metadata": {
    "execution": {
     "iopub.execute_input": "2025-05-13T00:53:40.803813Z",
     "iopub.status.busy": "2025-05-13T00:53:40.802800Z",
     "iopub.status.idle": "2025-05-13T00:53:43.548000Z",
     "shell.execute_reply": "2025-05-13T00:53:43.546893Z"
    }
   },
   "outputs": [
    {
     "data": {
      "text/plain": [
       "[[1]]\n",
       "\n",
       "[[2]]\n",
       "\n",
       "[[3]]\n",
       "\n",
       "[[4]]\n",
       "\n",
       "[[5]]\n"
      ]
     },
     "metadata": {},
     "output_type": "display_data"
    },
    {
     "data": {
      "text/html": [
       "<strong>pdf:</strong> 2"
      ],
      "text/latex": [
       "\\textbf{pdf:} 2"
      ],
      "text/markdown": [
       "**pdf:** 2"
      ],
      "text/plain": [
       "pdf \n",
       "  2 "
      ]
     },
     "metadata": {},
     "output_type": "display_data"
    }
   ],
   "source": [
    "pdf(paste0(pref.p.sro.input, \"QC/violin-paper.annotations-RNA-QC.pdf\"), width = 16, height = 6)\n",
    "plot.all.QC(sro.input, ident = \"paper.annotations\")\n",
    "dev.off()"
   ]
  },
  {
   "cell_type": "code",
   "execution_count": 136,
   "id": "7b18b9f6-ecfd-4dc0-a6f9-f6e16402da1a",
   "metadata": {
    "execution": {
     "iopub.execute_input": "2025-04-30T18:44:58.651705Z",
     "iopub.status.busy": "2025-04-30T18:44:58.650787Z",
     "iopub.status.idle": "2025-04-30T18:45:53.309168Z",
     "shell.execute_reply": "2025-04-30T18:45:53.307793Z"
    }
   },
   "outputs": [
    {
     "data": {
      "text/plain": [
       "[[1]]\n",
       "\n",
       "[[2]]\n",
       "\n",
       "[[3]]\n",
       "\n",
       "[[4]]\n",
       "\n",
       "[[5]]\n"
      ]
     },
     "metadata": {},
     "output_type": "display_data"
    },
    {
     "data": {
      "text/html": [
       "<strong>pdf:</strong> 2"
      ],
      "text/latex": [
       "\\textbf{pdf:} 2"
      ],
      "text/markdown": [
       "**pdf:** 2"
      ],
      "text/plain": [
       "pdf \n",
       "  2 "
      ]
     },
     "metadata": {},
     "output_type": "display_data"
    },
    {
     "data": {
      "text/html": [
       "<strong>pdf:</strong> 2"
      ],
      "text/latex": [
       "\\textbf{pdf:} 2"
      ],
      "text/markdown": [
       "**pdf:** 2"
      ],
      "text/plain": [
       "pdf \n",
       "  2 "
      ]
     },
     "metadata": {},
     "output_type": "display_data"
    }
   ],
   "source": [
    "## plots ####\n",
    "dir.create(paste0(pref.p.sro.input, 'QC/'), recursive = T)\n",
    "\n",
    "for (res in res.list){\n",
    "  colname <- paste0(\"RNA_snn_res.\", res)\n",
    "  pl <- plot.all.QC(sro.input, ident = colname, col = pal$Clusters_long)\n",
    "  pdf(paste0(pref.p.sro.input, \"QC/violin-QC-\", colname, \".pdf\"), width = 12, height = 6)\n",
    "  for (i in 1:length(pl)){\n",
    "    print(pl[[i]])\n",
    "  }\n",
    "  dev.off()\n",
    "}\n",
    "\n",
    "pdf(paste0(pref.p.sro.input, \"QC/violin-sample-RNA-QC.pdf\"), width = 8, height = 6)\n",
    "plot.all.QC(sro.input, ident = \"sample\")\n",
    "dev.off()\n",
    "\n",
    "pdf(paste0(pref.p.sro.input, \"QC/UMAP-QC.pdf\"), width = 12, height = 10)\n",
    "plot.continuous.value(sro.input, idx = rownames(sro.input@meta.data), vis = sro.input@reductions$umap@cell.embeddings,\n",
    "                      val = sro.input$nCount_RNA, val.name='nCount_RNA', point.size=1)\n",
    "plot.continuous.value(sro.input, idx = rownames(sro.input@meta.data), vis = sro.input@reductions$umap@cell.embeddings,\n",
    "                      val = sro.input$nFeature_RNA, val.name='nFeature_RNA', point.size=1)\n",
    "plot.continuous.value(sro.input, idx = rownames(sro.input@meta.data), vis = sro.input@reductions$umap@cell.embeddings,\n",
    "                      val = sro.input$MtFrac_RNA, val.name='MtFrac_RNA', point.size=1)\n",
    "plot.continuous.value(sro.input, idx = rownames(sro.input@meta.data), vis = sro.input@reductions$umap@cell.embeddings,\n",
    "                      val = sro.input$S.Score, val.name='S.Score', point.size=1)\n",
    "plot.continuous.value(sro.input, idx = rownames(sro.input@meta.data), vis = sro.input@reductions$umap@cell.embeddings,\n",
    "                      val = sro.input$G2M.Score, val.name='G2M.Score', point.size=1)\n",
    "dev.off()"
   ]
  },
  {
   "cell_type": "code",
   "execution_count": 137,
   "id": "85bdea23-64fb-4832-9fc4-f0da361acf71",
   "metadata": {
    "execution": {
     "iopub.execute_input": "2025-04-30T18:45:53.312587Z",
     "iopub.status.busy": "2025-04-30T18:45:53.311504Z",
     "iopub.status.idle": "2025-04-30T18:46:28.392942Z",
     "shell.execute_reply": "2025-04-30T18:46:28.390870Z"
    }
   },
   "outputs": [
    {
     "data": {
      "text/html": [
       "<strong>pdf:</strong> 2"
      ],
      "text/latex": [
       "\\textbf{pdf:} 2"
      ],
      "text/markdown": [
       "**pdf:** 2"
      ],
      "text/plain": [
       "pdf \n",
       "  2 "
      ]
     },
     "metadata": {},
     "output_type": "display_data"
    },
    {
     "data": {
      "text/html": [
       "<strong>pdf:</strong> 2"
      ],
      "text/latex": [
       "\\textbf{pdf:} 2"
      ],
      "text/markdown": [
       "**pdf:** 2"
      ],
      "text/plain": [
       "pdf \n",
       "  2 "
      ]
     },
     "metadata": {},
     "output_type": "display_data"
    },
    {
     "data": {
      "text/html": [
       "<strong>pdf:</strong> 2"
      ],
      "text/latex": [
       "\\textbf{pdf:} 2"
      ],
      "text/markdown": [
       "**pdf:** 2"
      ],
      "text/plain": [
       "pdf \n",
       "  2 "
      ]
     },
     "metadata": {},
     "output_type": "display_data"
    },
    {
     "data": {
      "text/html": [
       "<strong>pdf:</strong> 2"
      ],
      "text/latex": [
       "\\textbf{pdf:} 2"
      ],
      "text/markdown": [
       "**pdf:** 2"
      ],
      "text/plain": [
       "pdf \n",
       "  2 "
      ]
     },
     "metadata": {},
     "output_type": "display_data"
    }
   ],
   "source": [
    "pdf(paste0(pref.p.sro.input, \"UMAP-Clusters.pdf\"), width = 12, height = 10)\n",
    "for (res in res.list){\n",
    "  colname <- paste0(\"RNA_snn_res.\", res)\n",
    "  print(\n",
    "    plot.clusters(sro.input, groups = sro.input@meta.data[[colname]],\n",
    "                  clusters.col = colname, col = pal$Clusters_long,\n",
    "                  label.size = 5, point.size = 0.5,\n",
    "                  pref.C = T)\n",
    "  )\n",
    "}\n",
    "dev.off()\n",
    "\n",
    "pdf(paste0(pref.p.sro.input, \"UMAP-sample.pdf\"), width = 12, height = 10)\n",
    "plot.clusters(sro.input, groups = sro.input$sample, clusters.col = \"sample\",\n",
    "              col = pal$Clusters, label.size = 5, labels = F, point.size = 0.5,\n",
    "              label.pad = 1, pref.C = F)\n",
    "dev.off()\n",
    "\n",
    "pdf(paste0(pref.p.sro.input, \"UMAP-age.pdf\"), width = 12, height = 10)\n",
    "plot.clusters(sro.input, groups = sro.input$age, clusters.col = \"age\",\n",
    "              col = pal$Clusters, label.size = 5, labels = F, point.size = 0.5,\n",
    "              label.pad = 1, pref.C = F)\n",
    "dev.off()\n",
    "\n",
    "pdf(paste0(pref.p.sro.input, \"UMAP-tissue.pdf\"), width = 12, height = 10)\n",
    "plot.clusters(sro.input, groups = sro.input$tissue, clusters.col = \"tissue\",\n",
    "              col = pal$Clusters, label.size = 5, labels = F, point.size = 0.5,\n",
    "              label.pad = 1, pref.C = F)\n",
    "dev.off()\n"
   ]
  },
  {
   "cell_type": "code",
   "execution_count": 138,
   "id": "bc837f3c-8419-4e0a-9718-13958877ec7c",
   "metadata": {
    "execution": {
     "iopub.execute_input": "2025-04-30T18:46:28.398035Z",
     "iopub.status.busy": "2025-04-30T18:46:28.396425Z",
     "iopub.status.idle": "2025-04-30T18:46:28.410942Z",
     "shell.execute_reply": "2025-04-30T18:46:28.409216Z"
    }
   },
   "outputs": [],
   "source": [
    "# for adult\n",
    "# pdf(paste0(pref.p.sro.input, \"UMAP-paper.annotations.pdf\"), width = 12, height = 10)\n",
    "# plot.clusters(sro.input, groups = sro.input$paper.annotations, clusters.col = \"paper.annotations\",\n",
    "#               col = pal$Clusters, label.size = 5, labels = T, point.size = 0.5,\n",
    "#               label.pad = 1, pref.C = F)\n",
    "# dev.off()\n"
   ]
  },
  {
   "cell_type": "code",
   "execution_count": 139,
   "id": "b64675f9-c75d-4027-9037-ffa468f318b4",
   "metadata": {
    "execution": {
     "iopub.execute_input": "2025-04-30T18:46:28.414754Z",
     "iopub.status.busy": "2025-04-30T18:46:28.413425Z",
     "iopub.status.idle": "2025-04-30T18:46:30.067568Z",
     "shell.execute_reply": "2025-04-30T18:46:30.066432Z"
    }
   },
   "outputs": [
    {
     "data": {
      "text/html": [
       "<strong>pdf:</strong> 2"
      ],
      "text/latex": [
       "\\textbf{pdf:} 2"
      ],
      "text/markdown": [
       "**pdf:** 2"
      ],
      "text/plain": [
       "pdf \n",
       "  2 "
      ]
     },
     "metadata": {},
     "output_type": "display_data"
    }
   ],
   "source": [
    "# for child\n",
    "pdf(paste0(pref.p.sro.input, \"UMAP-paper.clusters.pdf\"), width = 12, height = 10)\n",
    "plot.clusters(sro.input, groups = sro.input$paper.clusters, clusters.col = \"paper.clusters\",\n",
    "              col = pal$Clusters, label.size = 5, labels = T, point.size = 0.5,\n",
    "              label.pad = 1, pref.C = F)\n",
    "dev.off()\n"
   ]
  },
  {
   "cell_type": "markdown",
   "id": "c1740420-6684-4be5-ab6b-530b3a87c7d0",
   "metadata": {},
   "source": [
    "# early life"
   ]
  },
  {
   "cell_type": "markdown",
   "id": "012b2689-107b-450b-89d5-d722b0a6df9f",
   "metadata": {},
   "source": [
    "## subcluster"
   ]
  },
  {
   "cell_type": "code",
   "execution_count": 12,
   "id": "ff8d792b-48db-43b0-9599-27009dc21d29",
   "metadata": {
    "execution": {
     "iopub.execute_input": "2025-05-20T15:44:06.522249Z",
     "iopub.status.busy": "2025-05-20T15:44:06.521179Z",
     "iopub.status.idle": "2025-05-20T15:44:06.533942Z",
     "shell.execute_reply": "2025-05-20T15:44:06.532701Z"
    }
   },
   "outputs": [],
   "source": [
    "FindSubCluster.custom <- function(sro, sro.subset, master.res, \n",
    "                                  newcolname.pref,\n",
    "                                  subres.list = seq(0.1, 0.5, 0.1)\n",
    "                                  ){\n",
    "  cell.count <- rowSums(sro.subset@assays$RNA@counts > 0)\n",
    "  sro.subset <- NormalizeData(sro.subset[cell.count > 1, ]) %>%\n",
    "    FindVariableFeatures(selection.method = \"vst\", nfeatures = 5000)\n",
    "  \n",
    "  sro.subset <- ScaleData(sro.subset, features = rownames(sro.subset)) %>%\n",
    "    RunPCA(features = rownames(sro.subset), npcs = 50) %>%\n",
    "    FindNeighbors(dims = 1:30, k.param = 30) %>%\n",
    "    FindClusters(resolution = subres.list) %>%\n",
    "    RunUMAP(dims = 1:30, n.neighbors = 30, metric = \"cosine\", min.dist = 0.4, spread = 1)\n",
    "  \n",
    "  for (res in subres.list){\n",
    "    colname.in.subset <- paste0(\"RNA_snn_res.\", res)\n",
    "    newcolname <- paste0(newcolname.pref, res)\n",
    "    subclusters <- ifelse(test = is.na(sro.subset@meta.data[colnames(sro), colname.in.subset]),\n",
    "                          yes = sro.subset@meta.data[colnames(sro), colname.in.subset],\n",
    "                          no = paste0(\"sub\", sro.subset@meta.data[colnames(sro), colname.in.subset])\n",
    "    )\n",
    "    sro@meta.data[[newcolname]] <- coalesce(subclusters, sro@meta.data[[master.res]])\n",
    "  }\n",
    "  return(sro)\n",
    "}\n"
   ]
  },
  {
   "cell_type": "code",
   "execution_count": 13,
   "id": "ec0139f4-753f-4a77-983f-9e931bc16c91",
   "metadata": {
    "execution": {
     "iopub.execute_input": "2025-05-20T15:44:07.002096Z",
     "iopub.status.busy": "2025-05-20T15:44:07.001259Z",
     "iopub.status.idle": "2025-05-20T15:45:24.684099Z",
     "shell.execute_reply": "2025-05-20T15:45:24.681192Z"
    }
   },
   "outputs": [],
   "source": [
    "pref.sro.a <- 'Seurat/adult/'; pref.p.sro.a <- 'plots/Seurat/adult/'\n",
    "pref.sro.e <- 'Seurat/early/'; pref.p.sro.e <- 'plots/Seurat/early/'\n",
    "\n",
    "sro.e <- readRDS(paste0(pref.sro.e, 'SRO.rds'))"
   ]
  },
  {
   "cell_type": "code",
   "execution_count": 14,
   "id": "bd6f6f83-8da3-4d73-9986-b8b4b4dd9b46",
   "metadata": {
    "execution": {
     "iopub.execute_input": "2025-05-20T15:45:24.687758Z",
     "iopub.status.busy": "2025-05-20T15:45:24.686722Z",
     "iopub.status.idle": "2025-05-20T15:45:24.701978Z",
     "shell.execute_reply": "2025-05-20T15:45:24.700840Z"
    }
   },
   "outputs": [],
   "source": [
    "sro.input <- sro.e\n",
    "pref.sro.input <- pref.sro.e\n",
    "pref.p.sro.input <- pref.p.sro.e"
   ]
  },
  {
   "cell_type": "code",
   "execution_count": 9,
   "id": "5f042732-4536-4ea4-81d8-af1c88b1711e",
   "metadata": {
    "execution": {
     "iopub.execute_input": "2025-05-14T18:43:01.738580Z",
     "iopub.status.busy": "2025-05-14T18:43:01.737452Z",
     "iopub.status.idle": "2025-05-14T18:43:33.136333Z",
     "shell.execute_reply": "2025-05-14T18:43:33.133960Z"
    },
    "scrolled": true
   },
   "outputs": [
    {
     "name": "stderr",
     "output_type": "stream",
     "text": [
      "Centering and scaling data matrix\n",
      "\n",
      "PC_ 1 \n",
      "Positive:  Gpx1, Rps8, Cfp, Taldo1, Rpl8, Rpl3, Rpl14, Ltb, Rps18, Rpl15 \n",
      "\t   Rps27a, Rpl10a, Rps3, Rpl28, Rps3a1, Rpl13, Rps4x, Rps2, Rps11, Rack1 \n",
      "\t   Med30, Rpl32, Ly6e, Rps6, Rpl6, Rpl7, Rpl31, Rpl35a, Oaz1, Rpl9 \n",
      "Negative:  Slc4a8, Anxa3, Samsn1, Slc22a23, Mreg, Tmcc3, Cd63, Asap1, Tbc1d8, Slco5a1 \n",
      "\t   Rabgap1l, Arhgap28, Nlrc5, Tnfrsf4, Tmem123, Trio, Ldb2, Aire, Etv3, Cers6 \n",
      "\t   Asprv1, Sema6d, Mxd1, Malat1, Pakap.1, Rcsd1, Slc6a6, Icosl, Zc3h12c, Arhgap22 \n",
      "PC_ 2 \n",
      "Positive:  Atp1b1, Tmem176b, Gria3, Cntn1, Tmem176a, Mdk, Plek, Cd80, Dpp10, Tmtc2 \n",
      "\t   Tmsb10, Atp8b4, Sdk1, Zfand6, 2310067P03Rik, Gmfg, Tmem132c, Ptma, Fut8, Ly86 \n",
      "\t   S100a6, Nostrin, Nrg1, Sh2d4a, Cdc42ep3, Tspan13, Pde1c, Nme7, Cd37, Slc8a1 \n",
      "Negative:  Mpeg1, Cst3, Dnase1l3, Prdm16, Bst2, ENSMUSG00000095041, Lamp1, Epcam, Tyrobp, Slamf7 \n",
      "\t   Irf8, Pbx1, Atf3, Ucp2, H2az1, Cbfa2t3, Itgb1, Creg1, Ly75, Psmb8 \n",
      "\t   Laptm4b, Sqstm1, Mif, Itga4, Lpin1, Osbpl3, Ftl1, Tnni2, Smpdl3a, Neat1 \n",
      "PC_ 3 \n",
      "Positive:  Calm1, Actb, Cd74, Fabp5, Gapdh, Gpx4, S100a4, Pfn1, Rps19, Ppia \n",
      "\t   Cd63, Psme2, Ftl1, Ctsh, Cox4i1, Bcl2a1b, B2m, Ctsz, Atpif1, Tagln2 \n",
      "\t   Gabarap, Sumo2, Edf1, Tmsb4x, Nans, H2-Eb1, Sri, H2-Aa, Nudt17, Atp6v0e \n",
      "Negative:  Elmo1, Dock2, Itpr1, Ptprc, Macf1, Mbnl1, Foxp1, Cnot6l, Arhgap15, Ssh2 \n",
      "\t   Smyd3, Mycbp2, Inpp4b, Aff3, Ptpn22, Dennd1b, Dennd4a, Ankrd44, Erbin, Tnik \n",
      "\t   Fbxl17, Lyn, Atp8a1, Ripor2, Klrb1b, Runx1, Stk17b, Eif4g3, Arih1, Zbtb20 \n",
      "PC_ 4 \n",
      "Positive:  Pclaf, Stmn1, Kif11, Top2a, Cdk1, Rrm2, Ccna2, Spc24, H1f5, Cdca8 \n",
      "\t   Knl1, Mki67, Lmnb1, Cenpe, Cdca3, Cenpf, Kif15, Bub1, Tpx2, H2ac8 \n",
      "\t   Hmgb2, H1f1, H2ac24, Hmmr, H2ac10, Nusap1, Tyms, Cep55, Sgo2a, Map4k4 \n",
      "Negative:  Btnl2, Dnah12, Rps27, Cpb2, Rps9, Ncam1, Nrg1, Syt1, Ddr2, Pappa2 \n",
      "\t   Rps14, Rpl26, 1700057G04Rik, Rpl11, Gm16685, Rpl37a, Gm47507, Tmsb4x, Eef1a1, Rps23 \n",
      "\t   Rps7, Cd52, Nrn1, Rpl13, Rpl17, Fau, Gm39653, Rpl36, Tmprss11c, Csmd1 \n",
      "PC_ 5 \n",
      "Positive:  Rel, Kdm6b, Tamalin, Fosb, Pim1, Fosl2, Ifrd1, Pak1, Bhlhe40, Fos \n",
      "\t   Gpr132, Pde4b, Sema7a, Nr4a2, Flrt3, Plek, Arf4, Crem, Btg2, Avpi1 \n",
      "\t   Junb, Sik1, Tbc1d4, Slc41a1, Nr4a1, Nfil3, Nfkbie, Srgn, Antxr2, Nfkb1 \n",
      "Negative:  Btnl2, Cpb2, Patl2, Trim69, D130043K22Rik, Terb2, Gm39653, Gm47507, 1700057G04Rik, Tcof1 \n",
      "\t   Kif28, Tubb5, Gm14051, Pde4c, Nfe2l3, Clhc1, Stpg4, Mtif2, Dnah12, Gm45261 \n",
      "\t   Tmprss11c, Nudt15, Lgr5, Nusap1, Mpo, Cx3cr1, Slc4a10, 1700026D11Rik, Ddr2, Birc5 \n",
      "\n",
      "Computing nearest neighbor graph\n",
      "\n",
      "Computing SNN\n",
      "\n"
     ]
    },
    {
     "name": "stdout",
     "output_type": "stream",
     "text": [
      "Modularity Optimizer version 1.3.0 by Ludo Waltman and Nees Jan van Eck\n",
      "\n",
      "Number of nodes: 1942\n",
      "Number of edges: 106513\n",
      "\n",
      "Running Louvain algorithm...\n",
      "Maximum modularity in 10 random starts: 0.9335\n",
      "Number of communities: 4\n",
      "Elapsed time: 0 seconds\n"
     ]
    },
    {
     "name": "stderr",
     "output_type": "stream",
     "text": [
      "Warning message:\n",
      "“UNRELIABLE VALUE: One of the ‘future.apply’ iterations (‘future_lapply-1’) unexpectedly generated random numbers without declaring so. There is a risk that those random numbers are not statistically sound and the overall results might be invalid. To fix this, specify 'future.seed=TRUE'. This ensures that proper, parallel-safe random numbers are produced via the L'Ecuyer-CMRG method. To disable this check, use 'future.seed = NULL', or set option 'future.rng.onMisuse' to \"ignore\".”\n"
     ]
    },
    {
     "name": "stdout",
     "output_type": "stream",
     "text": [
      "Modularity Optimizer version 1.3.0 by Ludo Waltman and Nees Jan van Eck\n",
      "\n",
      "Number of nodes: 1942\n",
      "Number of edges: 106513\n",
      "\n",
      "Running Louvain algorithm...\n",
      "Maximum modularity in 10 random starts: 0.9038\n",
      "Number of communities: 6\n",
      "Elapsed time: 0 seconds\n"
     ]
    },
    {
     "name": "stderr",
     "output_type": "stream",
     "text": [
      "Warning message:\n",
      "“UNRELIABLE VALUE: One of the ‘future.apply’ iterations (‘future_lapply-2’) unexpectedly generated random numbers without declaring so. There is a risk that those random numbers are not statistically sound and the overall results might be invalid. To fix this, specify 'future.seed=TRUE'. This ensures that proper, parallel-safe random numbers are produced via the L'Ecuyer-CMRG method. To disable this check, use 'future.seed = NULL', or set option 'future.rng.onMisuse' to \"ignore\".”\n"
     ]
    },
    {
     "name": "stdout",
     "output_type": "stream",
     "text": [
      "Modularity Optimizer version 1.3.0 by Ludo Waltman and Nees Jan van Eck\n",
      "\n",
      "Number of nodes: 1942\n",
      "Number of edges: 106513\n",
      "\n",
      "Running Louvain algorithm...\n",
      "Maximum modularity in 10 random starts: 0.8762\n",
      "Number of communities: 6\n",
      "Elapsed time: 0 seconds\n"
     ]
    },
    {
     "name": "stderr",
     "output_type": "stream",
     "text": [
      "Warning message:\n",
      "“UNRELIABLE VALUE: One of the ‘future.apply’ iterations (‘future_lapply-3’) unexpectedly generated random numbers without declaring so. There is a risk that those random numbers are not statistically sound and the overall results might be invalid. To fix this, specify 'future.seed=TRUE'. This ensures that proper, parallel-safe random numbers are produced via the L'Ecuyer-CMRG method. To disable this check, use 'future.seed = NULL', or set option 'future.rng.onMisuse' to \"ignore\".”\n"
     ]
    },
    {
     "name": "stdout",
     "output_type": "stream",
     "text": [
      "Modularity Optimizer version 1.3.0 by Ludo Waltman and Nees Jan van Eck\n",
      "\n",
      "Number of nodes: 1942\n",
      "Number of edges: 106513\n",
      "\n",
      "Running Louvain algorithm...\n",
      "Maximum modularity in 10 random starts: 0.8497\n",
      "Number of communities: 6\n",
      "Elapsed time: 0 seconds\n"
     ]
    },
    {
     "name": "stderr",
     "output_type": "stream",
     "text": [
      "Warning message:\n",
      "“UNRELIABLE VALUE: One of the ‘future.apply’ iterations (‘future_lapply-4’) unexpectedly generated random numbers without declaring so. There is a risk that those random numbers are not statistically sound and the overall results might be invalid. To fix this, specify 'future.seed=TRUE'. This ensures that proper, parallel-safe random numbers are produced via the L'Ecuyer-CMRG method. To disable this check, use 'future.seed = NULL', or set option 'future.rng.onMisuse' to \"ignore\".”\n"
     ]
    },
    {
     "name": "stdout",
     "output_type": "stream",
     "text": [
      "Modularity Optimizer version 1.3.0 by Ludo Waltman and Nees Jan van Eck\n",
      "\n",
      "Number of nodes: 1942\n",
      "Number of edges: 106513\n",
      "\n",
      "Running Louvain algorithm...\n",
      "Maximum modularity in 10 random starts: 0.8268\n",
      "Number of communities: 8\n",
      "Elapsed time: 0 seconds\n"
     ]
    },
    {
     "name": "stderr",
     "output_type": "stream",
     "text": [
      "Warning message:\n",
      "“UNRELIABLE VALUE: One of the ‘future.apply’ iterations (‘future_lapply-5’) unexpectedly generated random numbers without declaring so. There is a risk that those random numbers are not statistically sound and the overall results might be invalid. To fix this, specify 'future.seed=TRUE'. This ensures that proper, parallel-safe random numbers are produced via the L'Ecuyer-CMRG method. To disable this check, use 'future.seed = NULL', or set option 'future.rng.onMisuse' to \"ignore\".”\n",
      "Warning message:\n",
      "“The default method for RunUMAP has changed from calling Python UMAP via reticulate to the R-native UWOT using the cosine metric\n",
      "To use Python UMAP via reticulate, set umap.method to 'umap-learn' and metric to 'correlation'\n",
      "This message will be shown once per session”\n",
      "14:43:19 UMAP embedding parameters a = 0.7669 b = 1.223\n",
      "\n",
      "14:43:19 Read 1942 rows and found 30 numeric columns\n",
      "\n",
      "14:43:19 Using Annoy for neighbor search, n_neighbors = 30\n",
      "\n",
      "14:43:19 Building Annoy index with metric = cosine, n_trees = 50\n",
      "\n",
      "0%   10   20   30   40   50   60   70   80   90   100%\n",
      "\n",
      "[----|----|----|----|----|----|----|----|----|----|\n",
      "\n",
      "*\n",
      "*\n",
      "*\n",
      "*\n",
      "*\n",
      "*\n",
      "*\n",
      "*\n",
      "*\n",
      "*\n",
      "*\n",
      "*\n",
      "*\n",
      "*\n",
      "*\n",
      "*\n",
      "*\n",
      "*\n",
      "*\n",
      "*\n",
      "*\n",
      "*\n",
      "*\n",
      "*\n",
      "*\n",
      "*\n",
      "*\n",
      "*\n",
      "*\n",
      "*\n",
      "*\n",
      "*\n",
      "*\n",
      "*\n",
      "*\n",
      "*\n",
      "*\n",
      "*\n",
      "*\n",
      "*\n",
      "*\n",
      "*\n",
      "*\n",
      "*\n",
      "*\n",
      "*\n",
      "*\n",
      "*\n",
      "*\n",
      "*\n",
      "|\n",
      "\n",
      "14:43:19 Writing NN index file to temp file /tmp/RtmpmTuXBh/fileec1c838201856\n",
      "\n",
      "14:43:19 Searching Annoy index using 16 threads, search_k = 3000\n",
      "\n",
      "14:43:19 Annoy recall = 100%\n",
      "\n",
      "14:43:20 Commencing smooth kNN distance calibration using 16 threads\n",
      " with target n_neighbors = 30\n",
      "\n",
      "14:43:21 Initializing from normalized Laplacian + noise (using irlba)\n",
      "\n",
      "14:43:21 Commencing optimization for 500 epochs, with 76254 positive edges\n",
      "\n",
      "14:43:21 Using rng type: pcg\n",
      "\n",
      "14:43:24 Optimization finished\n",
      "\n"
     ]
    }
   ],
   "source": [
    "subres.list <- seq(0.1, 0.5, 0.1)\n",
    "sro.subset <- subset(sro, RNA_snn_res.0.2 == 7)\n",
    "sro.input <- FindSubCluster.custom(sro.input, sro.subset, 'RNA_snn_res.0.2', 'res.0.2_C7_subres.', subres.list)"
   ]
  },
  {
   "cell_type": "code",
   "execution_count": 11,
   "id": "811c9402-e86d-4ca7-8cce-7571e110921b",
   "metadata": {
    "execution": {
     "iopub.execute_input": "2025-05-14T18:43:55.565012Z",
     "iopub.status.busy": "2025-05-14T18:43:55.563890Z",
     "iopub.status.idle": "2025-05-14T18:44:15.962981Z",
     "shell.execute_reply": "2025-05-14T18:44:15.961354Z"
    }
   },
   "outputs": [
    {
     "data": {
      "text/html": [
       "<strong>pdf:</strong> 2"
      ],
      "text/latex": [
       "\\textbf{pdf:} 2"
      ],
      "text/markdown": [
       "**pdf:** 2"
      ],
      "text/plain": [
       "pdf \n",
       "  2 "
      ]
     },
     "metadata": {},
     "output_type": "display_data"
    }
   ],
   "source": [
    "raster_pdf(paste0(pref.p.sro.input, \"UMAP-RNA_snn_res.0.2_subC7.pdf\"), width = 12, height = 10, res = 300)\n",
    "for (subres in subres.list){\n",
    "    group.name <- paste0(\"res.0.2_C7_subres.\", subres)\n",
    "    print(plot.clusters(sro.input, groups = sro.input@meta.data[[group.name]], clusters.col = group.name,\n",
    "              col = pal$Clusters_long, label.size = 5, labels = T,\n",
    "              point.size = 1, label.pad = 1, pref.C = T))\n",
    "}\n",
    "\n",
    "dev.off()"
   ]
  },
  {
   "cell_type": "code",
   "execution_count": 18,
   "id": "f197abb3-1d34-411b-a106-c3c55583cde7",
   "metadata": {
    "execution": {
     "iopub.execute_input": "2025-05-14T19:26:33.200901Z",
     "iopub.status.busy": "2025-05-14T19:26:33.199732Z",
     "iopub.status.idle": "2025-05-14T19:26:33.224735Z",
     "shell.execute_reply": "2025-05-14T19:26:33.223504Z"
    }
   },
   "outputs": [
    {
     "data": {
      "text/plain": [
       "\n",
       "    0     1    10    11    12    13    14    15    16    17     2     3     4 \n",
       "10269  9648   963   664   637   635   498   301   127    86  9471  7443  2238 \n",
       "    5     6     8     9  sub0  sub1  sub2  sub3 \n",
       " 2158  2072  1618  1581   842   542   510    48 "
      ]
     },
     "metadata": {},
     "output_type": "display_data"
    }
   ],
   "source": [
    "table(sro.input$`res.0.2_C7_subres.0.1`)"
   ]
  },
  {
   "cell_type": "code",
   "execution_count": 19,
   "id": "3ad51bf4-d267-471f-851e-ebc100abefcb",
   "metadata": {
    "execution": {
     "iopub.execute_input": "2025-05-14T19:26:40.974380Z",
     "iopub.status.busy": "2025-05-14T19:26:40.973226Z",
     "iopub.status.idle": "2025-05-14T19:26:40.985540Z",
     "shell.execute_reply": "2025-05-14T19:26:40.984104Z"
    }
   },
   "outputs": [],
   "source": [
    "cl.to.anno <- c(\n",
    "    '1' = 'ILC3', \n",
    "    '10' = 'ILC3',\n",
    "    'sub0' = 'eTAC I',\n",
    "    'sub1' = 'eTAC III',\n",
    "    'sub2' = 'eTAC II',\n",
    "    'sub3' = 'Proliferating eTAC'\n",
    ")"
   ]
  },
  {
   "cell_type": "code",
   "execution_count": 23,
   "id": "a5a09f88-0695-4853-939d-9d7277048ade",
   "metadata": {
    "execution": {
     "iopub.execute_input": "2025-05-14T19:27:53.266113Z",
     "iopub.status.busy": "2025-05-14T19:27:53.264735Z",
     "iopub.status.idle": "2025-05-14T19:27:53.283669Z",
     "shell.execute_reply": "2025-05-14T19:27:53.282278Z"
    }
   },
   "outputs": [
    {
     "data": {
      "text/html": [
       "<style>\n",
       ".dl-inline {width: auto; margin:0; padding: 0}\n",
       ".dl-inline>dt, .dl-inline>dd {float: none; width: auto; display: inline-block}\n",
       ".dl-inline>dt::after {content: \":\\0020\"; padding-right: .5ex}\n",
       ".dl-inline>dt:not(:first-of-type) {padding-left: .5ex}\n",
       "</style><dl class=dl-inline><dt>early_LN_AAACCCAAGGCAGTCA-1</dt><dd>'1'</dd><dt>early_LN_AAACCCAAGTAGATCA-1</dt><dd>'0'</dd><dt>early_LN_AAACCCACAATACCCA-1</dt><dd>'0'</dd><dt>early_LN_AAACCCACAGACAAGC-1</dt><dd>'5'</dd><dt>early_LN_AAACCCAGTACAAGTA-1</dt><dd>'0'</dd><dt>early_LN_AAACCCAGTACGCGTC-1</dt><dd>'3'</dd></dl>\n"
      ],
      "text/latex": [
       "\\begin{description*}\n",
       "\\item[early\\textbackslash{}\\_LN\\textbackslash{}\\_AAACCCAAGGCAGTCA-1] '1'\n",
       "\\item[early\\textbackslash{}\\_LN\\textbackslash{}\\_AAACCCAAGTAGATCA-1] '0'\n",
       "\\item[early\\textbackslash{}\\_LN\\textbackslash{}\\_AAACCCACAATACCCA-1] '0'\n",
       "\\item[early\\textbackslash{}\\_LN\\textbackslash{}\\_AAACCCACAGACAAGC-1] '5'\n",
       "\\item[early\\textbackslash{}\\_LN\\textbackslash{}\\_AAACCCAGTACAAGTA-1] '0'\n",
       "\\item[early\\textbackslash{}\\_LN\\textbackslash{}\\_AAACCCAGTACGCGTC-1] '3'\n",
       "\\end{description*}\n"
      ],
      "text/markdown": [
       "early_LN_AAACCCAAGGCAGTCA-1\n",
       ":   '1'early_LN_AAACCCAAGTAGATCA-1\n",
       ":   '0'early_LN_AAACCCACAATACCCA-1\n",
       ":   '0'early_LN_AAACCCACAGACAAGC-1\n",
       ":   '5'early_LN_AAACCCAGTACAAGTA-1\n",
       ":   '0'early_LN_AAACCCAGTACGCGTC-1\n",
       ":   '3'\n",
       "\n"
      ],
      "text/plain": [
       "early_LN_AAACCCAAGGCAGTCA-1 early_LN_AAACCCAAGTAGATCA-1 \n",
       "                        \"1\"                         \"0\" \n",
       "early_LN_AAACCCACAATACCCA-1 early_LN_AAACCCACAGACAAGC-1 \n",
       "                        \"0\"                         \"5\" \n",
       "early_LN_AAACCCAGTACAAGTA-1 early_LN_AAACCCAGTACGCGTC-1 \n",
       "                        \"0\"                         \"3\" "
      ]
     },
     "metadata": {},
     "output_type": "display_data"
    }
   ],
   "source": [
    "head(sro$res.0.2_C7_subres.0.1)"
   ]
  },
  {
   "cell_type": "code",
   "execution_count": 26,
   "id": "3b75920c-5a55-4f99-af5b-ceed5e7e902b",
   "metadata": {
    "execution": {
     "iopub.execute_input": "2025-05-14T19:28:25.832818Z",
     "iopub.status.busy": "2025-05-14T19:28:25.831729Z",
     "iopub.status.idle": "2025-05-14T19:28:25.865109Z",
     "shell.execute_reply": "2025-05-14T19:28:25.863747Z"
    }
   },
   "outputs": [],
   "source": [
    "sro.input$paper.annot <- ifelse(\n",
    "    sro.input$`res.0.2_C7_subres.0.1` %in% names(cl.to.anno),\n",
    "    yes = cl.to.anno[sro.input$`res.0.2_C7_subres.0.1`],\n",
    "    no = 'na'\n",
    ")"
   ]
  },
  {
   "cell_type": "code",
   "execution_count": 28,
   "id": "4c62ca7a-89a6-4b9a-bf51-8ed7e374c13c",
   "metadata": {
    "execution": {
     "iopub.execute_input": "2025-05-14T19:28:47.821032Z",
     "iopub.status.busy": "2025-05-14T19:28:47.820045Z",
     "iopub.status.idle": "2025-05-14T19:28:51.340851Z",
     "shell.execute_reply": "2025-05-14T19:28:51.339712Z"
    }
   },
   "outputs": [
    {
     "data": {
      "text/html": [
       "<strong>pdf:</strong> 2"
      ],
      "text/latex": [
       "\\textbf{pdf:} 2"
      ],
      "text/markdown": [
       "**pdf:** 2"
      ],
      "text/plain": [
       "pdf \n",
       "  2 "
      ]
     },
     "metadata": {},
     "output_type": "display_data"
    }
   ],
   "source": [
    "raster_pdf(paste0(pref.p.sro.input, \"UMAP-paper.annot.pdf\"), width = 12, height = 10, res = 300)\n",
    "group.name <- \"paper.annot\"\n",
    "print(plot.clusters(sro.input, groups = sro.input@meta.data[[group.name]], clusters.col = group.name,\n",
    "          col = pal$Clusters, label.size = 5, labels = T,\n",
    "          point.size = 1, label.pad = 1, pref.C = F))\n",
    "dev.off()"
   ]
  },
  {
   "cell_type": "code",
   "execution_count": 29,
   "id": "da4bd923-0dc5-4a6d-83c8-3fb69d67f8e6",
   "metadata": {
    "execution": {
     "iopub.execute_input": "2025-05-14T19:29:03.237880Z",
     "iopub.status.busy": "2025-05-14T19:29:03.236890Z",
     "iopub.status.idle": "2025-05-14T19:41:03.026777Z",
     "shell.execute_reply": "2025-05-14T19:41:03.024259Z"
    }
   },
   "outputs": [],
   "source": [
    "## save res ####\n",
    "write.csv(sro.input@meta.data, file = paste0(pref.sro.input, \"meta-data.csv\"), quote = F)\n",
    "saveRDS(sro.input, file = paste0(pref.sro.input, \"SRO.rds\"))"
   ]
  },
  {
   "cell_type": "code",
   "execution_count": null,
   "id": "7927620a-970e-4ab7-b22c-d87eff40fb3f",
   "metadata": {},
   "outputs": [],
   "source": []
  },
  {
   "cell_type": "markdown",
   "id": "6683417f-847e-40f5-9f4d-e73fe6272cec",
   "metadata": {},
   "source": [
    "## paper annot"
   ]
  },
  {
   "cell_type": "code",
   "execution_count": 23,
   "id": "e72e3cc2-9422-413a-af59-5f75555cbfa8",
   "metadata": {
    "execution": {
     "iopub.execute_input": "2025-05-20T15:48:50.544567Z",
     "iopub.status.busy": "2025-05-20T15:48:50.543565Z",
     "iopub.status.idle": "2025-05-20T15:48:50.554052Z",
     "shell.execute_reply": "2025-05-20T15:48:50.553059Z"
    }
   },
   "outputs": [],
   "source": [
    "cl.to.annot <- c(\n",
    "  \"0\" = \"LTi\",\n",
    "  \"1\" = \"LTi\",\n",
    "  \"2\" = \"LTi\",\n",
    "  \"3\" = \"LTi\",\n",
    "  \"4\" = \"LTi\",\n",
    "  \"5\" = \"LTi-like ILC\",\n",
    "  \"6\" = \"R-eTAC1\",\n",
    "  \"7\" = \"LTi\",\n",
    "  \"9\" = \"R-eTAC2\",\n",
    "  \"10\" = \"LTi\",\n",
    "  \"11\" = \"R-cDC2\",\n",
    "  \"12\" = \"R-eTAC3\",\n",
    "  \"14\" = \"R-cDC1\",\n",
    "  \"15\" = \"LTi\",\n",
    "  \"16\" = \"R-mDC\",\n",
    "  \"17\" = \"LTi\",\n",
    "  \"18\" = \"LTi\"\n",
    ")\n"
   ]
  },
  {
   "cell_type": "code",
   "execution_count": 17,
   "id": "cc07b539-cbc1-4c46-8527-6ecd9dcaff2f",
   "metadata": {
    "execution": {
     "iopub.execute_input": "2025-05-20T15:47:10.998801Z",
     "iopub.status.busy": "2025-05-20T15:47:10.997887Z",
     "iopub.status.idle": "2025-05-20T15:47:11.014329Z",
     "shell.execute_reply": "2025-05-20T15:47:11.013342Z"
    }
   },
   "outputs": [],
   "source": [
    "sro.input$Cluster.annot <- sro.input$paper.annot"
   ]
  },
  {
   "cell_type": "code",
   "execution_count": 30,
   "id": "852e8f14-1553-4dc6-8d40-6c761466a753",
   "metadata": {
    "execution": {
     "iopub.execute_input": "2025-05-20T15:50:13.509467Z",
     "iopub.status.busy": "2025-05-20T15:50:13.508478Z",
     "iopub.status.idle": "2025-05-20T15:50:13.525674Z",
     "shell.execute_reply": "2025-05-20T15:50:13.524648Z"
    }
   },
   "outputs": [],
   "source": [
    "sro.input$paper.annot <- as.character(cl.to.annot[as.character(sro.input$paper.clusters)])"
   ]
  },
  {
   "cell_type": "code",
   "execution_count": 15,
   "id": "fadb51e0-7002-4041-9d36-3a8f188f50aa",
   "metadata": {
    "execution": {
     "iopub.execute_input": "2025-05-20T15:45:26.954446Z",
     "iopub.status.busy": "2025-05-20T15:45:26.953416Z",
     "iopub.status.idle": "2025-05-20T15:45:29.187572Z",
     "shell.execute_reply": "2025-05-20T15:45:29.186528Z"
    }
   },
   "outputs": [
    {
     "data": {
      "text/html": [
       "<strong>pdf:</strong> 2"
      ],
      "text/latex": [
       "\\textbf{pdf:} 2"
      ],
      "text/markdown": [
       "**pdf:** 2"
      ],
      "text/plain": [
       "pdf \n",
       "  2 "
      ]
     },
     "metadata": {},
     "output_type": "display_data"
    }
   ],
   "source": [
    "# for child\n",
    "pdf(paste0(pref.p.sro.input, \"UMAP-paper.clusters.pdf\"), width = 12, height = 10)\n",
    "plot.clusters(sro.input, groups = sro.input$paper.clusters, clusters.col = \"paper.clusters\",\n",
    "              col = pal$Clusters, label.size = 5, labels = T, point.size = 0.5,\n",
    "              label.pad = 1, pref.C = F)\n",
    "dev.off()\n"
   ]
  },
  {
   "cell_type": "code",
   "execution_count": 18,
   "id": "8bd26cab-621b-42c9-bee1-dcb295fd2a6b",
   "metadata": {
    "execution": {
     "iopub.execute_input": "2025-05-20T15:47:28.686474Z",
     "iopub.status.busy": "2025-05-20T15:47:28.685524Z",
     "iopub.status.idle": "2025-05-20T15:47:30.218146Z",
     "shell.execute_reply": "2025-05-20T15:47:30.217021Z"
    }
   },
   "outputs": [
    {
     "data": {
      "text/html": [
       "<strong>pdf:</strong> 2"
      ],
      "text/latex": [
       "\\textbf{pdf:} 2"
      ],
      "text/markdown": [
       "**pdf:** 2"
      ],
      "text/plain": [
       "pdf \n",
       "  2 "
      ]
     },
     "metadata": {},
     "output_type": "display_data"
    }
   ],
   "source": [
    "# for child\n",
    "pdf(paste0(pref.p.sro.input, \"UMAP-Cluster.annot.pdf\"), width = 12, height = 10)\n",
    "plot.clusters(sro.input, groups = sro.input$Cluster.annot, clusters.col = \"Cluster.annot\",\n",
    "              col = pal$Clusters, label.size = 5, labels = T, point.size = 0.5,\n",
    "              label.pad = 1, pref.C = F)\n",
    "dev.off()\n"
   ]
  },
  {
   "cell_type": "code",
   "execution_count": 33,
   "id": "47dce081-f505-4676-97ad-ca72ba308d78",
   "metadata": {
    "execution": {
     "iopub.execute_input": "2025-05-20T15:50:26.934841Z",
     "iopub.status.busy": "2025-05-20T15:50:26.933878Z",
     "iopub.status.idle": "2025-05-20T15:50:29.139766Z",
     "shell.execute_reply": "2025-05-20T15:50:29.138655Z"
    }
   },
   "outputs": [
    {
     "data": {
      "text/html": [
       "<strong>pdf:</strong> 2"
      ],
      "text/latex": [
       "\\textbf{pdf:} 2"
      ],
      "text/markdown": [
       "**pdf:** 2"
      ],
      "text/plain": [
       "pdf \n",
       "  2 "
      ]
     },
     "metadata": {},
     "output_type": "display_data"
    }
   ],
   "source": [
    "# for child\n",
    "pdf(paste0(pref.p.sro.input, \"UMAP-paper.annot.pdf\"), width = 12, height = 10)\n",
    "plot.clusters(sro.input, groups = sro.input$paper.annot, clusters.col = \"paper.annot\",\n",
    "              col = pal$Clusters, label.size = 5, labels = T, point.size = 0.5,\n",
    "              label.pad = 1, pref.C = F)\n",
    "dev.off()\n"
   ]
  },
  {
   "cell_type": "code",
   "execution_count": 34,
   "id": "8d129911-a3b0-4a30-844e-de025582193e",
   "metadata": {
    "execution": {
     "iopub.execute_input": "2025-05-20T15:54:54.575726Z",
     "iopub.status.busy": "2025-05-20T15:54:54.574351Z",
     "iopub.status.idle": "2025-05-20T16:06:31.346352Z",
     "shell.execute_reply": "2025-05-20T16:06:31.343779Z"
    }
   },
   "outputs": [],
   "source": [
    "## save res ####\n",
    "write.csv(sro.input@meta.data, file = paste0(pref.sro.input, \"meta-data.csv\"), quote = F)\n",
    "saveRDS(sro.input, file = paste0(pref.sro.input, \"SRO.rds\"))"
   ]
  },
  {
   "cell_type": "code",
   "execution_count": null,
   "id": "e40dbcf3-dab4-4109-a464-2cf5fda6b537",
   "metadata": {},
   "outputs": [],
   "source": []
  }
 ],
 "metadata": {
  "kernelspec": {
   "display_name": "R [conda env:multiome]",
   "language": "R",
   "name": "conda-env-multiome-r"
  },
  "language_info": {
   "codemirror_mode": "r",
   "file_extension": ".r",
   "mimetype": "text/x-r-source",
   "name": "R",
   "pygments_lexer": "r",
   "version": "4.3.3"
  }
 },
 "nbformat": 4,
 "nbformat_minor": 5
}
