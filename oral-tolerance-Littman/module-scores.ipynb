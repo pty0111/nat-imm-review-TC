{
 "cells": [
  {
   "cell_type": "code",
   "execution_count": 2,
   "id": "d69d9844-a54c-48a1-b068-7ac5c2343b18",
   "metadata": {
    "execution": {
     "iopub.execute_input": "2025-04-29T18:46:54.163749Z",
     "iopub.status.busy": "2025-04-29T18:46:54.145255Z",
     "iopub.status.idle": "2025-04-29T18:46:54.449254Z",
     "shell.execute_reply": "2025-04-29T18:46:54.448056Z"
    },
    "scrolled": true,
    "tags": []
   },
   "outputs": [],
   "source": [
    "setwd(\"~/0-workspace/CCR7_DC/Prdm16pos-APCs-Littman//\")\n",
    "\n",
    "suppressPackageStartupMessages({\n",
    "library(Seurat) # v4.4\n",
    "library(Matrix)\n",
    "library(future)\n",
    "library(dplyr)\n",
    "library(ggplot2)\n",
    "library(cowplot)\n",
    "library(ComplexHeatmap)\n",
    "library(circlize)\n",
    "library(ggrepel)\n",
    "})\n",
    "set.seed(1)\n",
    "options(future.globals.maxSize = Inf)\n",
    "\n",
    "pal <- readRDS(\"plots/palette.rds\")\n",
    "source(\"../utils.R\")"
   ]
  },
  {
   "cell_type": "code",
   "execution_count": 3,
   "id": "7f3e4f11-b552-4fda-986d-286ce6fb25f8",
   "metadata": {
    "execution": {
     "iopub.execute_input": "2025-04-29T18:46:55.658298Z",
     "iopub.status.busy": "2025-04-29T18:46:55.657361Z",
     "iopub.status.idle": "2025-04-29T18:46:55.669669Z",
     "shell.execute_reply": "2025-04-29T18:46:55.668644Z"
    }
   },
   "outputs": [],
   "source": [
    "cols <- rev(RColorBrewer::brewer.pal(11,\"Spectral\"))\n",
    "transitions <- c(0, 15, 25, 30, 40, 50, 60, 70, 75, 85, 100)\n",
    "scaled_transitions <- scales::rescale(transitions, from = c(0, 100), to = c(0, 1))\n",
    "scale.color <- scale_color_gradientn(colors = cols, values = scaled_transitions)"
   ]
  },
  {
   "cell_type": "code",
   "execution_count": 4,
   "id": "a2f410d3-19bd-4ffb-a656-ffb159988265",
   "metadata": {
    "execution": {
     "iopub.execute_input": "2025-04-29T18:46:58.130863Z",
     "iopub.status.busy": "2025-04-29T18:46:58.129903Z",
     "iopub.status.idle": "2025-04-29T18:46:58.140358Z",
     "shell.execute_reply": "2025-04-29T18:46:58.139339Z"
    },
    "tags": []
   },
   "outputs": [],
   "source": [
    "RenameGenesSeurat <- function(obj, newnames) { # Replace gene names in different slots of a Seurat object. Run this before integration. It only changes obj@assays$RNA@counts, @data and @scale.data.\n",
    "  print(\"Run this before integration. It only changes obj@assays$RNA@counts, @data and @scale.data.\")\n",
    "  RNA <- obj@assays$RNA\n",
    "  \n",
    "  if (nrow(RNA) == length(newnames)) {\n",
    "    if (length(RNA@counts)) RNA@counts@Dimnames[[1]] <- newnames\n",
    "    if (length(RNA@data)) RNA@data@Dimnames[[1]] <- newnames\n",
    "    if (length(RNA@scale.data)) rownames(RNA@scale.data) <- newnames\n",
    "    if (length(RNA@meta.features)) {\n",
    "      RNA@meta.features$prev.names <- rownames(RNA@meta.features)\n",
    "      rownames(RNA@meta.features) <- newnames\n",
    "    }\n",
    "    if (length(RNA@var.features)){\n",
    "      RNA@var.features <- rownames(RNA@meta.features[match(RNA@var.features, RNA@meta.features$prev.names), ])\n",
    "    }\n",
    "  } else {\"Unequal gene sets: nrow(RNA) != nrow(newnames)\"}\n",
    "  obj@assays$RNA <- RNA\n",
    "  return(obj)\n",
    "}"
   ]
  },
  {
   "cell_type": "code",
   "execution_count": 5,
   "id": "f957f638-6e15-4379-b638-077848e87b69",
   "metadata": {
    "execution": {
     "iopub.execute_input": "2025-04-29T18:47:01.928139Z",
     "iopub.status.busy": "2025-04-29T18:47:01.927163Z",
     "iopub.status.idle": "2025-04-29T18:47:01.937922Z",
     "shell.execute_reply": "2025-04-29T18:47:01.936896Z"
    }
   },
   "outputs": [],
   "source": [
    "select.markers <- function(fn, output.dir = 'results/markers/', pairwise = F, fc.thr = 1.5, apv.thr = 0.01, n = Inf, exCC = F, cc.genes = NULL){\n",
    "  markers <- read.csv(file = paste0(output.dir, fn, \".csv\"), header = T, stringsAsFactors = F) %>%\n",
    "    subset(!grepl(\"(^MT-)|(^RPS)|(^RPL)|(^MRPL)|(^MRPS)\", toupper(gene)))\n",
    "  if (exCC){\n",
    "    markers <- markers[!(toupper(markers$gene) %in% toupper(cc.genes)),]\n",
    "  }\n",
    "  if(pairwise){\n",
    "    markers <- subset(markers, abs(avg_log2FC) > log2(fc.thr) & p_val_adj < apv.thr)\n",
    "    markers$cluster <- ifelse(markers$avg_log2FC > 0, \"up\", \"down\")\n",
    "    if(!is.infinite(n)) markers <- markers %>% group_by(cluster) %>% top_n(n, abs(avg_log2FC))\n",
    "    markers <- markers[order(markers$avg_log2FC), ]\n",
    "  } else{\n",
    "    markers <- subset(markers, avg_log2FC > log2(fc.thr) & p_val_adj < apv.thr)\n",
    "    if(any(duplicated(markers$gene))) markers <- markers %>% group_by(gene) %>% top_n(1, avg_log2FC)\n",
    "    if(!is.infinite(n)) markers <- markers %>% group_by(cluster) %>% top_n(n, avg_log2FC)\n",
    "    markers <- markers[order(markers$cluster, -markers$avg_log2FC), ]\n",
    "  }\n",
    "  return(markers)\n",
    "}"
   ]
  },
  {
   "cell_type": "markdown",
   "id": "a93ef6b7-2438-47e5-8120-da2942954ca9",
   "metadata": {},
   "source": [
    "# Load SRO"
   ]
  },
  {
   "cell_type": "code",
   "execution_count": 4,
   "id": "999a9aa4-2565-4e4e-9268-e8243e9dec0b",
   "metadata": {
    "execution": {
     "iopub.execute_input": "2025-03-12T03:24:46.769216Z",
     "iopub.status.busy": "2025-03-12T03:24:46.767675Z",
     "iopub.status.idle": "2025-03-12T03:24:46.778976Z",
     "shell.execute_reply": "2025-03-12T03:24:46.777172Z"
    }
   },
   "outputs": [],
   "source": [
    "# load SRO ####"
   ]
  },
  {
   "cell_type": "code",
   "execution_count": 7,
   "id": "38fe5549-49de-4ab6-bb9f-ab28a6bba1e3",
   "metadata": {
    "execution": {
     "iopub.execute_input": "2025-04-29T18:47:19.376180Z",
     "iopub.status.busy": "2025-04-29T18:47:19.375221Z",
     "iopub.status.idle": "2025-04-29T18:47:57.366977Z",
     "shell.execute_reply": "2025-04-29T18:47:57.364842Z"
    }
   },
   "outputs": [],
   "source": [
    "pref.sro <- \"Seurat/merged/\"; pref.p.sro <- \"plots/Seurat/merged/\"\n",
    "sro <- readRDS(paste0(pref.sro, \"SRO.rds\"))\n",
    "sro.ln <- readRDS(\"../TC_all_LN/results/SRO_subset.rds\")"
   ]
  },
  {
   "cell_type": "code",
   "execution_count": 14,
   "id": "bb3c71a4-bef2-4fca-a6bc-febc69861b46",
   "metadata": {
    "execution": {
     "iopub.execute_input": "2025-04-29T18:48:41.349576Z",
     "iopub.status.busy": "2025-04-29T18:48:41.348592Z",
     "iopub.status.idle": "2025-04-29T18:48:44.246790Z",
     "shell.execute_reply": "2025-04-29T18:48:44.245718Z"
    }
   },
   "outputs": [
    {
     "name": "stdout",
     "output_type": "stream",
     "text": [
      "[1] \"Run this before integration. It only changes obj@assays$RNA@counts, @data and @scale.data.\"\n"
     ]
    }
   ],
   "source": [
    "sro <- RenameGenesSeurat(sro, toupper(rownames(sro)))"
   ]
  },
  {
   "cell_type": "markdown",
   "id": "a3c571ee-4d72-467b-88af-181cdb649153",
   "metadata": {},
   "source": [
    "## TC module scores"
   ]
  },
  {
   "cell_type": "code",
   "execution_count": 10,
   "id": "30ee2ce5-fa59-4ae0-ac15-016735e6d426",
   "metadata": {
    "execution": {
     "iopub.execute_input": "2025-04-29T18:48:15.699187Z",
     "iopub.status.busy": "2025-04-29T18:48:15.698040Z",
     "iopub.status.idle": "2025-04-29T18:48:15.945162Z",
     "shell.execute_reply": "2025-04-29T18:48:15.943788Z"
    }
   },
   "outputs": [],
   "source": [
    "# load markers ####\n",
    "group.name <- \"RNA_snn_res.2\"\n",
    "fn <- paste0(group.name, \"-C6_12_17_27_28-FL\")\n",
    "markers.ln <- select.markers(\"TC-clusters\", output.dir = paste0('../TC_all_LN/results/markers/'))"
   ]
  },
  {
   "cell_type": "code",
   "execution_count": 11,
   "id": "73d5d0a5-ba3b-438c-a0dc-db7d3d445628",
   "metadata": {
    "execution": {
     "iopub.execute_input": "2025-04-29T18:48:17.541275Z",
     "iopub.status.busy": "2025-04-29T18:48:17.540142Z",
     "iopub.status.idle": "2025-04-29T18:48:17.564870Z",
     "shell.execute_reply": "2025-04-29T18:48:17.563647Z"
    }
   },
   "outputs": [],
   "source": [
    "tc1.markers.ln <- markers.ln[markers.ln$cluster == 3,]\n",
    "tc2.markers.ln <- markers.ln[markers.ln$cluster == 2,]\n",
    "tc3.markers.ln <- markers.ln[markers.ln$cluster == 1,]\n",
    "tc4.markers.ln <- markers.ln[markers.ln$cluster == 5,]\n",
    "ki_tc.markers.ln <- markers.ln[markers.ln$cluster == 7,]\n",
    "transitional.markers.ln <- markers.ln[markers.ln$cluster == 4,]"
   ]
  },
  {
   "cell_type": "code",
   "execution_count": 16,
   "id": "ea60732e-62ac-4c1e-8aa6-83ef65643e60",
   "metadata": {
    "execution": {
     "iopub.execute_input": "2025-04-29T18:49:00.774332Z",
     "iopub.status.busy": "2025-04-29T18:49:00.773384Z",
     "iopub.status.idle": "2025-04-29T18:49:00.801369Z",
     "shell.execute_reply": "2025-04-29T18:49:00.800379Z"
    }
   },
   "outputs": [
    {
     "data": {
      "text/html": [
       "152"
      ],
      "text/latex": [
       "152"
      ],
      "text/markdown": [
       "152"
      ],
      "text/plain": [
       "[1] 152"
      ]
     },
     "metadata": {},
     "output_type": "display_data"
    },
    {
     "data": {
      "text/html": [
       "153"
      ],
      "text/latex": [
       "153"
      ],
      "text/markdown": [
       "153"
      ],
      "text/plain": [
       "[1] 153"
      ]
     },
     "metadata": {},
     "output_type": "display_data"
    },
    {
     "data": {
      "text/html": [
       "198"
      ],
      "text/latex": [
       "198"
      ],
      "text/markdown": [
       "198"
      ],
      "text/plain": [
       "[1] 198"
      ]
     },
     "metadata": {},
     "output_type": "display_data"
    },
    {
     "data": {
      "text/html": [
       "217"
      ],
      "text/latex": [
       "217"
      ],
      "text/markdown": [
       "217"
      ],
      "text/plain": [
       "[1] 217"
      ]
     },
     "metadata": {},
     "output_type": "display_data"
    },
    {
     "data": {
      "text/html": [
       "289"
      ],
      "text/latex": [
       "289"
      ],
      "text/markdown": [
       "289"
      ],
      "text/plain": [
       "[1] 289"
      ]
     },
     "metadata": {},
     "output_type": "display_data"
    },
    {
     "data": {
      "text/html": [
       "83"
      ],
      "text/latex": [
       "83"
      ],
      "text/markdown": [
       "83"
      ],
      "text/plain": [
       "[1] 83"
      ]
     },
     "metadata": {},
     "output_type": "display_data"
    }
   ],
   "source": [
    "sum(toupper(tc1.markers.ln$gene) %in% rownames(sro))\n",
    "sum(toupper(tc2.markers.ln$gene) %in% rownames(sro))\n",
    "sum(toupper(tc3.markers.ln$gene) %in% rownames(sro))\n",
    "sum(toupper(tc4.markers.ln$gene) %in% rownames(sro))\n",
    "sum(toupper(ki_tc.markers.ln$gene) %in% rownames(sro))\n",
    "sum(toupper(transitional.markers.ln$gene) %in% rownames(sro))"
   ]
  },
  {
   "cell_type": "code",
   "execution_count": 17,
   "id": "c087ac12-4f2c-44bb-a455-9e26822923f4",
   "metadata": {
    "execution": {
     "iopub.execute_input": "2025-04-29T18:49:13.768818Z",
     "iopub.status.busy": "2025-04-29T18:49:13.767834Z",
     "iopub.status.idle": "2025-04-29T18:49:37.484223Z",
     "shell.execute_reply": "2025-04-29T18:49:37.483011Z"
    },
    "scrolled": true
   },
   "outputs": [
    {
     "name": "stderr",
     "output_type": "stream",
     "text": [
      "Warning message:\n",
      "“The following features are not present in the object: DLX3, not searching for symbol synonyms”\n"
     ]
    }
   ],
   "source": [
    "sro <- AddModuleScore(sro, list(toupper(transitional.markers.ln$gene)), name = \"transitional.markers\")\n",
    "sro <- AddModuleScore(sro, list(toupper(ki_tc.markers.ln$gene)), name = \"ki_tc.markers\")\n",
    "sro <- AddModuleScore(sro, list(toupper(tc1.markers.ln$gene)), name = \"tc1.markers\")\n",
    "sro <- AddModuleScore(sro, list(toupper(tc2.markers.ln$gene)), name = \"tc2.markers\")\n",
    "sro <- AddModuleScore(sro, list(toupper(tc3.markers.ln$gene)), name = \"tc3.markers\")\n",
    "sro <- AddModuleScore(sro, list(toupper(tc4.markers.ln$gene)), name = \"tc4.markers\")"
   ]
  },
  {
   "cell_type": "code",
   "execution_count": 18,
   "id": "0c6ee2af-a8d7-4c18-b5e2-639a1173ab8a",
   "metadata": {
    "execution": {
     "iopub.execute_input": "2025-04-29T18:49:49.662551Z",
     "iopub.status.busy": "2025-04-29T18:49:49.661615Z",
     "iopub.status.idle": "2025-04-29T18:49:49.675445Z",
     "shell.execute_reply": "2025-04-29T18:49:49.674463Z"
    }
   },
   "outputs": [
    {
     "data": {
      "text/html": [
       "'plots/Seurat/merged/'"
      ],
      "text/latex": [
       "'plots/Seurat/merged/'"
      ],
      "text/markdown": [
       "'plots/Seurat/merged/'"
      ],
      "text/plain": [
       "[1] \"plots/Seurat/merged/\""
      ]
     },
     "metadata": {},
     "output_type": "display_data"
    }
   ],
   "source": [
    "pref.p.sro"
   ]
  },
  {
   "cell_type": "code",
   "execution_count": 19,
   "id": "cb63ab66-0e18-4eb1-a9cc-f6c45c05edde",
   "metadata": {
    "execution": {
     "iopub.execute_input": "2025-04-29T18:49:50.878268Z",
     "iopub.status.busy": "2025-04-29T18:49:50.877324Z",
     "iopub.status.idle": "2025-04-29T18:49:50.888078Z",
     "shell.execute_reply": "2025-04-29T18:49:50.887078Z"
    }
   },
   "outputs": [],
   "source": [
    "dir.create(paste0(pref.p.sro, \"module-scores\"))"
   ]
  },
  {
   "cell_type": "code",
   "execution_count": 20,
   "id": "447d4618-97b2-494b-8b5a-536ac7788923",
   "metadata": {
    "execution": {
     "iopub.execute_input": "2025-04-29T18:49:53.600940Z",
     "iopub.status.busy": "2025-04-29T18:49:53.599977Z",
     "iopub.status.idle": "2025-04-29T18:49:53.610189Z",
     "shell.execute_reply": "2025-04-29T18:49:53.609178Z"
    }
   },
   "outputs": [],
   "source": [
    "f.w <- 12; f.h <- 10"
   ]
  },
  {
   "cell_type": "code",
   "execution_count": 23,
   "id": "b548b19d-2649-491b-88df-1d9db0e4f6e6",
   "metadata": {
    "execution": {
     "iopub.execute_input": "2025-04-29T18:50:59.670989Z",
     "iopub.status.busy": "2025-04-29T18:50:59.670031Z",
     "iopub.status.idle": "2025-04-29T18:51:04.164488Z",
     "shell.execute_reply": "2025-04-29T18:51:04.163413Z"
    }
   },
   "outputs": [
    {
     "data": {
      "text/html": [
       "<strong>pdf:</strong> 2"
      ],
      "text/latex": [
       "\\textbf{pdf:} 2"
      ],
      "text/markdown": [
       "**pdf:** 2"
      ],
      "text/plain": [
       "pdf \n",
       "  2 "
      ]
     },
     "metadata": {},
     "output_type": "display_data"
    },
    {
     "data": {
      "text/html": [
       "<strong>pdf:</strong> 2"
      ],
      "text/latex": [
       "\\textbf{pdf:} 2"
      ],
      "text/markdown": [
       "**pdf:** 2"
      ],
      "text/plain": [
       "pdf \n",
       "  2 "
      ]
     },
     "metadata": {},
     "output_type": "display_data"
    },
    {
     "data": {
      "text/html": [
       "<strong>pdf:</strong> 2"
      ],
      "text/latex": [
       "\\textbf{pdf:} 2"
      ],
      "text/markdown": [
       "**pdf:** 2"
      ],
      "text/plain": [
       "pdf \n",
       "  2 "
      ]
     },
     "metadata": {},
     "output_type": "display_data"
    },
    {
     "data": {
      "text/html": [
       "<strong>pdf:</strong> 2"
      ],
      "text/latex": [
       "\\textbf{pdf:} 2"
      ],
      "text/markdown": [
       "**pdf:** 2"
      ],
      "text/plain": [
       "pdf \n",
       "  2 "
      ]
     },
     "metadata": {},
     "output_type": "display_data"
    },
    {
     "data": {
      "text/html": [
       "<strong>pdf:</strong> 2"
      ],
      "text/latex": [
       "\\textbf{pdf:} 2"
      ],
      "text/markdown": [
       "**pdf:** 2"
      ],
      "text/plain": [
       "pdf \n",
       "  2 "
      ]
     },
     "metadata": {},
     "output_type": "display_data"
    },
    {
     "data": {
      "text/html": [
       "<strong>pdf:</strong> 2"
      ],
      "text/latex": [
       "\\textbf{pdf:} 2"
      ],
      "text/markdown": [
       "**pdf:** 2"
      ],
      "text/plain": [
       "pdf \n",
       "  2 "
      ]
     },
     "metadata": {},
     "output_type": "display_data"
    }
   ],
   "source": [
    "pdf(paste0(pref.p.sro, \"module-scores/UMAP-transitional_markers-from-TC_all_LN.pdf\"), width = f.w, height = f.h)\n",
    "print(plot.continuous.value(\n",
    "    sro, scale.color = scale.color,\n",
    "    vis = sro@reductions$umap@cell.embeddings,\n",
    "    idx = rownames(sro@meta.data), point.size = 1,\n",
    "    val = get.named.vector.sro(sro, paste0(\"transitional.markers1\")), val.name = 'module\\nscore') + ggtitle(\"transitional.markers\"))\n",
    "dev.off()\n",
    "\n",
    "pdf(paste0(pref.p.sro, \"module-scores/UMAP-TCI_markers-from-TC_all_LN.pdf\"), width = f.w, height = f.h)\n",
    "print(plot.continuous.value(\n",
    "    sro, scale.color = scale.color,\n",
    "    vis = sro@reductions$umap@cell.embeddings,\n",
    "    idx = rownames(sro@meta.data), point.size = 1,\n",
    "    val = get.named.vector.sro(sro, paste0(\"tc1.markers1\")), val.name = 'module\\nscore') + ggtitle(\"TC I markers\"))\n",
    "dev.off()\n",
    "\n",
    "pdf(paste0(pref.p.sro, \"module-scores/UMAP-TCII_markers-from-TC_all_LN.pdf\"), width = f.w, height = f.h)\n",
    "print(plot.continuous.value(\n",
    "    sro, scale.color = scale.color,\n",
    "    vis = sro@reductions$umap@cell.embeddings,\n",
    "    idx = rownames(sro@meta.data), point.size = 1,\n",
    "    val = get.named.vector.sro(sro, paste0(\"tc2.markers1\")), val.name = 'module\\nscore') + ggtitle(\"TC II markers\"))\n",
    "dev.off()\n",
    "\n",
    "pdf(paste0(pref.p.sro, \"module-scores/UMAP-TCIII_markers-from-TC_all_LN.pdf\"), width = f.w, height = f.h)\n",
    "print(plot.continuous.value(\n",
    "    sro, scale.color = scale.color,\n",
    "    vis = sro@reductions$umap@cell.embeddings,\n",
    "    idx = rownames(sro@meta.data), point.size = 1,\n",
    "    val = get.named.vector.sro(sro, paste0(\"tc3.markers1\")), val.name = 'module\\nscore') + ggtitle(\"TC III markers\"))\n",
    "dev.off()\n",
    "\n",
    "pdf(paste0(pref.p.sro, \"module-scores/UMAP-TCIV_markers-from-TC_all_LN.pdf\"), width = f.w, height = f.h)\n",
    "print(plot.continuous.value(\n",
    "    sro, scale.color = scale.color,\n",
    "    vis = sro@reductions$umap@cell.embeddings,\n",
    "    idx = rownames(sro@meta.data), point.size = 1,\n",
    "    val = get.named.vector.sro(sro, paste0(\"tc4.markers1\")), val.name = 'module\\nscore') + ggtitle(\"TC IV markers\"))\n",
    "dev.off()\n",
    "\n",
    "pdf(paste0(pref.p.sro, \"module-scores/UMAP-KI_TC_markers-from-TC_all_LN.pdf\"), width = f.w, height = f.h)\n",
    "print(plot.continuous.value(\n",
    "    sro, scale.color = scale.color,\n",
    "    vis = sro@reductions$umap@cell.embeddings,\n",
    "    idx = rownames(sro@meta.data), point.size = 1,\n",
    "    val = get.named.vector.sro(sro, paste0(\"ki_tc.markers1\")), val.name = 'module\\nscore') + ggtitle(\"Ki67+TC markers\"))\n",
    "dev.off()"
   ]
  }
 ],
 "metadata": {
  "kernelspec": {
   "display_name": "R [conda env:multiome]",
   "language": "R",
   "name": "conda-env-multiome-r"
  },
  "language_info": {
   "codemirror_mode": "r",
   "file_extension": ".r",
   "mimetype": "text/x-r-source",
   "name": "R",
   "pygments_lexer": "r",
   "version": "4.3.3"
  },
  "toc-autonumbering": true
 },
 "nbformat": 4,
 "nbformat_minor": 5
}
